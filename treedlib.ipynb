{
 "cells": [
  {
   "cell_type": "markdown",
   "metadata": {},
   "source": [
    "# TreeDLib"
   ]
  },
  {
   "cell_type": "code",
   "execution_count": 2,
   "metadata": {
    "collapsed": false
   },
   "outputs": [],
   "source": [
    "%load_ext autoreload\n",
    "%autoreload 2"
   ]
  },
  {
   "cell_type": "code",
   "execution_count": 3,
   "metadata": {
    "collapsed": false
   },
   "outputs": [
    {
     "name": "stderr",
     "output_type": "stream",
     "text": [
      "/usr/local/lib/python2.7/dist-packages/IPython/config.py:13: ShimWarning: The `IPython.config` package has been deprecated. You should import from traitlets.config instead.\n",
      "  \"You should import from traitlets.config instead.\", ShimWarning)\n",
      "/usr/local/lib/python2.7/dist-packages/IPython/utils/traitlets.py:5: UserWarning: IPython.utils.traitlets has moved to a top-level traitlets package.\n",
      "  warn(\"IPython.utils.traitlets has moved to a top-level traitlets package.\")\n"
     ]
    }
   ],
   "source": [
    "%load_ext sql"
   ]
  },
  {
   "cell_type": "code",
   "execution_count": 18,
   "metadata": {
    "collapsed": false
   },
   "outputs": [],
   "source": [
    "#from treedlib import *\n",
    "# Note: reloading for submodules doesn't work, so we load directly here\n",
    "from treedlib.util import *\n",
    "from treedlib.structs import *\n",
    "from treedlib.templates import *\n",
    "from treedlib.features import *\n",
    "import lxml.etree as et"
   ]
  },
  {
   "cell_type": "markdown",
   "metadata": {},
   "source": [
    "We define three classes of operators:\n",
    "* _NodeSets:_ $S : 2^T \\mapsto 2^T$\n",
    "* _Indicators:_ $I : 2^T \\mapsto \\{0,1\\}^F$\n",
    "* _Combinators:_ $C : \\{0,1\\}^F \\times \\{0,1\\}^F \\mapsto \\{0,1\\}^F$\n",
    "\n",
    "where $T$ is a given input tree, and $F$ is the dimension of the feature space."
   ]
  },
  {
   "cell_type": "markdown",
   "metadata": {},
   "source": [
    "## Genomics debugging"
   ]
  },
  {
   "cell_type": "code",
   "execution_count": 5,
   "metadata": {
    "collapsed": false
   },
   "outputs": [
    {
     "data": {
      "text/plain": [
       "u'Connected: ajratner@genomics_ajratner'"
      ]
     },
     "execution_count": 5,
     "metadata": {},
     "output_type": "execute_result"
    }
   ],
   "source": [
    "%sql postgresql://ajratner@localhost:6432/genomics_ajratner"
   ]
  },
  {
   "cell_type": "code",
   "execution_count": 6,
   "metadata": {
    "collapsed": false
   },
   "outputs": [
    {
     "name": "stdout",
     "output_type": "stream",
     "text": [
      "1 rows affected.\n",
      "The dHMN V/CMT2D phenotype has subsequently been shown to be more commonly due to mutations in the _ BSCL2 _ gene , -LRB- -RRB- which usually causes Silver syndrome -LRB- spastic legs and distal amyotrophy of the upper limbs -RRB- but can present -LRB- in 33 % of cases -RRB- with just amyotrophy of the upper limbs .\n"
     ]
    }
   ],
   "source": [
    "res = %sql SELECT words FROM sentences_input WHERE doc_id = '20142852' AND section_id = 'Body.0' AND sent_id = 107;\n",
    "print ' '.join(res[0][0].split('|^|'))"
   ]
  },
  {
   "cell_type": "code",
   "execution_count": 7,
   "metadata": {
    "collapsed": false
   },
   "outputs": [
    {
     "name": "stdout",
     "output_type": "stream",
     "text": [
      "1 rows affected.\n"
     ]
    }
   ],
   "source": [
    "res = %sql SELECT words, lemmas, poses, ners, dep_paths AS \"dep_labels\", dep_parents FROM sentences_input WHERE doc_id = '20142852' AND section_id = 'Body.0' AND sent_id = 107;\n",
    "rows = [dict((k, v.split('|^|')) for k,v in dict(row).iteritems()) for row in res]\n",
    "xts = map(corenlp_to_xmltree, rows)"
   ]
  },
  {
   "cell_type": "code",
   "execution_count": 8,
   "metadata": {
    "collapsed": false
   },
   "outputs": [
    {
     "name": "stdout",
     "output_type": "stream",
     "text": [
      "5 rows affected.\n"
     ]
    },
    {
     "data": {
      "text/html": [
       "<table>\n",
       "    <tr>\n",
       "        <th>gene_wordidxs</th>\n",
       "        <th>pheno_wordidxs</th>\n",
       "    </tr>\n",
       "    <tr>\n",
       "        <td>[18]</td>\n",
       "        <td>[34, 35, 36, 37, 38]</td>\n",
       "    </tr>\n",
       "    <tr>\n",
       "        <td>[18]</td>\n",
       "        <td>[33, 34, 35, 36, 37, 38]</td>\n",
       "    </tr>\n",
       "    <tr>\n",
       "        <td>[18]</td>\n",
       "        <td>[52, 53, 54, 55, 56]</td>\n",
       "    </tr>\n",
       "    <tr>\n",
       "        <td>[18]</td>\n",
       "        <td>[52]</td>\n",
       "    </tr>\n",
       "    <tr>\n",
       "        <td>[18]</td>\n",
       "        <td>[33, 34]</td>\n",
       "    </tr>\n",
       "</table>"
      ],
      "text/plain": [
       "[([18], [34, 35, 36, 37, 38]),\n",
       " ([18], [33, 34, 35, 36, 37, 38]),\n",
       " ([18], [52, 53, 54, 55, 56]),\n",
       " ([18], [52]),\n",
       " ([18], [33, 34])]"
      ]
     },
     "execution_count": 8,
     "metadata": {},
     "output_type": "execute_result"
    }
   ],
   "source": [
    "%%sql\n",
    "SELECT gene_wordidxs, pheno_wordidxs\n",
    "FROM genepheno_causation\n",
    "WHERE doc_id = '20142852' AND section_id = 'Body.0' AND sent_id = 107;"
   ]
  },
  {
   "cell_type": "code",
   "execution_count": 9,
   "metadata": {
    "collapsed": true
   },
   "outputs": [],
   "source": [
    "gidxs = [18]\n",
    "pidxs = [52, 53, 54, 55, 56]"
   ]
  },
  {
   "cell_type": "code",
   "execution_count": 10,
   "metadata": {
    "collapsed": false
   },
   "outputs": [
    {
     "data": {
      "text/html": [
       "<style>\n",
       ".node {\n",
       "  cursor: pointer;\n",
       "}\n",
       "\n",
       ".node circle {\n",
       "  fill: #fff;\n",
       "  stroke: steelblue;\n",
       "  stroke-width: 3px;\n",
       "}\n",
       "\n",
       ".node text {\n",
       "  font: 12px sans-serif;\n",
       "}\n",
       "\n",
       ".edge {\n",
       "  fill: none;\n",
       "  stroke: #ccc;\n",
       "  stroke-width: 2px;\n",
       "  cursor: pointer;\n",
       "}\n",
       "\n",
       ".highlight {\n",
       "  stroke: red;\n",
       "  stroke-width: 3px;\n",
       "}\n",
       "</style>\n",
       "\n",
       "<!--Provide the canvas id (twice) and the words via python string formatting here--!>\n",
       "<div id=\"tree-chart-4144329359803590277\"></div>\n",
       "<div id=\"raw-seq-4144329359803590277\">\n",
       "<span class=\"word-4144329359803590277-0\">The</span> <span class=\"word-4144329359803590277-1\">dHMN</span> <span class=\"word-4144329359803590277-2\">V/CMT2D</span> <span class=\"word-4144329359803590277-3\">phenotype</span> <span class=\"word-4144329359803590277-4\">has</span> <span class=\"word-4144329359803590277-5\">subsequently</span> <span class=\"word-4144329359803590277-6\">been</span> <span class=\"word-4144329359803590277-7\">shown</span> <span class=\"word-4144329359803590277-8\">to</span> <span class=\"word-4144329359803590277-9\">be</span> <span class=\"word-4144329359803590277-10\">more</span> <span class=\"word-4144329359803590277-11\">commonly</span> <span class=\"word-4144329359803590277-12\">due</span> <span class=\"word-4144329359803590277-13\">to</span> <span class=\"word-4144329359803590277-14\">mutations</span> <span class=\"word-4144329359803590277-15\">in</span> <span class=\"word-4144329359803590277-16\">the</span> <span class=\"word-4144329359803590277-17\">_</span> <span class=\"word-4144329359803590277-18\">BSCL2</span> <span class=\"word-4144329359803590277-19\">_</span> <span class=\"word-4144329359803590277-20\">gene</span> <span class=\"word-4144329359803590277-21\">,</span> <span class=\"word-4144329359803590277-22\">-LRB-</span> <span class=\"word-4144329359803590277-23\">-RRB-</span> <span class=\"word-4144329359803590277-24\">which</span> <span class=\"word-4144329359803590277-25\">usually</span> <span class=\"word-4144329359803590277-26\">causes</span> <span class=\"word-4144329359803590277-27\">Silver</span> <span class=\"word-4144329359803590277-28\">syndrome</span> <span class=\"word-4144329359803590277-29\">-LRB-</span> <span class=\"word-4144329359803590277-30\">spastic</span> <span class=\"word-4144329359803590277-31\">legs</span> <span class=\"word-4144329359803590277-32\">and</span> <span class=\"word-4144329359803590277-33\">distal</span> <span class=\"word-4144329359803590277-34\">amyotrophy</span> <span class=\"word-4144329359803590277-35\">of</span> <span class=\"word-4144329359803590277-36\">the</span> <span class=\"word-4144329359803590277-37\">upper</span> <span class=\"word-4144329359803590277-38\">limbs</span> <span class=\"word-4144329359803590277-39\">-RRB-</span> <span class=\"word-4144329359803590277-40\">but</span> <span class=\"word-4144329359803590277-41\">can</span> <span class=\"word-4144329359803590277-42\">present</span> <span class=\"word-4144329359803590277-43\">-LRB-</span> <span class=\"word-4144329359803590277-44\">in</span> <span class=\"word-4144329359803590277-45\">33</span> <span class=\"word-4144329359803590277-46\">%</span> <span class=\"word-4144329359803590277-47\">of</span> <span class=\"word-4144329359803590277-48\">cases</span> <span class=\"word-4144329359803590277-49\">-RRB-</span> <span class=\"word-4144329359803590277-50\">with</span> <span class=\"word-4144329359803590277-51\">just</span> <span class=\"word-4144329359803590277-52\">amyotrophy</span> <span class=\"word-4144329359803590277-53\">of</span> <span class=\"word-4144329359803590277-54\">the</span> <span class=\"word-4144329359803590277-55\">upper</span> <span class=\"word-4144329359803590277-56\">limbs</span> <span class=\"word-4144329359803590277-57\">.</span>\n",
       "</div>\n"
      ]
     },
     "metadata": {},
     "output_type": "display_data"
    },
    {
     "data": {
      "application/javascript": [
       "$.getScript(\"http://d3js.org/d3.v3.min.js\", function () {\n",
       "// See http://bl.ocks.org/d3noob/8375092\n",
       "// Three vars need to be provided via python string formatting:\n",
       "var chartId = \"4144329359803590277\";\n",
       "var root = {\"attrib\": {\"word\": \"shown\", \"dep_parent\": \"0\", \"dep_label\": \"\", \"pos\": \"VBN\", \"lemma\": \"show\", \"word_idx\": \"7\", \"ner\": \"O\"}, \"children\": [{\"attrib\": {\"word\": \"phenotype\", \"dep_parent\": \"8\", \"dep_label\": \"nsubjpass\", \"pos\": \"NN\", \"lemma\": \"phenotype\", \"word_idx\": \"3\", \"ner\": \"O\"}, \"children\": [{\"attrib\": {\"word\": \"The\", \"dep_parent\": \"4\", \"dep_label\": \"det\", \"pos\": \"DT\", \"lemma\": \"the\", \"word_idx\": \"0\", \"ner\": \"O\"}, \"children\": []}, {\"attrib\": {\"word\": \"dHMN\", \"dep_parent\": \"4\", \"dep_label\": \"nn\", \"pos\": \"NN\", \"lemma\": \"dhmn\", \"word_idx\": \"1\", \"ner\": \"O\"}, \"children\": []}, {\"attrib\": {\"word\": \"V/CMT2D\", \"dep_parent\": \"4\", \"dep_label\": \"nn\", \"pos\": \"NN\", \"lemma\": \"v/cmt2d\", \"word_idx\": \"2\", \"ner\": \"O\"}, \"children\": []}]}, {\"attrib\": {\"word\": \"has\", \"dep_parent\": \"8\", \"dep_label\": \"aux\", \"pos\": \"VBZ\", \"lemma\": \"have\", \"word_idx\": \"4\", \"ner\": \"O\"}, \"children\": []}, {\"attrib\": {\"word\": \"subsequently\", \"dep_parent\": \"8\", \"dep_label\": \"advmod\", \"pos\": \"RB\", \"lemma\": \"subsequently\", \"word_idx\": \"5\", \"ner\": \"O\"}, \"children\": []}, {\"attrib\": {\"word\": \"been\", \"dep_parent\": \"8\", \"dep_label\": \"auxpass\", \"pos\": \"VBN\", \"lemma\": \"be\", \"word_idx\": \"6\", \"ner\": \"O\"}, \"children\": []}, {\"attrib\": {\"word\": \"due\", \"dep_parent\": \"8\", \"dep_label\": \"xcomp\", \"pos\": \"JJ\", \"lemma\": \"due\", \"word_idx\": \"12\", \"ner\": \"O\"}, \"children\": [{\"attrib\": {\"word\": \"to\", \"dep_parent\": \"13\", \"dep_label\": \"aux\", \"pos\": \"TO\", \"lemma\": \"to\", \"word_idx\": \"8\", \"ner\": \"O\"}, \"children\": []}, {\"attrib\": {\"word\": \"be\", \"dep_parent\": \"13\", \"dep_label\": \"cop\", \"pos\": \"VB\", \"lemma\": \"be\", \"word_idx\": \"9\", \"ner\": \"O\"}, \"children\": []}, {\"attrib\": {\"word\": \"commonly\", \"dep_parent\": \"13\", \"dep_label\": \"advmod\", \"pos\": \"RB\", \"lemma\": \"commonly\", \"word_idx\": \"11\", \"ner\": \"O\"}, \"children\": [{\"attrib\": {\"word\": \"more\", \"dep_parent\": \"12\", \"dep_label\": \"advmod\", \"pos\": \"RBR\", \"lemma\": \"more\", \"word_idx\": \"10\", \"ner\": \"O\"}, \"children\": []}]}, {\"attrib\": {\"word\": \"mutations\", \"dep_parent\": \"13\", \"dep_label\": \"prep_to\", \"pos\": \"NNS\", \"lemma\": \"mutation\", \"word_idx\": \"14\", \"ner\": \"O\"}, \"children\": [{\"attrib\": {\"word\": \"gene\", \"dep_parent\": \"15\", \"dep_label\": \"prep_in\", \"pos\": \"NN\", \"lemma\": \"gene\", \"word_idx\": \"20\", \"ner\": \"O\"}, \"children\": [{\"attrib\": {\"word\": \"the\", \"dep_parent\": \"21\", \"dep_label\": \"det\", \"pos\": \"DT\", \"lemma\": \"the\", \"word_idx\": \"16\", \"ner\": \"O\"}, \"children\": []}, {\"attrib\": {\"word\": \"_\", \"dep_parent\": \"21\", \"dep_label\": \"num\", \"pos\": \"CD\", \"lemma\": \"_\", \"word_idx\": \"17\", \"ner\": \"NUMBER\"}, \"children\": []}, {\"attrib\": {\"word\": \"BSCL2\", \"dep_parent\": \"21\", \"dep_label\": \"nn\", \"pos\": \"NN\", \"lemma\": \"bscl2\", \"word_idx\": \"18\", \"ner\": \"O\"}, \"children\": []}, {\"attrib\": {\"word\": \"_\", \"dep_parent\": \"21\", \"dep_label\": \"nn\", \"pos\": \"NN\", \"lemma\": \"_\", \"word_idx\": \"19\", \"ner\": \"O\"}, \"children\": []}, {\"attrib\": {\"word\": \"causes\", \"dep_parent\": \"21\", \"dep_label\": \"rcmod\", \"pos\": \"VBZ\", \"lemma\": \"cause\", \"word_idx\": \"26\", \"ner\": \"O\"}, \"children\": [{\"attrib\": {\"word\": \"which\", \"dep_parent\": \"27\", \"dep_label\": \"nsubj\", \"pos\": \"WDT\", \"lemma\": \"which\", \"word_idx\": \"24\", \"ner\": \"O\"}, \"children\": []}, {\"attrib\": {\"word\": \"usually\", \"dep_parent\": \"27\", \"dep_label\": \"advmod\", \"pos\": \"RB\", \"lemma\": \"usually\", \"word_idx\": \"25\", \"ner\": \"O\"}, \"children\": []}, {\"attrib\": {\"word\": \"syndrome\", \"dep_parent\": \"27\", \"dep_label\": \"dobj\", \"pos\": \"NN\", \"lemma\": \"syndrome\", \"word_idx\": \"28\", \"ner\": \"O\"}, \"children\": [{\"attrib\": {\"word\": \"Silver\", \"dep_parent\": \"29\", \"dep_label\": \"amod\", \"pos\": \"JJ\", \"lemma\": \"silver\", \"word_idx\": \"27\", \"ner\": \"O\"}, \"children\": []}, {\"attrib\": {\"word\": \"legs\", \"dep_parent\": \"29\", \"dep_label\": \"dep\", \"pos\": \"NNS\", \"lemma\": \"leg\", \"word_idx\": \"31\", \"ner\": \"O\"}, \"children\": [{\"attrib\": {\"word\": \"spastic\", \"dep_parent\": \"32\", \"dep_label\": \"amod\", \"pos\": \"JJ\", \"lemma\": \"spastic\", \"word_idx\": \"30\", \"ner\": \"O\"}, \"children\": []}, {\"attrib\": {\"word\": \"amyotrophy\", \"dep_parent\": \"32\", \"dep_label\": \"conj_and\", \"pos\": \"NN\", \"lemma\": \"amyotrophy\", \"word_idx\": \"34\", \"ner\": \"O\"}, \"children\": [{\"attrib\": {\"word\": \"distal\", \"dep_parent\": \"35\", \"dep_label\": \"amod\", \"pos\": \"JJ\", \"lemma\": \"distal\", \"word_idx\": \"33\", \"ner\": \"O\"}, \"children\": []}, {\"attrib\": {\"word\": \"limbs\", \"dep_parent\": \"35\", \"dep_label\": \"prep_of\", \"pos\": \"NNS\", \"lemma\": \"limb\", \"word_idx\": \"38\", \"ner\": \"O\"}, \"children\": [{\"attrib\": {\"word\": \"the\", \"dep_parent\": \"39\", \"dep_label\": \"det\", \"pos\": \"DT\", \"lemma\": \"the\", \"word_idx\": \"36\", \"ner\": \"O\"}, \"children\": []}, {\"attrib\": {\"word\": \"upper\", \"dep_parent\": \"39\", \"dep_label\": \"amod\", \"pos\": \"JJ\", \"lemma\": \"upper\", \"word_idx\": \"37\", \"ner\": \"O\"}, \"children\": []}]}]}]}]}, {\"attrib\": {\"word\": \"present\", \"dep_parent\": \"27\", \"dep_label\": \"conj_but\", \"pos\": \"VB\", \"lemma\": \"present\", \"word_idx\": \"42\", \"ner\": \"DATE\"}, \"children\": [{\"attrib\": {\"word\": \"can\", \"dep_parent\": \"43\", \"dep_label\": \"aux\", \"pos\": \"MD\", \"lemma\": \"can\", \"word_idx\": \"41\", \"ner\": \"O\"}, \"children\": []}, {\"attrib\": {\"word\": \"%\", \"dep_parent\": \"43\", \"dep_label\": \"prep_in\", \"pos\": \"NN\", \"lemma\": \"%\", \"word_idx\": \"46\", \"ner\": \"PERCENT\"}, \"children\": [{\"attrib\": {\"word\": \"33\", \"dep_parent\": \"47\", \"dep_label\": \"num\", \"pos\": \"CD\", \"lemma\": \"33\", \"word_idx\": \"45\", \"ner\": \"PERCENT\"}, \"children\": []}, {\"attrib\": {\"word\": \"cases\", \"dep_parent\": \"47\", \"dep_label\": \"prep_of\", \"pos\": \"NNS\", \"lemma\": \"case\", \"word_idx\": \"48\", \"ner\": \"O\"}, \"children\": []}]}, {\"attrib\": {\"word\": \"amyotrophy\", \"dep_parent\": \"43\", \"dep_label\": \"prep_with\", \"pos\": \"NN\", \"lemma\": \"amyotrophy\", \"word_idx\": \"52\", \"ner\": \"O\"}, \"children\": [{\"attrib\": {\"word\": \"just\", \"dep_parent\": \"53\", \"dep_label\": \"advmod\", \"pos\": \"RB\", \"lemma\": \"just\", \"word_idx\": \"51\", \"ner\": \"O\"}, \"children\": []}, {\"attrib\": {\"word\": \"limbs\", \"dep_parent\": \"53\", \"dep_label\": \"prep_of\", \"pos\": \"NNS\", \"lemma\": \"limb\", \"word_idx\": \"56\", \"ner\": \"O\"}, \"children\": [{\"attrib\": {\"word\": \"the\", \"dep_parent\": \"57\", \"dep_label\": \"det\", \"pos\": \"DT\", \"lemma\": \"the\", \"word_idx\": \"54\", \"ner\": \"O\"}, \"children\": []}, {\"attrib\": {\"word\": \"upper\", \"dep_parent\": \"57\", \"dep_label\": \"amod\", \"pos\": \"JJ\", \"lemma\": \"upper\", \"word_idx\": \"55\", \"ner\": \"O\"}, \"children\": []}]}]}]}]}]}]}]}]};\n",
       "var highlightIdxs = [[18], [52, 53, 54, 55, 56]];\n",
       "\n",
       "// Highlight words / nodes\n",
       "var COLORS = [\"#ff5c33\", \"#ffcc00\", \"#33cc33\", \"#3399ff\"];\n",
       "function highlightWords() {\n",
       "  for (var i=0; i < highlightIdxs.length; i++) {\n",
       "    var c = COLORS[i];\n",
       "    var idxs = highlightIdxs[i];\n",
       "    for (var j=0; j < idxs.length; j++) {\n",
       "      d3.selectAll(\".word-\"+chartId+\"-\"+idxs[j]).style(\"stroke\", c).style(\"background\", c);\n",
       "    }\n",
       "  }\n",
       "}\n",
       "\n",
       "// Constants\n",
       "var margin = {top: 20, right: 20, bottom: 20, left: 20},\n",
       "width = 800 - margin.left - margin.right,\n",
       "height = 350 - margin.top - margin.bottom,\n",
       "R = 5;\n",
       "\n",
       "// Create the d3 tree object\n",
       "var tree = d3.layout.tree()\n",
       "  .size([width, height]);\n",
       "\n",
       "// Create the svg canvas\n",
       "var svg = d3.select(\"#tree-chart-\" + chartId)\n",
       "  .append(\"svg\")\n",
       "  .attr(\"width\", width + margin.left + margin.right)\n",
       "  .attr(\"height\", height + margin.top + margin.bottom)\n",
       "  .append(\"g\")\n",
       "  .attr(\"transform\", \"translate(\" + margin.left + \",\" + margin.top + \")\");\n",
       "\n",
       "function renderTree() {\n",
       "  var nodes = tree.nodes(root),\n",
       "  edges = tree.links(nodes);\n",
       "\n",
       "  // Place the nodes\n",
       "  var nodeGroups = svg.selectAll(\"g.node\")\n",
       "    .data(nodes)\n",
       "    .enter().append(\"g\")\n",
       "    .attr(\"class\", \"node\")\n",
       "    .attr(\"transform\", function(d) { return \"translate(\" + d.x + \",\" + d.y + \")\"; });\n",
       "       \n",
       "  // Append circles\n",
       "  nodeGroups.append(\"circle\")\n",
       "    //.on(\"click\", function() {\n",
       "    //  d3.select(this).classed(\"highlight\", !d3.select(this).classed(\"highlight\")); })\n",
       "    .attr(\"r\", R)\n",
       "    .attr(\"class\", function(d) { return \"word-\"+chartId+\"-\"+d.attrib.word_idx; });\n",
       "     \n",
       "  // Append the actual word\n",
       "  nodeGroups.append(\"text\")\n",
       "    .text(function(d) { return d.attrib.word; })\n",
       "    .attr(\"text-anchor\", function(d) { \n",
       "      return d.children && d.children.length > 0 ? \"start\" : \"middle\"; })\n",
       "    .attr(\"dx\", function(d) { \n",
       "      return d.children && d.children.length > 0 ? R + 3 : 0; })\n",
       "    .attr(\"dy\", function(d) { \n",
       "      return d.children && d.children.length > 0 ? 0 : 3*R + 3; });\n",
       "\n",
       "  // Place the edges\n",
       "  var edgePaths = svg.selectAll(\"path\")\n",
       "    .data(edges)\n",
       "    .enter().append(\"path\")\n",
       "    .attr(\"class\", \"edge\")\n",
       "    .on(\"click\", function() {\n",
       "      d3.select(this).classed(\"highlight\", !d3.select(this).classed(\"highlight\")); })\n",
       "    .attr(\"d\", d3.svg.diagonal());\n",
       "}\n",
       "\n",
       "renderTree();\n",
       "highlightWords();\n",
       "});\n"
      ]
     },
     "metadata": {},
     "output_type": "display_data"
    }
   ],
   "source": [
    "xt = xts[0]\n",
    "xt.render_tree(highlight=[gidxs, pidxs])"
   ]
  },
  {
   "cell_type": "code",
   "execution_count": 11,
   "metadata": {
    "collapsed": false
   },
   "outputs": [
    {
     "name": "stdout",
     "output_type": "stream",
     "text": [
      "WORD:BETWEEN-MENTION-and-MENTION[gene_causes_present]\n"
     ]
    }
   ],
   "source": [
    "Indicator(Between(Mention(0), Mention(1)), 'word').print_apply(xt.root, [gidxs, pidxs])"
   ]
  },
  {
   "cell_type": "code",
   "execution_count": 12,
   "metadata": {
    "collapsed": false
   },
   "outputs": [
    {
     "data": {
      "text/plain": [
       "True"
      ]
     },
     "execution_count": 12,
     "metadata": {},
     "output_type": "execute_result"
    }
   ],
   "source": [
    "op = (Indicator(Between(Mention(0), Mention(1)), a) for a in ['word','dep_path'])\n",
    "hasattr(op, '__iter__')"
   ]
  },
  {
   "cell_type": "code",
   "execution_count": 13,
   "metadata": {
    "collapsed": false
   },
   "outputs": [],
   "source": [
    "c = Compile([(Indicator(Between(Mention(0), Mention(1)), a) for a in ['word','dep_path'])])"
   ]
  },
  {
   "cell_type": "code",
   "execution_count": 17,
   "metadata": {
    "collapsed": false
   },
   "outputs": [
    {
     "data": {
      "text/plain": [
       "<Indicator:word:BETWEEN-MENTION-and-MENTION, xpath=\"//*[{0}][1]/ancestor-or-self::*[count(. | //*[{1}][1]/ancestor-or-self::*) = count(//*[{1}][1]/ancestor-or-self::*)][1]/descendant-or-self::*[(count(.//*[{0}]) = count(//*[{0}])) or (count(.//*[{1}]) = count(//*[{1}]))]\">\n",
       "<Indicator:dep_path:BETWEEN-MENTION-and-MENTION, xpath=\"//*[{0}][1]/ancestor-or-self::*[count(. | //*[{1}][1]/ancestor-or-self::*) = count(//*[{1}][1]/ancestor-or-self::*)][1]/descendant-or-self::*[(count(.//*[{0}]) = count(//*[{0}])) or (count(.//*[{1}]) = count(//*[{1}]))]\">"
      ]
     },
     "execution_count": 17,
     "metadata": {},
     "output_type": "execute_result"
    }
   ],
   "source": [
    "c"
   ]
  },
  {
   "cell_type": "code",
   "execution_count": 19,
   "metadata": {
    "collapsed": false
   },
   "outputs": [
    {
     "name": "stdout",
     "output_type": "stream",
     "text": [
      "WORD:BETWEEN-MENTION-and-MENTION[gene_causes_present]\n",
      "LEMMA:BETWEEN-MENTION-and-MENTION[gene_cause_present]\n",
      "POS:BETWEEN-MENTION-and-MENTION[NN_VBZ_VB]\n",
      "NER:BETWEEN-MENTION-and-MENTION[O_O_DATE]\n",
      "DEP_LABEL:BETWEEN-MENTION-and-MENTION[prep_in_rcmod_conj_but]\n",
      "WORD:BETWEEN-MENTION-and-MENTION[gene_causes]\n",
      "WORD:BETWEEN-MENTION-and-MENTION[causes_present]\n",
      "WORD:BETWEEN-MENTION-and-MENTION[gene_causes_present]\n",
      "LEMMA:BETWEEN-MENTION-and-MENTION[gene_cause]\n",
      "LEMMA:BETWEEN-MENTION-and-MENTION[cause_present]\n",
      "LEMMA:BETWEEN-MENTION-and-MENTION[gene_cause_present]\n",
      "POS:BETWEEN-MENTION-and-MENTION[NN_VBZ]\n",
      "POS:BETWEEN-MENTION-and-MENTION[VBZ_VB]\n",
      "POS:BETWEEN-MENTION-and-MENTION[NN_VBZ_VB]\n",
      "NER:BETWEEN-MENTION-and-MENTION[O_O]\n",
      "NER:BETWEEN-MENTION-and-MENTION[O_DATE]\n",
      "NER:BETWEEN-MENTION-and-MENTION[O_O_DATE]\n",
      "DEP_LABEL:BETWEEN-MENTION-and-MENTION[prep_in_rcmod]\n",
      "DEP_LABEL:BETWEEN-MENTION-and-MENTION[rcmod_conj_but]\n",
      "DEP_LABEL:BETWEEN-MENTION-and-MENTION[prep_in_rcmod_conj_but]\n",
      "LEMMA:FILTER-BY(pos=VB):BETWEEN-MENTION-and-MENTION[cause]\n",
      "LEMMA:FILTER-BY(pos=VB):BETWEEN-MENTION-and-MENTION[present]\n",
      "LEMMA:FILTER-BY(pos=VB):BETWEEN-MENTION-and-MENTION[cause_present]\n",
      "WORD:LEFT-OF-MENTION[the__]\n",
      "WORD:LEFT-OF-MENTION[_]\n",
      "LEMMA:LEFT-OF-MENTION[the__]\n",
      "LEMMA:LEFT-OF-MENTION[_]\n",
      "POS:LEFT-OF-MENTION[DT_CD]\n",
      "POS:LEFT-OF-MENTION[CD]\n",
      "NER:LEFT-OF-MENTION[O_NUMBER]\n",
      "NER:LEFT-OF-MENTION[NUMBER]\n",
      "DEP_LABEL:LEFT-OF-MENTION[det_num]\n",
      "DEP_LABEL:LEFT-OF-MENTION[num]\n",
      "WORD:LEFT-OF-MENTION[can_%_just]\n",
      "WORD:LEFT-OF-MENTION[%_just]\n",
      "WORD:LEFT-OF-MENTION[just]\n",
      "LEMMA:LEFT-OF-MENTION[can_%_just]\n",
      "LEMMA:LEFT-OF-MENTION[%_just]\n",
      "LEMMA:LEFT-OF-MENTION[just]\n",
      "POS:LEFT-OF-MENTION[MD_NN_RB]\n",
      "POS:LEFT-OF-MENTION[NN_RB]\n",
      "POS:LEFT-OF-MENTION[RB]\n",
      "NER:LEFT-OF-MENTION[O_PERCENT_O]\n",
      "NER:LEFT-OF-MENTION[PERCENT_O]\n",
      "NER:LEFT-OF-MENTION[O]\n",
      "DEP_LABEL:LEFT-OF-MENTION[aux_prep_in_advmod]\n",
      "DEP_LABEL:LEFT-OF-MENTION[prep_in_advmod]\n",
      "DEP_LABEL:LEFT-OF-MENTION[advmod]\n",
      "WORD:RIGHT-OF-MENTION[_]\n",
      "WORD:RIGHT-OF-MENTION[__causes]\n",
      "LEMMA:RIGHT-OF-MENTION[_]\n",
      "LEMMA:RIGHT-OF-MENTION[__cause]\n",
      "POS:RIGHT-OF-MENTION[NN]\n",
      "POS:RIGHT-OF-MENTION[NN_VBZ]\n",
      "NER:RIGHT-OF-MENTION[O]\n",
      "NER:RIGHT-OF-MENTION[O_O]\n",
      "DEP_LABEL:RIGHT-OF-MENTION[nn]\n",
      "DEP_LABEL:RIGHT-OF-MENTION[nn_rcmod]\n",
      "WORD:LEFT-OF-MENTION[can_%_just]\n",
      "WORD:LEFT-OF-MENTION[%_just]\n",
      "WORD:LEFT-OF-MENTION[just]\n",
      "LEMMA:LEFT-OF-MENTION[can_%_just]\n",
      "LEMMA:LEFT-OF-MENTION[%_just]\n",
      "LEMMA:LEFT-OF-MENTION[just]\n",
      "POS:LEFT-OF-MENTION[MD_NN_RB]\n",
      "POS:LEFT-OF-MENTION[NN_RB]\n",
      "POS:LEFT-OF-MENTION[RB]\n",
      "NER:LEFT-OF-MENTION[O_PERCENT_O]\n",
      "NER:LEFT-OF-MENTION[PERCENT_O]\n",
      "NER:LEFT-OF-MENTION[O]\n",
      "DEP_LABEL:LEFT-OF-MENTION[aux_prep_in_advmod]\n",
      "DEP_LABEL:LEFT-OF-MENTION[prep_in_advmod]\n",
      "DEP_LABEL:LEFT-OF-MENTION[advmod]\n"
     ]
    }
   ],
   "source": [
    "print_gen(get_relation_features(xt.root, gidxs, pidxs))"
   ]
  },
  {
   "cell_type": "markdown",
   "metadata": {},
   "source": [
    "# TODO: Why not working?  Highlight mentions in chart & text!\n",
    "\n",
    "* Fix this!\n",
    "* _Features to add:_\n",
    "    * `INV_`?\n",
    "    * Parent\n",
    "    * lemma+dep_path\n",
    "    * candidates in between?\n",
    "    * Better way to do siblings, when siblings have children...?\n",
    "    * Modifiers before e.g. \"We investigated whether...\" / NEGATIONS (see Johannes's email / list)"
   ]
  },
  {
   "cell_type": "markdown",
   "metadata": {},
   "source": [
    "## Debugging pipeline\n",
    "\n",
    "We'll debug here, also to show the general most current procedure for debugging treedlib on examples in a SQL database (e.g. from DeepDive)"
   ]
  },
  {
   "cell_type": "code",
   "execution_count": null,
   "metadata": {
    "collapsed": false
   },
   "outputs": [],
   "source": [
    "%sql postgresql://ajratner@localhost:5432/deepdive_spouse"
   ]
  },
  {
   "cell_type": "code",
   "execution_count": null,
   "metadata": {
    "collapsed": false,
    "scrolled": true
   },
   "outputs": [],
   "source": [
    "%%sql \n",
    "SELECT sentence_text\n",
    "FROM sentences \n",
    "WHERE doc_id = '79205745-b593-4b98-8a94-da6b8238fefc' AND sentence_index = 32;"
   ]
  },
  {
   "cell_type": "code",
   "execution_count": null,
   "metadata": {
    "collapsed": false
   },
   "outputs": [],
   "source": [
    "res = %sql SELECT tokens AS \"words\", lemmas, pos_tags, ner_tags, dep_types AS \"dep_labels\", dep_tokens AS \"dep_parents\" FROM sentences WHERE doc_id = '79205745-b593-4b98-8a94-da6b8238fefc' AND sentence_index = 32;\n",
    "xts = map(corenlp_to_xmltree, res)"
   ]
  },
  {
   "cell_type": "code",
   "execution_count": null,
   "metadata": {
    "collapsed": false
   },
   "outputs": [],
   "source": [
    "xt = xts[0]\n",
    "xt.render_tree(highlight=[[21,22], [33,34]])"
   ]
  },
  {
   "cell_type": "code",
   "execution_count": null,
   "metadata": {
    "collapsed": false
   },
   "outputs": [],
   "source": [
    "print_gen(get_relation_features(xt.root, [21,22], [33,34]))"
   ]
  },
  {
   "cell_type": "markdown",
   "metadata": {},
   "source": [
    "## Feature focus: Preceding statements which nullify or negate meaning\n",
    "\n",
    "Example:\n",
    "> _Ex1:_ To investigate whether mutations in the SURF1 gene are a cause of Charcot-Marie-Tooth -LRB- CMT -RRB- disease\n",
    "\n",
    "> _Ex2:_ To investigate the genetic effect of a new mutation found in exon 17 of the myophosphorylase -LRB- PYGM -RRB- gene as a cause of McArdle disease -LRB- also known as type 5 glycogenosis -RRB-.\n",
    "\n",
    "Notes:\n",
    "* These seem to mostly be **_modifiers of the primary verb_**?\n",
    "    * We are only sampling from a limited set of patterns of sentences (due to narrow DSR set) currently...\n",
    "* Modifiers in general...?\n",
    "* _I know how RNNs claim to / do handle this phenomenon..._ *"
   ]
  },
  {
   "cell_type": "code",
   "execution_count": null,
   "metadata": {
    "collapsed": true
   },
   "outputs": [],
   "source": [
    "ex1_id = ('24027061', 'Abstract.0', 1)\n",
    "ex1_raw=\"\"\"\n",
    "<node dep_parent=\"0\" lemma=\"investigate\" ner=\"O\" pos=\"VB\" word=\"investigate\" word_idx=\"1\"><node dep_parent=\"2\" dep_path=\"aux\" lemma=\"to\" ner=\"O\" pos=\"TO\" word=\"To\" word_idx=\"0\"/><node dep_parent=\"2\" dep_path=\"ccomp\" lemma=\"cause\" ner=\"O\" pos=\"NN\" word=\"cause\" word_idx=\"10\"><node dep_parent=\"11\" dep_path=\"mark\" lemma=\"whether\" ner=\"O\" pos=\"IN\" word=\"whether\" word_idx=\"2\"/><node dep_parent=\"11\" dep_path=\"nsubj\" lemma=\"mutation\" ner=\"O\" pos=\"NNS\" word=\"mutations\" word_idx=\"3\"><node dep_parent=\"4\" dep_path=\"prep_in\" lemma=\"gene\" ner=\"O\" pos=\"NN\" word=\"gene\" word_idx=\"7\"><node dep_parent=\"8\" dep_path=\"det\" lemma=\"the\" ner=\"O\" pos=\"DT\" word=\"the\" word_idx=\"5\"/><node dep_parent=\"8\" dep_path=\"nn\" lemma=\"surf1\" ner=\"O\" pos=\"NN\" word=\"SURF1\" word_idx=\"6\"/></node></node><node dep_parent=\"11\" dep_path=\"cop\" lemma=\"be\" ner=\"O\" pos=\"VBP\" word=\"are\" word_idx=\"8\"/><node dep_parent=\"11\" dep_path=\"det\" lemma=\"a\" ner=\"O\" pos=\"DT\" word=\"a\" word_idx=\"9\"/><node dep_parent=\"11\" dep_path=\"prep_of\" lemma=\"Charcot-Marie-Tooth\" ner=\"O\" pos=\"NNP\" word=\"Charcot-Marie-Tooth\" word_idx=\"12\"/><node dep_parent=\"11\" dep_path=\"dep\" lemma=\"disease\" ner=\"O\" pos=\"NN\" word=\"disease\" word_idx=\"16\"><node dep_parent=\"17\" dep_path=\"appos\" lemma=\"CMT\" ner=\"O\" pos=\"NNP\" word=\"CMT\" word_idx=\"14\"/></node></node></node>\n",
    "\"\"\"\n",
    "xt1 = XMLTree(et.fromstring(ex1_raw))\n",
    "ex2_id = ('15262743', 'Abstract.0', 1)\n",
    "ex2_raw=\"\"\"\n",
    "<node dep_parent=\"0\" lemma=\"investigate\" ner=\"O\" pos=\"VB\" word=\"investigate\" word_idx=\"1\"><node dep_parent=\"2\" dep_path=\"aux\" lemma=\"to\" ner=\"O\" pos=\"TO\" word=\"To\" word_idx=\"0\"/><node dep_parent=\"2\" dep_path=\"dobj\" lemma=\"effect\" ner=\"O\" pos=\"NN\" word=\"effect\" word_idx=\"4\"><node dep_parent=\"5\" dep_path=\"det\" lemma=\"the\" ner=\"O\" pos=\"DT\" word=\"the\" word_idx=\"2\"/><node dep_parent=\"5\" dep_path=\"amod\" lemma=\"genetic\" ner=\"O\" pos=\"JJ\" word=\"genetic\" word_idx=\"3\"/><node dep_parent=\"5\" dep_path=\"prep_of\" lemma=\"mutation\" ner=\"O\" pos=\"NN\" word=\"mutation\" word_idx=\"8\"><node dep_parent=\"9\" dep_path=\"det\" lemma=\"a\" ner=\"O\" pos=\"DT\" word=\"a\" word_idx=\"6\"/><node dep_parent=\"9\" dep_path=\"amod\" lemma=\"new\" ner=\"O\" pos=\"JJ\" word=\"new\" word_idx=\"7\"/><node dep_parent=\"9\" dep_path=\"vmod\" lemma=\"find\" ner=\"O\" pos=\"VBN\" word=\"found\" word_idx=\"9\"><node dep_parent=\"10\" dep_path=\"prep_in\" lemma=\"exon\" ner=\"O\" pos=\"NN\" word=\"exon\" word_idx=\"11\"><node dep_parent=\"12\" dep_path=\"num\" lemma=\"17\" ner=\"NUMBER\" pos=\"CD\" word=\"17\" word_idx=\"12\"/><node dep_parent=\"12\" dep_path=\"prep_of\" lemma=\"gene\" ner=\"O\" pos=\"NN\" word=\"gene\" word_idx=\"19\"><node dep_parent=\"20\" dep_path=\"det\" lemma=\"the\" ner=\"O\" pos=\"DT\" word=\"the\" word_idx=\"14\"/><node dep_parent=\"20\" dep_path=\"nn\" lemma=\"myophosphorylase\" ner=\"O\" pos=\"NN\" word=\"myophosphorylase\" word_idx=\"15\"/><node dep_parent=\"20\" dep_path=\"nn\" lemma=\"pygm\" ner=\"O\" pos=\"NN\" word=\"PYGM\" word_idx=\"17\"/></node></node><node dep_parent=\"10\" dep_path=\"prep_as\" lemma=\"cause\" ner=\"O\" pos=\"NN\" word=\"cause\" word_idx=\"22\"><node dep_parent=\"23\" dep_path=\"det\" lemma=\"a\" ner=\"O\" pos=\"DT\" word=\"a\" word_idx=\"21\"/><node dep_parent=\"23\" dep_path=\"prep_of\" lemma=\"disease\" ner=\"O\" pos=\"NN\" word=\"disease\" word_idx=\"25\"><node dep_parent=\"26\" dep_path=\"nn\" lemma=\"McArdle\" ner=\"PERSON\" pos=\"NNP\" word=\"McArdle\" word_idx=\"24\"/><node dep_parent=\"26\" dep_path=\"vmod\" lemma=\"know\" ner=\"O\" pos=\"VBN\" word=\"known\" word_idx=\"28\"><node dep_parent=\"29\" dep_path=\"advmod\" lemma=\"also\" ner=\"O\" pos=\"RB\" word=\"also\" word_idx=\"27\"/><node dep_parent=\"29\" dep_path=\"prep_as\" lemma=\"glycogenosis\" ner=\"O\" pos=\"NN\" word=\"glycogenosis\" word_idx=\"32\"><node dep_parent=\"33\" dep_path=\"nn\" lemma=\"type\" ner=\"O\" pos=\"NN\" word=\"type\" word_idx=\"30\"/><node dep_parent=\"33\" dep_path=\"num\" lemma=\"5\" ner=\"NUMBER\" pos=\"CD\" word=\"5\" word_idx=\"31\"/></node></node></node></node></node></node></node></node>\n",
    "\"\"\"\n",
    "xt2 = XMLTree(et.fromstring(ex2_raw))"
   ]
  },
  {
   "cell_type": "code",
   "execution_count": null,
   "metadata": {
    "collapsed": false
   },
   "outputs": [],
   "source": [
    "xt1.render_tree()\n",
    "xt2.render_tree()"
   ]
  },
  {
   "cell_type": "markdown",
   "metadata": {},
   "source": [
    "### Testing XML speeds\n",
    "\n",
    "How does it compare between:\n",
    "* parse to XML via this python code, store as string, then parse from string at runtime\n",
    "* just parse to XML at runtime via this python code?"
   ]
  },
  {
   "cell_type": "code",
   "execution_count": null,
   "metadata": {
    "collapsed": false
   },
   "outputs": [],
   "source": [
    "# Map sentence to xmltree\n",
    "%time xts = map(corenlp_to_xmltree, rows)"
   ]
  },
  {
   "cell_type": "code",
   "execution_count": null,
   "metadata": {
    "collapsed": false
   },
   "outputs": [],
   "source": [
    "# Pre-process to xml string\n",
    "xmls = [xt.to_str() for xt in map(corenlp_to_xmltree, rows)]\n",
    "\n",
    "# Parse @ runtime using lxml\n",
    "%time roots = map(et.fromstring, xmls)"
   ]
  },
  {
   "cell_type": "markdown",
   "metadata": {},
   "source": [
    "### Table example"
   ]
  },
  {
   "cell_type": "code",
   "execution_count": null,
   "metadata": {
    "collapsed": false
   },
   "outputs": [],
   "source": [
    "# Some wishful thinking...\n",
    "table_xml = \"\"\"\n",
    "<div class=\"table-wrapper\">\n",
    "    <h3>Causal genomic relationships</h3>\n",
    "    <table>\n",
    "        <tr><th>Gene</th><th>Variant</th><th>Phenotype</th></tr>\n",
    "        <tr><td>ABC</td><td><i>AG34</i></td><td>Headaches during defecation</td></tr>\n",
    "        <tr><td>BDF</td><td><i>CT2</i></td><td>Defecation during headaches</td></tr>\n",
    "        <tr><td>XYG</td><td><i>AT456</i></td><td>Defecasomnia</td></tr>\n",
    "    </table>\n",
    "</div>\n",
    "\"\"\"\n",
    "from IPython.core.display import display_html, HTML\n",
    "display_html(HTML(table_xml))"
   ]
  }
 ],
 "metadata": {
  "kernelspec": {
   "display_name": "Python 2",
   "language": "python",
   "name": "python2"
  },
  "language_info": {
   "codemirror_mode": {
    "name": "ipython",
    "version": 2
   },
   "file_extension": ".py",
   "mimetype": "text/x-python",
   "name": "python",
   "nbconvert_exporter": "python",
   "pygments_lexer": "ipython2",
   "version": "2.7.6"
  }
 },
 "nbformat": 4,
 "nbformat_minor": 0
}
