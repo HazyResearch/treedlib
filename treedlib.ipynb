{
 "cells": [
  {
   "cell_type": "markdown",
   "metadata": {},
   "source": [
    "# TreeDLib"
   ]
  },
  {
   "cell_type": "code",
   "execution_count": 77,
   "metadata": {
    "collapsed": false
   },
   "outputs": [
    {
     "name": "stdout",
     "output_type": "stream",
     "text": [
      "The autoreload extension is already loaded. To reload it, use:\n",
      "  %reload_ext autoreload\n"
     ]
    }
   ],
   "source": [
    "%load_ext autoreload\n",
    "%autoreload 2"
   ]
  },
  {
   "cell_type": "code",
   "execution_count": 78,
   "metadata": {
    "collapsed": false
   },
   "outputs": [
    {
     "name": "stdout",
     "output_type": "stream",
     "text": [
      "The sql extension is already loaded. To reload it, use:\n",
      "  %reload_ext sql\n"
     ]
    },
    {
     "data": {
      "text/plain": [
       "u'Connected: ajratner@deepdive_spouse'"
      ]
     },
     "execution_count": 78,
     "metadata": {},
     "output_type": "execute_result"
    }
   ],
   "source": [
    "%load_ext sql\n",
    "%sql postgresql://ajratner@localhost:5432/deepdive_spouse"
   ]
  },
  {
   "cell_type": "code",
   "execution_count": 87,
   "metadata": {
    "collapsed": false
   },
   "outputs": [],
   "source": [
    "#from treedlib import *\n",
    "# Note: reloading for submodules doesn't work, so we load directly here\n",
    "from treedlib.util import *\n",
    "from treedlib.structs import *\n",
    "from treedlib.templates import *\n",
    "from treedlib.features import *\n",
    "import lxml.etree as et"
   ]
  },
  {
   "cell_type": "markdown",
   "metadata": {},
   "source": [
    "We define three classes of operators:\n",
    "* _NodeSets:_ $S : 2^T \\mapsto 2^T$\n",
    "* _Indicators:_ $I : 2^T \\mapsto \\{0,1\\}^F$\n",
    "* _Combinators:_ $C : \\{0,1\\}^F \\times \\{0,1\\}^F \\mapsto \\{0,1\\}^F$\n",
    "\n",
    "where $T$ is a given input tree, and $F$ is the dimension of the feature space."
   ]
  },
  {
   "cell_type": "markdown",
   "metadata": {},
   "source": [
    "## Debugging pipeline\n",
    "\n",
    "We'll debug here, also to show the general most current procedure for debugging treedlib on examples in a SQL database (e.g. from DeepDive)"
   ]
  },
  {
   "cell_type": "code",
   "execution_count": 88,
   "metadata": {
    "collapsed": false,
    "scrolled": true
   },
   "outputs": [
    {
     "name": "stdout",
     "output_type": "stream",
     "text": [
      "1 rows affected.\n"
     ]
    },
    {
     "data": {
      "text/html": [
       "<table>\n",
       "    <tr>\n",
       "        <th>sentence_text</th>\n",
       "    </tr>\n",
       "    <tr>\n",
       "        <td>“I know where you can get those framed,” aprivate eye named Visser (M. Emmet Walsh) tells a bar owner, Marty (Dan Hedaya), when he presents him with photos of his wife, Abby (Frances McDormand) in bed with his bartender, Ray (John Getz), and from that staring point nocturnal acts of cruelty take shape not through nefarious schemes but crude assumptions and mistaken identity.</td>\n",
       "    </tr>\n",
       "</table>"
      ],
      "text/plain": [
       "[(u'\\u201cI know where you can get those framed,\\u201d aprivate eye named Visser (M. Emmet Walsh) tells a bar owner, Marty (Dan Hedaya), when he presents him with photos of his wife, Abby (Frances McDormand) in bed with his bartender, Ray (John Getz), and from that staring point nocturnal acts of cruelty take shape not through nefarious schemes but crude assumptions and mistaken identity.',)]"
      ]
     },
     "execution_count": 88,
     "metadata": {},
     "output_type": "execute_result"
    }
   ],
   "source": [
    "%%sql \n",
    "SELECT sentence_text\n",
    "FROM sentences \n",
    "WHERE doc_id = '79205745-b593-4b98-8a94-da6b8238fefc' AND sentence_index = 32;"
   ]
  },
  {
   "cell_type": "code",
   "execution_count": 89,
   "metadata": {
    "collapsed": false
   },
   "outputs": [
    {
     "name": "stdout",
     "output_type": "stream",
     "text": [
      "1 rows affected.\n"
     ]
    }
   ],
   "source": [
    "res = %sql SELECT tokens AS \"words\", lemmas, pos_tags, ner_tags, dep_types AS \"dep_labels\", dep_tokens AS \"dep_parents\" FROM sentences WHERE doc_id = '79205745-b593-4b98-8a94-da6b8238fefc' AND sentence_index = 32;\n",
    "xts = map(corenlp_to_xmltree, res)"
   ]
  },
  {
   "cell_type": "code",
   "execution_count": 90,
   "metadata": {
    "collapsed": false
   },
   "outputs": [
    {
     "data": {
      "text/html": [
       "<style>\n",
       ".node {\n",
       "  cursor: pointer;\n",
       "}\n",
       "\n",
       ".node circle {\n",
       "  fill: #fff;\n",
       "  stroke: steelblue;\n",
       "  stroke-width: 3px;\n",
       "}\n",
       "\n",
       ".node text {\n",
       "  font: 12px sans-serif;\n",
       "}\n",
       "\n",
       ".edge {\n",
       "  fill: none;\n",
       "  stroke: #ccc;\n",
       "  stroke-width: 2px;\n",
       "  cursor: pointer;\n",
       "}\n",
       "\n",
       ".highlight {\n",
       "  stroke: red;\n",
       "  stroke-width: 3px;\n",
       "}\n",
       "</style>\n",
       "\n",
       "<!--Provide the canvas id via python string formatting here--!>\n",
       "<div id=\"tree-chart-5802585592828107381\"></div>\n"
      ]
     },
     "metadata": {},
     "output_type": "display_data"
    },
    {
     "data": {
      "application/javascript": [
       "$.getScript(\"http://d3js.org/d3.v3.min.js\", function () {\n",
       "// See http://bl.ocks.org/d3noob/8375092\n",
       "// Two vars need to be provided via python string formatting: the tree, and the canvas id\n",
       "\n",
       "// JSON tree\n",
       "var root = {\"attrib\": {\"pos_tag\": \"VBN\", \"word\": \"named\", \"ner_tag\": \"O\", \"dep_label\": \"\", \"lemma\": \"name\", \"word_idx\": \"13\", \"dep_parent\": \"0\"}, \"children\": [{\"attrib\": {\"pos_tag\": \"NN\", \"word\": \"eye\", \"ner_tag\": \"O\", \"dep_label\": \"nsubj\", \"lemma\": \"eye\", \"word_idx\": \"12\", \"dep_parent\": \"14\"}, \"children\": [{\"attrib\": {\"pos_tag\": \"VBP\", \"word\": \"know\", \"ner_tag\": \"O\", \"dep_label\": \"dep\", \"lemma\": \"know\", \"word_idx\": \"2\", \"dep_parent\": \"13\"}, \"children\": [{\"attrib\": {\"pos_tag\": \"PRP\", \"word\": \"I\", \"ner_tag\": \"O\", \"dep_label\": \"nsubj\", \"lemma\": \"I\", \"word_idx\": \"1\", \"dep_parent\": \"3\"}, \"children\": []}, {\"attrib\": {\"pos_tag\": \"VB\", \"word\": \"get\", \"ner_tag\": \"O\", \"dep_label\": \"ccomp\", \"lemma\": \"get\", \"word_idx\": \"6\", \"dep_parent\": \"3\"}, \"children\": [{\"attrib\": {\"pos_tag\": \"WRB\", \"word\": \"where\", \"ner_tag\": \"O\", \"dep_label\": \"advmod\", \"lemma\": \"where\", \"word_idx\": \"3\", \"dep_parent\": \"7\"}, \"children\": []}, {\"attrib\": {\"pos_tag\": \"PRP\", \"word\": \"you\", \"ner_tag\": \"O\", \"dep_label\": \"nsubj\", \"lemma\": \"you\", \"word_idx\": \"4\", \"dep_parent\": \"7\"}, \"children\": []}, {\"attrib\": {\"pos_tag\": \"MD\", \"word\": \"can\", \"ner_tag\": \"O\", \"dep_label\": \"aux\", \"lemma\": \"can\", \"word_idx\": \"5\", \"dep_parent\": \"7\"}, \"children\": []}, {\"attrib\": {\"pos_tag\": \"DT\", \"word\": \"those\", \"ner_tag\": \"O\", \"dep_label\": \"dobj\", \"lemma\": \"those\", \"word_idx\": \"7\", \"dep_parent\": \"7\"}, \"children\": [{\"attrib\": {\"pos_tag\": \"VBN\", \"word\": \"framed\", \"ner_tag\": \"O\", \"dep_label\": \"vmod\", \"lemma\": \"frame\", \"word_idx\": \"8\", \"dep_parent\": \"8\"}, \"children\": []}]}]}]}, {\"attrib\": {\"pos_tag\": \"JJ\", \"word\": \"aprivate\", \"ner_tag\": \"O\", \"dep_label\": \"amod\", \"lemma\": \"aprivate\", \"word_idx\": \"11\", \"dep_parent\": \"13\"}, \"children\": []}]}, {\"attrib\": {\"pos_tag\": \"VBZ\", \"word\": \"tells\", \"ner_tag\": \"O\", \"dep_label\": \"ccomp\", \"lemma\": \"tell\", \"word_idx\": \"20\", \"dep_parent\": \"14\"}, \"children\": [{\"attrib\": {\"pos_tag\": \"NNP\", \"word\": \"Visser\", \"ner_tag\": \"PERSON\", \"dep_label\": \"nsubj\", \"lemma\": \"Visser\", \"word_idx\": \"14\", \"dep_parent\": \"21\"}, \"children\": [{\"attrib\": {\"pos_tag\": \"NNP\", \"word\": \"Walsh\", \"ner_tag\": \"PERSON\", \"dep_label\": \"appos\", \"lemma\": \"Walsh\", \"word_idx\": \"18\", \"dep_parent\": \"15\"}, \"children\": [{\"attrib\": {\"pos_tag\": \"NNP\", \"word\": \"M.\", \"ner_tag\": \"PERSON\", \"dep_label\": \"nn\", \"lemma\": \"M.\", \"word_idx\": \"16\", \"dep_parent\": \"19\"}, \"children\": []}, {\"attrib\": {\"pos_tag\": \"NNP\", \"word\": \"Emmet\", \"ner_tag\": \"PERSON\", \"dep_label\": \"nn\", \"lemma\": \"Emmet\", \"word_idx\": \"17\", \"dep_parent\": \"19\"}, \"children\": []}]}]}, {\"attrib\": {\"pos_tag\": \"NN\", \"word\": \"owner\", \"ner_tag\": \"O\", \"dep_label\": \"dobj\", \"lemma\": \"owner\", \"word_idx\": \"23\", \"dep_parent\": \"21\"}, \"children\": [{\"attrib\": {\"pos_tag\": \"DT\", \"word\": \"a\", \"ner_tag\": \"O\", \"dep_label\": \"det\", \"lemma\": \"a\", \"word_idx\": \"21\", \"dep_parent\": \"24\"}, \"children\": []}, {\"attrib\": {\"pos_tag\": \"NN\", \"word\": \"bar\", \"ner_tag\": \"O\", \"dep_label\": \"nn\", \"lemma\": \"bar\", \"word_idx\": \"22\", \"dep_parent\": \"24\"}, \"children\": []}]}]}, {\"attrib\": {\"pos_tag\": \"NNP\", \"word\": \"Marty\", \"ner_tag\": \"PERSON\", \"dep_label\": \"dobj\", \"lemma\": \"Marty\", \"word_idx\": \"25\", \"dep_parent\": \"14\"}, \"children\": [{\"attrib\": {\"pos_tag\": \"NNP\", \"word\": \"Hedaya\", \"ner_tag\": \"PERSON\", \"dep_label\": \"appos\", \"lemma\": \"Hedaya\", \"word_idx\": \"28\", \"dep_parent\": \"26\"}, \"children\": [{\"attrib\": {\"pos_tag\": \"NNP\", \"word\": \"Dan\", \"ner_tag\": \"PERSON\", \"dep_label\": \"nn\", \"lemma\": \"Dan\", \"word_idx\": \"27\", \"dep_parent\": \"29\"}, \"children\": []}]}, {\"attrib\": {\"pos_tag\": \"VBZ\", \"word\": \"presents\", \"ner_tag\": \"O\", \"dep_label\": \"dep\", \"lemma\": \"present\", \"word_idx\": \"33\", \"dep_parent\": \"26\"}, \"children\": [{\"attrib\": {\"pos_tag\": \"WRB\", \"word\": \"when\", \"ner_tag\": \"O\", \"dep_label\": \"advmod\", \"lemma\": \"when\", \"word_idx\": \"31\", \"dep_parent\": \"34\"}, \"children\": []}, {\"attrib\": {\"pos_tag\": \"PRP\", \"word\": \"he\", \"ner_tag\": \"O\", \"dep_label\": \"nsubj\", \"lemma\": \"he\", \"word_idx\": \"32\", \"dep_parent\": \"34\"}, \"children\": []}, {\"attrib\": {\"pos_tag\": \"PRP\", \"word\": \"him\", \"ner_tag\": \"O\", \"dep_label\": \"dobj\", \"lemma\": \"he\", \"word_idx\": \"34\", \"dep_parent\": \"34\"}, \"children\": []}, {\"attrib\": {\"pos_tag\": \"NNS\", \"word\": \"photos\", \"ner_tag\": \"O\", \"dep_label\": \"prep_with\", \"lemma\": \"photo\", \"word_idx\": \"36\", \"dep_parent\": \"34\"}, \"children\": [{\"attrib\": {\"pos_tag\": \"NN\", \"word\": \"wife\", \"ner_tag\": \"O\", \"dep_label\": \"prep_of\", \"lemma\": \"wife\", \"word_idx\": \"39\", \"dep_parent\": \"37\"}, \"children\": [{\"attrib\": {\"pos_tag\": \"PRP$\", \"word\": \"his\", \"ner_tag\": \"O\", \"dep_label\": \"poss\", \"lemma\": \"he\", \"word_idx\": \"38\", \"dep_parent\": \"40\"}, \"children\": []}, {\"attrib\": {\"pos_tag\": \"NNP\", \"word\": \"Abby\", \"ner_tag\": \"PERSON\", \"dep_label\": \"appos\", \"lemma\": \"Abby\", \"word_idx\": \"41\", \"dep_parent\": \"40\"}, \"children\": [{\"attrib\": {\"pos_tag\": \"NNP\", \"word\": \"McDormand\", \"ner_tag\": \"PERSON\", \"dep_label\": \"appos\", \"lemma\": \"McDormand\", \"word_idx\": \"44\", \"dep_parent\": \"42\"}, \"children\": [{\"attrib\": {\"pos_tag\": \"NNP\", \"word\": \"Frances\", \"ner_tag\": \"PERSON\", \"dep_label\": \"nn\", \"lemma\": \"Frances\", \"word_idx\": \"43\", \"dep_parent\": \"45\"}, \"children\": []}]}, {\"attrib\": {\"pos_tag\": \"NN\", \"word\": \"bed\", \"ner_tag\": \"O\", \"dep_label\": \"prep_in\", \"lemma\": \"bed\", \"word_idx\": \"47\", \"dep_parent\": \"42\"}, \"children\": []}, {\"attrib\": {\"pos_tag\": \"NN\", \"word\": \"bartender\", \"ner_tag\": \"O\", \"dep_label\": \"prep_with\", \"lemma\": \"bartender\", \"word_idx\": \"50\", \"dep_parent\": \"42\"}, \"children\": [{\"attrib\": {\"pos_tag\": \"PRP$\", \"word\": \"his\", \"ner_tag\": \"O\", \"dep_label\": \"poss\", \"lemma\": \"he\", \"word_idx\": \"49\", \"dep_parent\": \"51\"}, \"children\": []}, {\"attrib\": {\"pos_tag\": \"NNP\", \"word\": \"Ray\", \"ner_tag\": \"PERSON\", \"dep_label\": \"conj_and\", \"lemma\": \"Ray\", \"word_idx\": \"52\", \"dep_parent\": \"51\"}, \"children\": [{\"attrib\": {\"pos_tag\": \"NNP\", \"word\": \"Getz\", \"ner_tag\": \"PERSON\", \"dep_label\": \"appos\", \"lemma\": \"Getz\", \"word_idx\": \"55\", \"dep_parent\": \"53\"}, \"children\": [{\"attrib\": {\"pos_tag\": \"NNP\", \"word\": \"John\", \"ner_tag\": \"PERSON\", \"dep_label\": \"nn\", \"lemma\": \"John\", \"word_idx\": \"54\", \"dep_parent\": \"56\"}, \"children\": []}]}]}, {\"attrib\": {\"pos_tag\": \"IN\", \"word\": \"from\", \"ner_tag\": \"O\", \"dep_label\": \"conj_and\", \"lemma\": \"from\", \"word_idx\": \"59\", \"dep_parent\": \"51\"}, \"children\": [{\"attrib\": {\"pos_tag\": \"DT\", \"word\": \"that\", \"ner_tag\": \"O\", \"dep_label\": \"pobj\", \"lemma\": \"that\", \"word_idx\": \"60\", \"dep_parent\": \"60\"}, \"children\": [{\"attrib\": {\"pos_tag\": \"VBG\", \"word\": \"staring\", \"ner_tag\": \"O\", \"dep_label\": \"dep\", \"lemma\": \"stare\", \"word_idx\": \"61\", \"dep_parent\": \"61\"}, \"children\": [{\"attrib\": {\"pos_tag\": \"VBP\", \"word\": \"take\", \"ner_tag\": \"O\", \"dep_label\": \"ccomp\", \"lemma\": \"take\", \"word_idx\": \"67\", \"dep_parent\": \"62\"}, \"children\": [{\"attrib\": {\"pos_tag\": \"NNS\", \"word\": \"acts\", \"ner_tag\": \"O\", \"dep_label\": \"nsubj\", \"lemma\": \"act\", \"word_idx\": \"64\", \"dep_parent\": \"68\"}, \"children\": [{\"attrib\": {\"pos_tag\": \"NN\", \"word\": \"point\", \"ner_tag\": \"O\", \"dep_label\": \"nn\", \"lemma\": \"point\", \"word_idx\": \"62\", \"dep_parent\": \"65\"}, \"children\": []}, {\"attrib\": {\"pos_tag\": \"JJ\", \"word\": \"nocturnal\", \"ner_tag\": \"O\", \"dep_label\": \"amod\", \"lemma\": \"nocturnal\", \"word_idx\": \"63\", \"dep_parent\": \"65\"}, \"children\": []}, {\"attrib\": {\"pos_tag\": \"NN\", \"word\": \"cruelty\", \"ner_tag\": \"O\", \"dep_label\": \"prep_of\", \"lemma\": \"cruelty\", \"word_idx\": \"66\", \"dep_parent\": \"65\"}, \"children\": []}]}, {\"attrib\": {\"pos_tag\": \"NN\", \"word\": \"shape\", \"ner_tag\": \"O\", \"dep_label\": \"dobj\", \"lemma\": \"shape\", \"word_idx\": \"68\", \"dep_parent\": \"68\"}, \"children\": []}, {\"attrib\": {\"pos_tag\": \"RB\", \"word\": \"not\", \"ner_tag\": \"O\", \"dep_label\": \"neg\", \"lemma\": \"not\", \"word_idx\": \"69\", \"dep_parent\": \"68\"}, \"children\": []}, {\"attrib\": {\"pos_tag\": \"NNS\", \"word\": \"schemes\", \"ner_tag\": \"O\", \"dep_label\": \"prep_through\", \"lemma\": \"scheme\", \"word_idx\": \"72\", \"dep_parent\": \"68\"}, \"children\": [{\"attrib\": {\"pos_tag\": \"JJ\", \"word\": \"nefarious\", \"ner_tag\": \"O\", \"dep_label\": \"amod\", \"lemma\": \"nefarious\", \"word_idx\": \"71\", \"dep_parent\": \"73\"}, \"children\": []}, {\"attrib\": {\"pos_tag\": \"NNS\", \"word\": \"assumptions\", \"ner_tag\": \"O\", \"dep_label\": \"conj_but\", \"lemma\": \"assumption\", \"word_idx\": \"75\", \"dep_parent\": \"73\"}, \"children\": [{\"attrib\": {\"pos_tag\": \"JJ\", \"word\": \"crude\", \"ner_tag\": \"O\", \"dep_label\": \"amod\", \"lemma\": \"crude\", \"word_idx\": \"74\", \"dep_parent\": \"76\"}, \"children\": []}]}, {\"attrib\": {\"pos_tag\": \"NN\", \"word\": \"identity\", \"ner_tag\": \"O\", \"dep_label\": \"conj_and\", \"lemma\": \"identity\", \"word_idx\": \"78\", \"dep_parent\": \"73\"}, \"children\": [{\"attrib\": {\"pos_tag\": \"JJ\", \"word\": \"mistaken\", \"ner_tag\": \"O\", \"dep_label\": \"amod\", \"lemma\": \"mistaken\", \"word_idx\": \"77\", \"dep_parent\": \"79\"}, \"children\": []}]}]}]}]}]}]}]}]}]}]}]}]}]};\n",
       "\n",
       "// Constants\n",
       "var margin = {top: 20, right: 20, bottom: 20, left: 20},\n",
       "width = 800 - margin.left - margin.right,\n",
       "height = 250 - margin.top - margin.bottom,\n",
       "R = 5;\n",
       "\n",
       "// Create the d3 tree object\n",
       "var tree = d3.layout.tree()\n",
       "  .size([width, height]);\n",
       "\n",
       "// Create the svg canvas\n",
       "var svg = d3.select(\"#tree-chart-5802585592828107381\")\n",
       "  .append(\"svg\")\n",
       "  .attr(\"width\", width + margin.left + margin.right)\n",
       "  .attr(\"height\", height + margin.top + margin.bottom)\n",
       "  .append(\"g\")\n",
       "  .attr(\"transform\", \"translate(\" + margin.left + \",\" + margin.top + \")\");\n",
       "\n",
       "function renderTree() {\n",
       "  var nodes = tree.nodes(root),\n",
       "  edges = tree.links(nodes);\n",
       "\n",
       "  // Place the nodes\n",
       "  var nodeGroups = svg.selectAll(\"g.node\")\n",
       "    .data(nodes)\n",
       "    .enter().append(\"g\")\n",
       "    .attr(\"class\", \"node\")\n",
       "    .attr(\"transform\", function(d) { return \"translate(\" + d.x + \",\" + d.y + \")\"; });\n",
       "       \n",
       "  // Append circles\n",
       "  nodeGroups.append(\"circle\")\n",
       "    .on(\"click\", function() {\n",
       "      d3.select(this).classed(\"highlight\", !d3.select(this).classed(\"highlight\")); })\n",
       "    .attr(\"r\", R);\n",
       "     \n",
       "  // Append the actual word\n",
       "  nodeGroups.append(\"text\")\n",
       "    .text(function(d) { return d.attrib.word; })\n",
       "    .attr(\"text-anchor\", function(d) { \n",
       "      return d.children && d.children.length > 0 ? \"start\" : \"middle\"; })\n",
       "    .attr(\"dx\", function(d) { \n",
       "      return d.children && d.children.length > 0 ? R + 3 : 0; })\n",
       "    .attr(\"dy\", function(d) { \n",
       "      return d.children && d.children.length > 0 ? 0 : 3*R + 3; });\n",
       "\n",
       "  // Place the edges\n",
       "  var edgePaths = svg.selectAll(\"path\")\n",
       "    .data(edges)\n",
       "    .enter().append(\"path\")\n",
       "    .attr(\"class\", \"edge\")\n",
       "    .on(\"click\", function() {\n",
       "      d3.select(this).classed(\"highlight\", !d3.select(this).classed(\"highlight\")); })\n",
       "    .attr(\"d\", d3.svg.diagonal());\n",
       "}\n",
       "\n",
       "renderTree();\n",
       "});\n"
      ]
     },
     "metadata": {},
     "output_type": "display_data"
    }
   ],
   "source": [
    "xt = xts[0]\n",
    "xt.render_tree()"
   ]
  },
  {
   "cell_type": "code",
   "execution_count": 91,
   "metadata": {
    "collapsed": false
   },
   "outputs": [
    {
     "name": "stdout",
     "output_type": "stream",
     "text": [
      "WORD:BETWEEN-MENTION-and-MENTION[named_tells_owner_Marty]\n",
      "LEMMA:BETWEEN-MENTION-and-MENTION[name_tell_owner_Marty]\n",
      "DEP_LABEL:BETWEEN-MENTION-and-MENTION[_ccomp_dobj_dobj]\n",
      "WORD:BETWEEN-MENTION-and-MENTION[named_tells]\n",
      "WORD:BETWEEN-MENTION-and-MENTION[tells_owner]\n",
      "WORD:BETWEEN-MENTION-and-MENTION[owner_Marty]\n",
      "WORD:BETWEEN-MENTION-and-MENTION[named_tells_owner]\n",
      "WORD:BETWEEN-MENTION-and-MENTION[tells_owner_Marty]\n",
      "LEMMA:BETWEEN-MENTION-and-MENTION[name_tell]\n",
      "LEMMA:BETWEEN-MENTION-and-MENTION[tell_owner]\n",
      "LEMMA:BETWEEN-MENTION-and-MENTION[owner_Marty]\n",
      "LEMMA:BETWEEN-MENTION-and-MENTION[name_tell_owner]\n",
      "LEMMA:BETWEEN-MENTION-and-MENTION[tell_owner_Marty]\n",
      "DEP_LABEL:BETWEEN-MENTION-and-MENTION[_ccomp]\n",
      "DEP_LABEL:BETWEEN-MENTION-and-MENTION[ccomp_dobj]\n",
      "DEP_LABEL:BETWEEN-MENTION-and-MENTION[dobj_dobj]\n",
      "DEP_LABEL:BETWEEN-MENTION-and-MENTION[_ccomp_dobj]\n",
      "DEP_LABEL:BETWEEN-MENTION-and-MENTION[ccomp_dobj_dobj]\n",
      "WORD:RIGHT-OF-MENTION[bar]\n",
      "LEMMA:RIGHT-OF-MENTION[bar]\n",
      "WORD:RIGHT-OF-MENTION[photos]\n",
      "WORD:LEFT-OF-MENTION[Hedaya_when_he]\n",
      "WORD:LEFT-OF-MENTION[when_he]\n",
      "WORD:LEFT-OF-MENTION[he]\n",
      "LEMMA:RIGHT-OF-MENTION[photo]\n",
      "LEMMA:LEFT-OF-MENTION[Hedaya_when_he]\n",
      "LEMMA:LEFT-OF-MENTION[when_he]\n",
      "LEMMA:LEFT-OF-MENTION[he]\n"
     ]
    }
   ],
   "source": [
    "print_gen(get_relation_features(xt.root, [21,22], [33,34]))"
   ]
  },
  {
   "cell_type": "markdown",
   "metadata": {},
   "source": [
    "## Feature focus: Preceding statements which nullify or negate meaning\n",
    "\n",
    "Example:\n",
    "> _Ex1:_ To investigate whether mutations in the SURF1 gene are a cause of Charcot-Marie-Tooth -LRB- CMT -RRB- disease\n",
    "\n",
    "> _Ex2:_ To investigate the genetic effect of a new mutation found in exon 17 of the myophosphorylase -LRB- PYGM -RRB- gene as a cause of McArdle disease -LRB- also known as type 5 glycogenosis -RRB-.\n",
    "\n",
    "Notes:\n",
    "* These seem to mostly be **_modifiers of the primary verb_**?\n",
    "    * We are only sampling from a limited set of patterns of sentences (due to narrow DSR set) currently...\n",
    "* Modifiers in general...?\n",
    "* _I know how RNNs claim to / do handle this phenomenon..._ *"
   ]
  },
  {
   "cell_type": "code",
   "execution_count": 92,
   "metadata": {
    "collapsed": true
   },
   "outputs": [],
   "source": [
    "ex1_id = ('24027061', 'Abstract.0', 1)\n",
    "ex1_raw=\"\"\"\n",
    "<node dep_parent=\"0\" lemma=\"investigate\" ner=\"O\" pos=\"VB\" word=\"investigate\" word_idx=\"1\"><node dep_parent=\"2\" dep_path=\"aux\" lemma=\"to\" ner=\"O\" pos=\"TO\" word=\"To\" word_idx=\"0\"/><node dep_parent=\"2\" dep_path=\"ccomp\" lemma=\"cause\" ner=\"O\" pos=\"NN\" word=\"cause\" word_idx=\"10\"><node dep_parent=\"11\" dep_path=\"mark\" lemma=\"whether\" ner=\"O\" pos=\"IN\" word=\"whether\" word_idx=\"2\"/><node dep_parent=\"11\" dep_path=\"nsubj\" lemma=\"mutation\" ner=\"O\" pos=\"NNS\" word=\"mutations\" word_idx=\"3\"><node dep_parent=\"4\" dep_path=\"prep_in\" lemma=\"gene\" ner=\"O\" pos=\"NN\" word=\"gene\" word_idx=\"7\"><node dep_parent=\"8\" dep_path=\"det\" lemma=\"the\" ner=\"O\" pos=\"DT\" word=\"the\" word_idx=\"5\"/><node dep_parent=\"8\" dep_path=\"nn\" lemma=\"surf1\" ner=\"O\" pos=\"NN\" word=\"SURF1\" word_idx=\"6\"/></node></node><node dep_parent=\"11\" dep_path=\"cop\" lemma=\"be\" ner=\"O\" pos=\"VBP\" word=\"are\" word_idx=\"8\"/><node dep_parent=\"11\" dep_path=\"det\" lemma=\"a\" ner=\"O\" pos=\"DT\" word=\"a\" word_idx=\"9\"/><node dep_parent=\"11\" dep_path=\"prep_of\" lemma=\"Charcot-Marie-Tooth\" ner=\"O\" pos=\"NNP\" word=\"Charcot-Marie-Tooth\" word_idx=\"12\"/><node dep_parent=\"11\" dep_path=\"dep\" lemma=\"disease\" ner=\"O\" pos=\"NN\" word=\"disease\" word_idx=\"16\"><node dep_parent=\"17\" dep_path=\"appos\" lemma=\"CMT\" ner=\"O\" pos=\"NNP\" word=\"CMT\" word_idx=\"14\"/></node></node></node>\n",
    "\"\"\"\n",
    "xt1 = XMLTree(et.fromstring(ex1_raw))\n",
    "ex2_id = ('15262743', 'Abstract.0', 1)\n",
    "ex2_raw=\"\"\"\n",
    "<node dep_parent=\"0\" lemma=\"investigate\" ner=\"O\" pos=\"VB\" word=\"investigate\" word_idx=\"1\"><node dep_parent=\"2\" dep_path=\"aux\" lemma=\"to\" ner=\"O\" pos=\"TO\" word=\"To\" word_idx=\"0\"/><node dep_parent=\"2\" dep_path=\"dobj\" lemma=\"effect\" ner=\"O\" pos=\"NN\" word=\"effect\" word_idx=\"4\"><node dep_parent=\"5\" dep_path=\"det\" lemma=\"the\" ner=\"O\" pos=\"DT\" word=\"the\" word_idx=\"2\"/><node dep_parent=\"5\" dep_path=\"amod\" lemma=\"genetic\" ner=\"O\" pos=\"JJ\" word=\"genetic\" word_idx=\"3\"/><node dep_parent=\"5\" dep_path=\"prep_of\" lemma=\"mutation\" ner=\"O\" pos=\"NN\" word=\"mutation\" word_idx=\"8\"><node dep_parent=\"9\" dep_path=\"det\" lemma=\"a\" ner=\"O\" pos=\"DT\" word=\"a\" word_idx=\"6\"/><node dep_parent=\"9\" dep_path=\"amod\" lemma=\"new\" ner=\"O\" pos=\"JJ\" word=\"new\" word_idx=\"7\"/><node dep_parent=\"9\" dep_path=\"vmod\" lemma=\"find\" ner=\"O\" pos=\"VBN\" word=\"found\" word_idx=\"9\"><node dep_parent=\"10\" dep_path=\"prep_in\" lemma=\"exon\" ner=\"O\" pos=\"NN\" word=\"exon\" word_idx=\"11\"><node dep_parent=\"12\" dep_path=\"num\" lemma=\"17\" ner=\"NUMBER\" pos=\"CD\" word=\"17\" word_idx=\"12\"/><node dep_parent=\"12\" dep_path=\"prep_of\" lemma=\"gene\" ner=\"O\" pos=\"NN\" word=\"gene\" word_idx=\"19\"><node dep_parent=\"20\" dep_path=\"det\" lemma=\"the\" ner=\"O\" pos=\"DT\" word=\"the\" word_idx=\"14\"/><node dep_parent=\"20\" dep_path=\"nn\" lemma=\"myophosphorylase\" ner=\"O\" pos=\"NN\" word=\"myophosphorylase\" word_idx=\"15\"/><node dep_parent=\"20\" dep_path=\"nn\" lemma=\"pygm\" ner=\"O\" pos=\"NN\" word=\"PYGM\" word_idx=\"17\"/></node></node><node dep_parent=\"10\" dep_path=\"prep_as\" lemma=\"cause\" ner=\"O\" pos=\"NN\" word=\"cause\" word_idx=\"22\"><node dep_parent=\"23\" dep_path=\"det\" lemma=\"a\" ner=\"O\" pos=\"DT\" word=\"a\" word_idx=\"21\"/><node dep_parent=\"23\" dep_path=\"prep_of\" lemma=\"disease\" ner=\"O\" pos=\"NN\" word=\"disease\" word_idx=\"25\"><node dep_parent=\"26\" dep_path=\"nn\" lemma=\"McArdle\" ner=\"PERSON\" pos=\"NNP\" word=\"McArdle\" word_idx=\"24\"/><node dep_parent=\"26\" dep_path=\"vmod\" lemma=\"know\" ner=\"O\" pos=\"VBN\" word=\"known\" word_idx=\"28\"><node dep_parent=\"29\" dep_path=\"advmod\" lemma=\"also\" ner=\"O\" pos=\"RB\" word=\"also\" word_idx=\"27\"/><node dep_parent=\"29\" dep_path=\"prep_as\" lemma=\"glycogenosis\" ner=\"O\" pos=\"NN\" word=\"glycogenosis\" word_idx=\"32\"><node dep_parent=\"33\" dep_path=\"nn\" lemma=\"type\" ner=\"O\" pos=\"NN\" word=\"type\" word_idx=\"30\"/><node dep_parent=\"33\" dep_path=\"num\" lemma=\"5\" ner=\"NUMBER\" pos=\"CD\" word=\"5\" word_idx=\"31\"/></node></node></node></node></node></node></node></node>\n",
    "\"\"\"\n",
    "xt2 = XMLTree(et.fromstring(ex2_raw))"
   ]
  },
  {
   "cell_type": "code",
   "execution_count": 93,
   "metadata": {
    "collapsed": false
   },
   "outputs": [
    {
     "data": {
      "text/html": [
       "<style>\n",
       ".node {\n",
       "  cursor: pointer;\n",
       "}\n",
       "\n",
       ".node circle {\n",
       "  fill: #fff;\n",
       "  stroke: steelblue;\n",
       "  stroke-width: 3px;\n",
       "}\n",
       "\n",
       ".node text {\n",
       "  font: 12px sans-serif;\n",
       "}\n",
       "\n",
       ".edge {\n",
       "  fill: none;\n",
       "  stroke: #ccc;\n",
       "  stroke-width: 2px;\n",
       "  cursor: pointer;\n",
       "}\n",
       "\n",
       ".highlight {\n",
       "  stroke: red;\n",
       "  stroke-width: 3px;\n",
       "}\n",
       "</style>\n",
       "\n",
       "<!--Provide the canvas id via python string formatting here--!>\n",
       "<div id=\"tree-chart-1927448183035911858\"></div>\n"
      ]
     },
     "metadata": {},
     "output_type": "display_data"
    },
    {
     "data": {
      "application/javascript": [
       "$.getScript(\"http://d3js.org/d3.v3.min.js\", function () {\n",
       "// See http://bl.ocks.org/d3noob/8375092\n",
       "// Two vars need to be provided via python string formatting: the tree, and the canvas id\n",
       "\n",
       "// JSON tree\n",
       "var root = {\"attrib\": {\"word\": \"investigate\", \"dep_parent\": \"0\", \"pos\": \"VB\", \"lemma\": \"investigate\", \"word_idx\": \"1\", \"ner\": \"O\"}, \"children\": [{\"attrib\": {\"word\": \"To\", \"dep_parent\": \"2\", \"pos\": \"TO\", \"lemma\": \"to\", \"word_idx\": \"0\", \"dep_path\": \"aux\", \"ner\": \"O\"}, \"children\": []}, {\"attrib\": {\"word\": \"cause\", \"dep_parent\": \"2\", \"pos\": \"NN\", \"lemma\": \"cause\", \"word_idx\": \"10\", \"dep_path\": \"ccomp\", \"ner\": \"O\"}, \"children\": [{\"attrib\": {\"word\": \"whether\", \"dep_parent\": \"11\", \"pos\": \"IN\", \"lemma\": \"whether\", \"word_idx\": \"2\", \"dep_path\": \"mark\", \"ner\": \"O\"}, \"children\": []}, {\"attrib\": {\"word\": \"mutations\", \"dep_parent\": \"11\", \"pos\": \"NNS\", \"lemma\": \"mutation\", \"word_idx\": \"3\", \"dep_path\": \"nsubj\", \"ner\": \"O\"}, \"children\": [{\"attrib\": {\"word\": \"gene\", \"dep_parent\": \"4\", \"pos\": \"NN\", \"lemma\": \"gene\", \"word_idx\": \"7\", \"dep_path\": \"prep_in\", \"ner\": \"O\"}, \"children\": [{\"attrib\": {\"word\": \"the\", \"dep_parent\": \"8\", \"pos\": \"DT\", \"lemma\": \"the\", \"word_idx\": \"5\", \"dep_path\": \"det\", \"ner\": \"O\"}, \"children\": []}, {\"attrib\": {\"word\": \"SURF1\", \"dep_parent\": \"8\", \"pos\": \"NN\", \"lemma\": \"surf1\", \"word_idx\": \"6\", \"dep_path\": \"nn\", \"ner\": \"O\"}, \"children\": []}]}]}, {\"attrib\": {\"word\": \"are\", \"dep_parent\": \"11\", \"pos\": \"VBP\", \"lemma\": \"be\", \"word_idx\": \"8\", \"dep_path\": \"cop\", \"ner\": \"O\"}, \"children\": []}, {\"attrib\": {\"word\": \"a\", \"dep_parent\": \"11\", \"pos\": \"DT\", \"lemma\": \"a\", \"word_idx\": \"9\", \"dep_path\": \"det\", \"ner\": \"O\"}, \"children\": []}, {\"attrib\": {\"word\": \"Charcot-Marie-Tooth\", \"dep_parent\": \"11\", \"pos\": \"NNP\", \"lemma\": \"Charcot-Marie-Tooth\", \"word_idx\": \"12\", \"dep_path\": \"prep_of\", \"ner\": \"O\"}, \"children\": []}, {\"attrib\": {\"word\": \"disease\", \"dep_parent\": \"11\", \"pos\": \"NN\", \"lemma\": \"disease\", \"word_idx\": \"16\", \"dep_path\": \"dep\", \"ner\": \"O\"}, \"children\": [{\"attrib\": {\"word\": \"CMT\", \"dep_parent\": \"17\", \"pos\": \"NNP\", \"lemma\": \"CMT\", \"word_idx\": \"14\", \"dep_path\": \"appos\", \"ner\": \"O\"}, \"children\": []}]}]}]};\n",
       "\n",
       "// Constants\n",
       "var margin = {top: 20, right: 20, bottom: 20, left: 20},\n",
       "width = 800 - margin.left - margin.right,\n",
       "height = 250 - margin.top - margin.bottom,\n",
       "R = 5;\n",
       "\n",
       "// Create the d3 tree object\n",
       "var tree = d3.layout.tree()\n",
       "  .size([width, height]);\n",
       "\n",
       "// Create the svg canvas\n",
       "var svg = d3.select(\"#tree-chart-1927448183035911858\")\n",
       "  .append(\"svg\")\n",
       "  .attr(\"width\", width + margin.left + margin.right)\n",
       "  .attr(\"height\", height + margin.top + margin.bottom)\n",
       "  .append(\"g\")\n",
       "  .attr(\"transform\", \"translate(\" + margin.left + \",\" + margin.top + \")\");\n",
       "\n",
       "function renderTree() {\n",
       "  var nodes = tree.nodes(root),\n",
       "  edges = tree.links(nodes);\n",
       "\n",
       "  // Place the nodes\n",
       "  var nodeGroups = svg.selectAll(\"g.node\")\n",
       "    .data(nodes)\n",
       "    .enter().append(\"g\")\n",
       "    .attr(\"class\", \"node\")\n",
       "    .attr(\"transform\", function(d) { return \"translate(\" + d.x + \",\" + d.y + \")\"; });\n",
       "       \n",
       "  // Append circles\n",
       "  nodeGroups.append(\"circle\")\n",
       "    .on(\"click\", function() {\n",
       "      d3.select(this).classed(\"highlight\", !d3.select(this).classed(\"highlight\")); })\n",
       "    .attr(\"r\", R);\n",
       "     \n",
       "  // Append the actual word\n",
       "  nodeGroups.append(\"text\")\n",
       "    .text(function(d) { return d.attrib.word; })\n",
       "    .attr(\"text-anchor\", function(d) { \n",
       "      return d.children && d.children.length > 0 ? \"start\" : \"middle\"; })\n",
       "    .attr(\"dx\", function(d) { \n",
       "      return d.children && d.children.length > 0 ? R + 3 : 0; })\n",
       "    .attr(\"dy\", function(d) { \n",
       "      return d.children && d.children.length > 0 ? 0 : 3*R + 3; });\n",
       "\n",
       "  // Place the edges\n",
       "  var edgePaths = svg.selectAll(\"path\")\n",
       "    .data(edges)\n",
       "    .enter().append(\"path\")\n",
       "    .attr(\"class\", \"edge\")\n",
       "    .on(\"click\", function() {\n",
       "      d3.select(this).classed(\"highlight\", !d3.select(this).classed(\"highlight\")); })\n",
       "    .attr(\"d\", d3.svg.diagonal());\n",
       "}\n",
       "\n",
       "renderTree();\n",
       "});\n"
      ]
     },
     "metadata": {},
     "output_type": "display_data"
    },
    {
     "data": {
      "text/html": [
       "<style>\n",
       ".node {\n",
       "  cursor: pointer;\n",
       "}\n",
       "\n",
       ".node circle {\n",
       "  fill: #fff;\n",
       "  stroke: steelblue;\n",
       "  stroke-width: 3px;\n",
       "}\n",
       "\n",
       ".node text {\n",
       "  font: 12px sans-serif;\n",
       "}\n",
       "\n",
       ".edge {\n",
       "  fill: none;\n",
       "  stroke: #ccc;\n",
       "  stroke-width: 2px;\n",
       "  cursor: pointer;\n",
       "}\n",
       "\n",
       ".highlight {\n",
       "  stroke: red;\n",
       "  stroke-width: 3px;\n",
       "}\n",
       "</style>\n",
       "\n",
       "<!--Provide the canvas id via python string formatting here--!>\n",
       "<div id=\"tree-chart-1353458767740013196\"></div>\n"
      ]
     },
     "metadata": {},
     "output_type": "display_data"
    },
    {
     "data": {
      "application/javascript": [
       "$.getScript(\"http://d3js.org/d3.v3.min.js\", function () {\n",
       "// See http://bl.ocks.org/d3noob/8375092\n",
       "// Two vars need to be provided via python string formatting: the tree, and the canvas id\n",
       "\n",
       "// JSON tree\n",
       "var root = {\"attrib\": {\"word\": \"investigate\", \"dep_parent\": \"0\", \"pos\": \"VB\", \"lemma\": \"investigate\", \"word_idx\": \"1\", \"ner\": \"O\"}, \"children\": [{\"attrib\": {\"word\": \"To\", \"dep_parent\": \"2\", \"pos\": \"TO\", \"lemma\": \"to\", \"word_idx\": \"0\", \"dep_path\": \"aux\", \"ner\": \"O\"}, \"children\": []}, {\"attrib\": {\"word\": \"effect\", \"dep_parent\": \"2\", \"pos\": \"NN\", \"lemma\": \"effect\", \"word_idx\": \"4\", \"dep_path\": \"dobj\", \"ner\": \"O\"}, \"children\": [{\"attrib\": {\"word\": \"the\", \"dep_parent\": \"5\", \"pos\": \"DT\", \"lemma\": \"the\", \"word_idx\": \"2\", \"dep_path\": \"det\", \"ner\": \"O\"}, \"children\": []}, {\"attrib\": {\"word\": \"genetic\", \"dep_parent\": \"5\", \"pos\": \"JJ\", \"lemma\": \"genetic\", \"word_idx\": \"3\", \"dep_path\": \"amod\", \"ner\": \"O\"}, \"children\": []}, {\"attrib\": {\"word\": \"mutation\", \"dep_parent\": \"5\", \"pos\": \"NN\", \"lemma\": \"mutation\", \"word_idx\": \"8\", \"dep_path\": \"prep_of\", \"ner\": \"O\"}, \"children\": [{\"attrib\": {\"word\": \"a\", \"dep_parent\": \"9\", \"pos\": \"DT\", \"lemma\": \"a\", \"word_idx\": \"6\", \"dep_path\": \"det\", \"ner\": \"O\"}, \"children\": []}, {\"attrib\": {\"word\": \"new\", \"dep_parent\": \"9\", \"pos\": \"JJ\", \"lemma\": \"new\", \"word_idx\": \"7\", \"dep_path\": \"amod\", \"ner\": \"O\"}, \"children\": []}, {\"attrib\": {\"word\": \"found\", \"dep_parent\": \"9\", \"pos\": \"VBN\", \"lemma\": \"find\", \"word_idx\": \"9\", \"dep_path\": \"vmod\", \"ner\": \"O\"}, \"children\": [{\"attrib\": {\"word\": \"exon\", \"dep_parent\": \"10\", \"pos\": \"NN\", \"lemma\": \"exon\", \"word_idx\": \"11\", \"dep_path\": \"prep_in\", \"ner\": \"O\"}, \"children\": [{\"attrib\": {\"word\": \"17\", \"dep_parent\": \"12\", \"pos\": \"CD\", \"lemma\": \"17\", \"word_idx\": \"12\", \"dep_path\": \"num\", \"ner\": \"NUMBER\"}, \"children\": []}, {\"attrib\": {\"word\": \"gene\", \"dep_parent\": \"12\", \"pos\": \"NN\", \"lemma\": \"gene\", \"word_idx\": \"19\", \"dep_path\": \"prep_of\", \"ner\": \"O\"}, \"children\": [{\"attrib\": {\"word\": \"the\", \"dep_parent\": \"20\", \"pos\": \"DT\", \"lemma\": \"the\", \"word_idx\": \"14\", \"dep_path\": \"det\", \"ner\": \"O\"}, \"children\": []}, {\"attrib\": {\"word\": \"myophosphorylase\", \"dep_parent\": \"20\", \"pos\": \"NN\", \"lemma\": \"myophosphorylase\", \"word_idx\": \"15\", \"dep_path\": \"nn\", \"ner\": \"O\"}, \"children\": []}, {\"attrib\": {\"word\": \"PYGM\", \"dep_parent\": \"20\", \"pos\": \"NN\", \"lemma\": \"pygm\", \"word_idx\": \"17\", \"dep_path\": \"nn\", \"ner\": \"O\"}, \"children\": []}]}]}, {\"attrib\": {\"word\": \"cause\", \"dep_parent\": \"10\", \"pos\": \"NN\", \"lemma\": \"cause\", \"word_idx\": \"22\", \"dep_path\": \"prep_as\", \"ner\": \"O\"}, \"children\": [{\"attrib\": {\"word\": \"a\", \"dep_parent\": \"23\", \"pos\": \"DT\", \"lemma\": \"a\", \"word_idx\": \"21\", \"dep_path\": \"det\", \"ner\": \"O\"}, \"children\": []}, {\"attrib\": {\"word\": \"disease\", \"dep_parent\": \"23\", \"pos\": \"NN\", \"lemma\": \"disease\", \"word_idx\": \"25\", \"dep_path\": \"prep_of\", \"ner\": \"O\"}, \"children\": [{\"attrib\": {\"word\": \"McArdle\", \"dep_parent\": \"26\", \"pos\": \"NNP\", \"lemma\": \"McArdle\", \"word_idx\": \"24\", \"dep_path\": \"nn\", \"ner\": \"PERSON\"}, \"children\": []}, {\"attrib\": {\"word\": \"known\", \"dep_parent\": \"26\", \"pos\": \"VBN\", \"lemma\": \"know\", \"word_idx\": \"28\", \"dep_path\": \"vmod\", \"ner\": \"O\"}, \"children\": [{\"attrib\": {\"word\": \"also\", \"dep_parent\": \"29\", \"pos\": \"RB\", \"lemma\": \"also\", \"word_idx\": \"27\", \"dep_path\": \"advmod\", \"ner\": \"O\"}, \"children\": []}, {\"attrib\": {\"word\": \"glycogenosis\", \"dep_parent\": \"29\", \"pos\": \"NN\", \"lemma\": \"glycogenosis\", \"word_idx\": \"32\", \"dep_path\": \"prep_as\", \"ner\": \"O\"}, \"children\": [{\"attrib\": {\"word\": \"type\", \"dep_parent\": \"33\", \"pos\": \"NN\", \"lemma\": \"type\", \"word_idx\": \"30\", \"dep_path\": \"nn\", \"ner\": \"O\"}, \"children\": []}, {\"attrib\": {\"word\": \"5\", \"dep_parent\": \"33\", \"pos\": \"CD\", \"lemma\": \"5\", \"word_idx\": \"31\", \"dep_path\": \"num\", \"ner\": \"NUMBER\"}, \"children\": []}]}]}]}]}]}]}]}]};\n",
       "\n",
       "// Constants\n",
       "var margin = {top: 20, right: 20, bottom: 20, left: 20},\n",
       "width = 800 - margin.left - margin.right,\n",
       "height = 250 - margin.top - margin.bottom,\n",
       "R = 5;\n",
       "\n",
       "// Create the d3 tree object\n",
       "var tree = d3.layout.tree()\n",
       "  .size([width, height]);\n",
       "\n",
       "// Create the svg canvas\n",
       "var svg = d3.select(\"#tree-chart-1353458767740013196\")\n",
       "  .append(\"svg\")\n",
       "  .attr(\"width\", width + margin.left + margin.right)\n",
       "  .attr(\"height\", height + margin.top + margin.bottom)\n",
       "  .append(\"g\")\n",
       "  .attr(\"transform\", \"translate(\" + margin.left + \",\" + margin.top + \")\");\n",
       "\n",
       "function renderTree() {\n",
       "  var nodes = tree.nodes(root),\n",
       "  edges = tree.links(nodes);\n",
       "\n",
       "  // Place the nodes\n",
       "  var nodeGroups = svg.selectAll(\"g.node\")\n",
       "    .data(nodes)\n",
       "    .enter().append(\"g\")\n",
       "    .attr(\"class\", \"node\")\n",
       "    .attr(\"transform\", function(d) { return \"translate(\" + d.x + \",\" + d.y + \")\"; });\n",
       "       \n",
       "  // Append circles\n",
       "  nodeGroups.append(\"circle\")\n",
       "    .on(\"click\", function() {\n",
       "      d3.select(this).classed(\"highlight\", !d3.select(this).classed(\"highlight\")); })\n",
       "    .attr(\"r\", R);\n",
       "     \n",
       "  // Append the actual word\n",
       "  nodeGroups.append(\"text\")\n",
       "    .text(function(d) { return d.attrib.word; })\n",
       "    .attr(\"text-anchor\", function(d) { \n",
       "      return d.children && d.children.length > 0 ? \"start\" : \"middle\"; })\n",
       "    .attr(\"dx\", function(d) { \n",
       "      return d.children && d.children.length > 0 ? R + 3 : 0; })\n",
       "    .attr(\"dy\", function(d) { \n",
       "      return d.children && d.children.length > 0 ? 0 : 3*R + 3; });\n",
       "\n",
       "  // Place the edges\n",
       "  var edgePaths = svg.selectAll(\"path\")\n",
       "    .data(edges)\n",
       "    .enter().append(\"path\")\n",
       "    .attr(\"class\", \"edge\")\n",
       "    .on(\"click\", function() {\n",
       "      d3.select(this).classed(\"highlight\", !d3.select(this).classed(\"highlight\")); })\n",
       "    .attr(\"d\", d3.svg.diagonal());\n",
       "}\n",
       "\n",
       "renderTree();\n",
       "});\n"
      ]
     },
     "metadata": {},
     "output_type": "display_data"
    }
   ],
   "source": [
    "xt1.render_tree()\n",
    "xt2.render_tree()"
   ]
  },
  {
   "cell_type": "markdown",
   "metadata": {},
   "source": [
    "### Testing XML speeds\n",
    "\n",
    "How does it compare between:\n",
    "* parse to XML via this python code, store as string, then parse from string at runtime\n",
    "* just parse to XML at runtime via this python code?"
   ]
  },
  {
   "cell_type": "code",
   "execution_count": 106,
   "metadata": {
    "collapsed": false
   },
   "outputs": [
    {
     "name": "stdout",
     "output_type": "stream",
     "text": [
      "CPU times: user 8.92 ms, sys: 2.56 ms, total: 11.5 ms\n",
      "Wall time: 9.56 ms\n"
     ]
    }
   ],
   "source": [
    "# Map sentence to xmltree\n",
    "%time xts = map(corenlp_to_xmltree, rows)"
   ]
  },
  {
   "cell_type": "code",
   "execution_count": 107,
   "metadata": {
    "collapsed": false
   },
   "outputs": [
    {
     "name": "stdout",
     "output_type": "stream",
     "text": [
      "CPU times: user 433 µs, sys: 326 µs, total: 759 µs\n",
      "Wall time: 1.21 ms\n"
     ]
    }
   ],
   "source": [
    "# Pre-process to xml string\n",
    "xmls = [xt.to_str() for xt in map(corenlp_to_xmltree, rows)]\n",
    "\n",
    "# Parse @ runtime using lxml\n",
    "%time roots = map(et.fromstring, xmls)"
   ]
  },
  {
   "cell_type": "markdown",
   "metadata": {},
   "source": [
    "### Table example"
   ]
  },
  {
   "cell_type": "code",
   "execution_count": 126,
   "metadata": {
    "collapsed": false
   },
   "outputs": [
    {
     "data": {
      "text/html": [
       "\n",
       "<div class=\"table-wrapper\">\n",
       "    <h3>Causal genomic relationships</h3>\n",
       "    <table>\n",
       "        <tr><th>Gene</th><th>Variant</th><th>Phenotype</th></tr>\n",
       "        <tr><td>ABC</td><td><i>AG34</i></td><td>Headaches during defecation</td></tr>\n",
       "        <tr><td>BDF</td><td><i>CT2</i></td><td>Defecation during headaches</td></tr>\n",
       "        <tr><td>XYG</td><td><i>AT456</i></td><td>Defecasomnia</td></tr>\n",
       "    </table>\n",
       "</div>\n"
      ]
     },
     "metadata": {},
     "output_type": "display_data"
    }
   ],
   "source": [
    "# Some wishful thinking...\n",
    "table_xml = \"\"\"\n",
    "<div class=\"table-wrapper\">\n",
    "    <h3>Causal genomic relationships</h3>\n",
    "    <table>\n",
    "        <tr><th>Gene</th><th>Variant</th><th>Phenotype</th></tr>\n",
    "        <tr><td>ABC</td><td><i>AG34</i></td><td>Headaches during defecation</td></tr>\n",
    "        <tr><td>BDF</td><td><i>CT2</i></td><td>Defecation during headaches</td></tr>\n",
    "        <tr><td>XYG</td><td><i>AT456</i></td><td>Defecasomnia</td></tr>\n",
    "    </table>\n",
    "</div>\n",
    "\"\"\"\n",
    "from IPython.core.display import display_html, HTML\n",
    "display_html(HTML(table_xml))"
   ]
  }
 ],
 "metadata": {
  "kernelspec": {
   "display_name": "Python 2",
   "language": "python",
   "name": "python2"
  },
  "language_info": {
   "codemirror_mode": {
    "name": "ipython",
    "version": 2
   },
   "file_extension": ".py",
   "mimetype": "text/x-python",
   "name": "python",
   "nbconvert_exporter": "python",
   "pygments_lexer": "ipython2",
   "version": "2.7.6"
  }
 },
 "nbformat": 4,
 "nbformat_minor": 0
}
