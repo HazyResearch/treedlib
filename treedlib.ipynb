{
 "cells": [
  {
   "cell_type": "markdown",
   "metadata": {},
   "source": [
    "# TreeDLib"
   ]
  },
  {
   "cell_type": "code",
   "execution_count": 256,
   "metadata": {
    "collapsed": false
   },
   "outputs": [
    {
     "name": "stdout",
     "output_type": "stream",
     "text": [
      "The autoreload extension is already loaded. To reload it, use:\n",
      "  %reload_ext autoreload\n",
      "The sql extension is already loaded. To reload it, use:\n",
      "  %reload_ext sql\n"
     ]
    }
   ],
   "source": [
    "%load_ext autoreload\n",
    "%autoreload 2\n",
    "%load_ext sql\n",
    "#from treedlib import *\n",
    "# Note: reloading for submodules doesn't work, so we load directly here\n",
    "from treedlib.util import *\n",
    "from treedlib.structs import *\n",
    "from treedlib.templates import *\n",
    "from treedlib.features import *\n",
    "import lxml.etree as et\n",
    "import numpy as np"
   ]
  },
  {
   "cell_type": "markdown",
   "metadata": {},
   "source": [
    "We define three classes of operators:\n",
    "* _NodeSets:_ $S : 2^T \\mapsto 2^T$\n",
    "* _Indicators:_ $I : 2^T \\mapsto \\{0,1\\}^F$\n",
    "* _Combinators:_ $C : \\{0,1\\}^F \\times \\{0,1\\}^F \\mapsto \\{0,1\\}^F$\n",
    "\n",
    "where $T$ is a given input tree, and $F$ is the dimension of the feature space."
   ]
  },
  {
   "cell_type": "markdown",
   "metadata": {},
   "source": [
    "## Binning"
   ]
  },
  {
   "cell_type": "code",
   "execution_count": 118,
   "metadata": {
    "collapsed": false
   },
   "outputs": [
    {
     "name": "stdout",
     "output_type": "stream",
     "text": [
      "1135680 rows affected.\n",
      "1124224 rows affected.\n"
     ]
    }
   ],
   "source": [
    "%sql postgresql://ajratner@localhost:6432/genomics_ajratner2\n",
    "res_seq = %sql SELECT * FROM genepheno_features WHERE feature LIKE '%SEQ%'\n",
    "res_dep = %sql SELECT * FROM genepheno_features WHERE feature NOT LIKE '%SEQ%'"
   ]
  },
  {
   "cell_type": "code",
   "execution_count": 138,
   "metadata": {
    "collapsed": false
   },
   "outputs": [
    {
     "name": "stdout",
     "output_type": "stream",
     "text": [
      "[5.0, 8.0, 14.0]\n"
     ]
    },
    {
     "data": {
      "image/png": "[encoded data removed]",
      "text/plain": [
       "<matplotlib.figure.Figure at 0x7f279f479910>"
      ]
     },
     "metadata": {},
     "output_type": "display_data"
    }
   ],
   "source": [
    "%matplotlib inline\n",
    "import matplotlib.pyplot as plt\n",
    "\n",
    "seq_lens = [len(rs.feature.split('_')) for rs in res_seq]\n",
    "n, bins, patches = plt.hist(seq_lens, 50, normed=1, facecolor='green', alpha=0.75)\n",
    "print [np.percentile(seq_lens, p) for p in [25,50,75]]"
   ]
  },
  {
   "cell_type": "code",
   "execution_count": 139,
   "metadata": {
    "collapsed": false
   },
   "outputs": [
    {
     "name": "stdout",
     "output_type": "stream",
     "text": [
      "[3.0, 4.0, 6.0]\n"
     ]
    },
    {
     "data": {
      "image/png": "[encoded data removed]",
      "text/plain": [
       "<matplotlib.figure.Figure at 0x7f279ed413d0>"
      ]
     },
     "metadata": {},
     "output_type": "display_data"
    }
   ],
   "source": [
    "n, bins, patches = plt.hist(dep_lens, 50, normed=1, facecolor='green', alpha=0.75)\n",
    "dep_lens = [len(rs.feature.split('_')) for rs in res_dep]\n",
    "print [np.percentile(dep_lens, p) for p in [25,50,75]]"
   ]
  },
  {
   "cell_type": "markdown",
   "metadata": {},
   "source": [
    "## Adding new feature types..."
   ]
  },
  {
   "cell_type": "code",
   "execution_count": 253,
   "metadata": {
    "collapsed": false
   },
   "outputs": [
    {
     "data": {
      "text/html": [
       "<style>\n",
       ".node {\n",
       "  cursor: pointer;\n",
       "}\n",
       "\n",
       ".node circle {\n",
       "  fill: #fff;\n",
       "  stroke: steelblue;\n",
       "  stroke-width: 3px;\n",
       "}\n",
       "\n",
       ".node text {\n",
       "  font: 12px sans-serif;\n",
       "}\n",
       "\n",
       ".edge {\n",
       "  fill: none;\n",
       "  stroke: #ccc;\n",
       "  stroke-width: 2px;\n",
       "  cursor: pointer;\n",
       "}\n",
       "\n",
       ".highlight {\n",
       "  stroke: red;\n",
       "  stroke-width: 3px;\n",
       "}\n",
       "</style>\n",
       "\n",
       "<!--Provide the canvas id (twice) and the words via python string formatting here--!>\n",
       "<div id=\"tree-chart-3157712327676440204\"></div>\n",
       "<div id=\"raw-seq-3157712327676440204\">\n",
       "<span class=\"word-3157712327676440204-0\">TFB1M</span> <span class=\"word-3157712327676440204-1\">has</span> <span class=\"word-3157712327676440204-2\">been</span> <span class=\"word-3157712327676440204-3\">identified</span> <span class=\"word-3157712327676440204-4\">as</span> <span class=\"word-3157712327676440204-5\">a</span> <span class=\"word-3157712327676440204-6\">nuclear</span> <span class=\"word-3157712327676440204-7\">modifier</span> <span class=\"word-3157712327676440204-8\">of</span> <span class=\"word-3157712327676440204-9\">the</span> <span class=\"word-3157712327676440204-10\">1555A</span> <span class=\"word-3157712327676440204-11\">></span> <span class=\"word-3157712327676440204-12\">G</span> <span class=\"word-3157712327676440204-13\">mutation</span> <span class=\"word-3157712327676440204-14\">in</span> <span class=\"word-3157712327676440204-15\">the</span> <span class=\"word-3157712327676440204-16\">12S</span> <span class=\"word-3157712327676440204-17\">rRNA</span> <span class=\"word-3157712327676440204-18\">gene</span> <span class=\"word-3157712327676440204-19\">that</span> <span class=\"word-3157712327676440204-20\">causes</span> <span class=\"word-3157712327676440204-21\">nonsyndromic</span> <span class=\"word-3157712327676440204-22\">or</span> <span class=\"word-3157712327676440204-23\">aminoglycoside</span> <span class=\"word-3157712327676440204-24\">antibiotic-induced</span> <span class=\"word-3157712327676440204-25\">deafness</span> <span class=\"word-3157712327676440204-26\">-LRB-</span> <span class=\"word-3157712327676440204-27\">-RRB-</span> <span class=\"word-3157712327676440204-28\">.</span>\n",
       "</div>\n"
      ]
     },
     "metadata": {},
     "output_type": "display_data"
    },
    {
     "data": {
      "application/javascript": [
       "$.getScript(\"http://d3js.org/d3.v3.min.js\", function () {\n",
       "// See http://bl.ocks.org/d3noob/8375092\n",
       "// Three vars need to be provided via python string formatting:\n",
       "var chartId = \"3157712327676440204\";\n",
       "var root = {\"attrib\": {\"word\": \"identified\", \"dep_parent\": \"0\", \"dep_label\": \"\", \"pos\": \"VBN\", \"lemma\": \"identify\", \"word_idx\": \"3\", \"ner\": \"O\"}, \"children\": [{\"attrib\": {\"word\": \"TFB1M\", \"dep_parent\": \"4\", \"dep_label\": \"nsubjpass\", \"pos\": \"NN\", \"lemma\": \"tfb1m\", \"word_idx\": \"0\", \"ner\": \"O\"}, \"children\": []}, {\"attrib\": {\"word\": \"has\", \"dep_parent\": \"4\", \"dep_label\": \"aux\", \"pos\": \"VBZ\", \"lemma\": \"have\", \"word_idx\": \"1\", \"ner\": \"O\"}, \"children\": []}, {\"attrib\": {\"word\": \"been\", \"dep_parent\": \"4\", \"dep_label\": \"auxpass\", \"pos\": \"VBN\", \"lemma\": \"be\", \"word_idx\": \"2\", \"ner\": \"O\"}, \"children\": []}, {\"attrib\": {\"word\": \"mutation\", \"dep_parent\": \"4\", \"dep_label\": \"prep_as\", \"pos\": \"NN\", \"lemma\": \"mutation\", \"word_idx\": \"13\", \"ner\": \"O\"}, \"children\": [{\"attrib\": {\"word\": \">\", \"dep_parent\": \"14\", \"dep_label\": \"amod\", \"pos\": \"JJR\", \"lemma\": \">\", \"word_idx\": \"11\", \"ner\": \"O\"}, \"children\": [{\"attrib\": {\"word\": \"modifier\", \"dep_parent\": \"12\", \"dep_label\": \"npadvmod\", \"pos\": \"NN\", \"lemma\": \"modifier\", \"word_idx\": \"7\", \"ner\": \"O\"}, \"children\": [{\"attrib\": {\"word\": \"a\", \"dep_parent\": \"8\", \"dep_label\": \"det\", \"pos\": \"DT\", \"lemma\": \"a\", \"word_idx\": \"5\", \"ner\": \"O\"}, \"children\": []}, {\"attrib\": {\"word\": \"nuclear\", \"dep_parent\": \"8\", \"dep_label\": \"amod\", \"pos\": \"JJ\", \"lemma\": \"nuclear\", \"word_idx\": \"6\", \"ner\": \"O\"}, \"children\": []}, {\"attrib\": {\"word\": \"1555A\", \"dep_parent\": \"8\", \"dep_label\": \"prep_of\", \"pos\": \"NN\", \"lemma\": \"1555a\", \"word_idx\": \"10\", \"ner\": \"O\"}, \"children\": [{\"attrib\": {\"word\": \"the\", \"dep_parent\": \"11\", \"dep_label\": \"det\", \"pos\": \"DT\", \"lemma\": \"the\", \"word_idx\": \"9\", \"ner\": \"O\"}, \"children\": []}]}]}]}, {\"attrib\": {\"word\": \"G\", \"dep_parent\": \"14\", \"dep_label\": \"nn\", \"pos\": \"NN\", \"lemma\": \"g\", \"word_idx\": \"12\", \"ner\": \"O\"}, \"children\": []}, {\"attrib\": {\"word\": \"gene\", \"dep_parent\": \"14\", \"dep_label\": \"prep_in\", \"pos\": \"NN\", \"lemma\": \"gene\", \"word_idx\": \"18\", \"ner\": \"O\"}, \"children\": [{\"attrib\": {\"word\": \"the\", \"dep_parent\": \"19\", \"dep_label\": \"det\", \"pos\": \"DT\", \"lemma\": \"the\", \"word_idx\": \"15\", \"ner\": \"O\"}, \"children\": []}, {\"attrib\": {\"word\": \"12S\", \"dep_parent\": \"19\", \"dep_label\": \"nn\", \"pos\": \"NN\", \"lemma\": \"12\", \"word_idx\": \"16\", \"ner\": \"O\"}, \"children\": []}, {\"attrib\": {\"word\": \"rRNA\", \"dep_parent\": \"19\", \"dep_label\": \"nn\", \"pos\": \"NN\", \"lemma\": \"rrna\", \"word_idx\": \"17\", \"ner\": \"O\"}, \"children\": []}, {\"attrib\": {\"word\": \"causes\", \"dep_parent\": \"19\", \"dep_label\": \"rcmod\", \"pos\": \"VBZ\", \"lemma\": \"cause\", \"word_idx\": \"20\", \"ner\": \"O\"}, \"children\": [{\"attrib\": {\"word\": \"that\", \"dep_parent\": \"21\", \"dep_label\": \"nsubj\", \"pos\": \"WDT\", \"lemma\": \"that\", \"word_idx\": \"19\", \"ner\": \"O\"}, \"children\": []}, {\"attrib\": {\"word\": \"deafness\", \"dep_parent\": \"21\", \"dep_label\": \"dobj\", \"pos\": \"NN\", \"lemma\": \"deafness\", \"word_idx\": \"25\", \"ner\": \"O\"}, \"children\": [{\"attrib\": {\"word\": \"nonsyndromic\", \"dep_parent\": \"26\", \"dep_label\": \"amod\", \"pos\": \"JJ\", \"lemma\": \"nonsyndromic\", \"word_idx\": \"21\", \"ner\": \"O\"}, \"children\": [{\"attrib\": {\"word\": \"aminoglycoside\", \"dep_parent\": \"22\", \"dep_label\": \"conj_or\", \"pos\": \"JJ\", \"lemma\": \"aminoglycoside\", \"word_idx\": \"23\", \"ner\": \"O\"}, \"children\": []}]}, {\"attrib\": {\"word\": \"antibiotic-induced\", \"dep_parent\": \"26\", \"dep_label\": \"amod\", \"pos\": \"JJ\", \"lemma\": \"antibiotic-induced\", \"word_idx\": \"24\", \"ner\": \"O\"}, \"children\": []}]}]}]}]}]};\n",
       "var highlightIdxs = [[0], [25]];\n",
       "\n",
       "// Highlight words / nodes\n",
       "var COLORS = [\"#ff5c33\", \"#ffcc00\", \"#33cc33\", \"#3399ff\"];\n",
       "function highlightWords() {\n",
       "  for (var i=0; i < highlightIdxs.length; i++) {\n",
       "    var c = COLORS[i];\n",
       "    var idxs = highlightIdxs[i];\n",
       "    for (var j=0; j < idxs.length; j++) {\n",
       "      d3.selectAll(\".word-\"+chartId+\"-\"+idxs[j]).style(\"stroke\", c).style(\"background\", c);\n",
       "    }\n",
       "  }\n",
       "}\n",
       "\n",
       "// Constants\n",
       "var margin = {top: 20, right: 20, bottom: 20, left: 20},\n",
       "width = 800 - margin.left - margin.right,\n",
       "height = 350 - margin.top - margin.bottom,\n",
       "R = 5;\n",
       "\n",
       "// Create the d3 tree object\n",
       "var tree = d3.layout.tree()\n",
       "  .size([width, height]);\n",
       "\n",
       "// Create the svg canvas\n",
       "var svg = d3.select(\"#tree-chart-\" + chartId)\n",
       "  .append(\"svg\")\n",
       "  .attr(\"width\", width + margin.left + margin.right)\n",
       "  .attr(\"height\", height + margin.top + margin.bottom)\n",
       "  .append(\"g\")\n",
       "  .attr(\"transform\", \"translate(\" + margin.left + \",\" + margin.top + \")\");\n",
       "\n",
       "function renderTree() {\n",
       "  var nodes = tree.nodes(root),\n",
       "  edges = tree.links(nodes);\n",
       "\n",
       "  // Place the nodes\n",
       "  var nodeGroups = svg.selectAll(\"g.node\")\n",
       "    .data(nodes)\n",
       "    .enter().append(\"g\")\n",
       "    .attr(\"class\", \"node\")\n",
       "    .attr(\"transform\", function(d) { return \"translate(\" + d.x + \",\" + d.y + \")\"; });\n",
       "       \n",
       "  // Append circles\n",
       "  nodeGroups.append(\"circle\")\n",
       "    //.on(\"click\", function() {\n",
       "    //  d3.select(this).classed(\"highlight\", !d3.select(this).classed(\"highlight\")); })\n",
       "    .attr(\"r\", R)\n",
       "    .attr(\"class\", function(d) { return \"word-\"+chartId+\"-\"+d.attrib.word_idx; });\n",
       "     \n",
       "  // Append the actual word\n",
       "  nodeGroups.append(\"text\")\n",
       "    .text(function(d) { return d.attrib.word; })\n",
       "    .attr(\"text-anchor\", function(d) { \n",
       "      return d.children && d.children.length > 0 ? \"start\" : \"middle\"; })\n",
       "    .attr(\"dx\", function(d) { \n",
       "      return d.children && d.children.length > 0 ? R + 3 : 0; })\n",
       "    .attr(\"dy\", function(d) { \n",
       "      return d.children && d.children.length > 0 ? 0 : 3*R + 3; });\n",
       "\n",
       "  // Place the edges\n",
       "  var edgePaths = svg.selectAll(\"path\")\n",
       "    .data(edges)\n",
       "    .enter().append(\"path\")\n",
       "    .attr(\"class\", \"edge\")\n",
       "    .on(\"click\", function() {\n",
       "      d3.select(this).classed(\"highlight\", !d3.select(this).classed(\"highlight\")); })\n",
       "    .attr(\"d\", d3.svg.diagonal());\n",
       "}\n",
       "\n",
       "renderTree();\n",
       "highlightWords();\n",
       "});\n"
      ]
     },
     "metadata": {},
     "output_type": "display_data"
    }
   ],
   "source": [
    "cids = [gidxs, pidxs]\n",
    "xt.render_tree(highlight=cids)"
   ]
  },
  {
   "cell_type": "code",
   "execution_count": 257,
   "metadata": {
    "collapsed": false
   },
   "outputs": [],
   "source": [
    "ds = {'GENE': ['TFB1M']}\n",
    "gen_feats = compile_relation_feature_generator()"
   ]
  },
  {
   "cell_type": "code",
   "execution_count": 258,
   "metadata": {
    "collapsed": false
   },
   "outputs": [
    {
     "name": "stdout",
     "output_type": "stream",
     "text": [
      "LEMMA:BETWEEN-MENTION-and-MENTION[identify mutation gene cause]\n",
      "DEP_LABEL:BETWEEN-MENTION-and-MENTION[ prep_as prep_in rcmod]\n",
      "DEP_LABEL|LEMMA:BETWEEN-MENTION-and-MENTION[|identify prep_as|mutation prep_in|gene rcmod|cause]\n",
      "LEMMA:PARENTS-OF-BETWEEN-MENTION-and-MENTION[None]\n",
      "LEMMA:BETWEEN-MENTION-and-MENTION[identify mutation]\n",
      "LEMMA:BETWEEN-MENTION-and-MENTION[mutation gene]\n",
      "LEMMA:BETWEEN-MENTION-and-MENTION[gene cause]\n",
      "LEMMA:BETWEEN-MENTION-and-MENTION[identify mutation gene]\n",
      "LEMMA:BETWEEN-MENTION-and-MENTION[mutation gene cause]\n",
      "DEP_LABEL:BETWEEN-MENTION-and-MENTION[ prep_as]\n",
      "DEP_LABEL:BETWEEN-MENTION-and-MENTION[prep_as prep_in]\n",
      "DEP_LABEL:BETWEEN-MENTION-and-MENTION[prep_in rcmod]\n",
      "DEP_LABEL:BETWEEN-MENTION-and-MENTION[ prep_as prep_in]\n",
      "DEP_LABEL:BETWEEN-MENTION-and-MENTION[prep_as prep_in rcmod]\n",
      "DEP_LABEL|LEMMA:BETWEEN-MENTION-and-MENTION[|identify prep_as|mutation]\n",
      "DEP_LABEL|LEMMA:BETWEEN-MENTION-and-MENTION[prep_as|mutation prep_in|gene]\n",
      "DEP_LABEL|LEMMA:BETWEEN-MENTION-and-MENTION[prep_in|gene rcmod|cause]\n",
      "DEP_LABEL|LEMMA:BETWEEN-MENTION-and-MENTION[|identify prep_as|mutation prep_in|gene]\n",
      "DEP_LABEL|LEMMA:BETWEEN-MENTION-and-MENTION[prep_as|mutation prep_in|gene rcmod|cause]\n",
      "LEMMA:FILTER-BY(pos=VB):BETWEEN-MENTION-and-MENTION[identify]\n",
      "LEMMA:FILTER-BY(pos=VB):BETWEEN-MENTION-and-MENTION[cause]\n",
      "LEMMA:FILTER-BY(pos=VB):BETWEEN-MENTION-and-MENTION[identify cause]\n",
      "LEMMA:FILTER-BY(pos=NN):BETWEEN-MENTION-and-MENTION[mutation]\n",
      "LEMMA:FILTER-BY(pos=NN):BETWEEN-MENTION-and-MENTION[gene]\n",
      "LEMMA:FILTER-BY(pos=NN):BETWEEN-MENTION-and-MENTION[mutation gene]\n",
      "LEMMA:LEFT-OF-MENTION[that]\n",
      "DEP_LABEL:LEFT-OF-MENTION[nsubj]\n",
      "LEMMA:RIGHT-OF-MENTION[have]\n",
      "LEMMA:RIGHT-OF-MENTION[have be]\n",
      "LEMMA:RIGHT-OF-MENTION[have be mutation]\n",
      "DEP_LABEL:RIGHT-OF-MENTION[aux]\n",
      "DEP_LABEL:RIGHT-OF-MENTION[aux auxpass]\n",
      "DEP_LABEL:RIGHT-OF-MENTION[aux auxpass prep_as]\n",
      "SEQ-BETWEEN[LEN:14-inf]+LEMMA:SEQ-BETWEEN[have]\n",
      "SEQ-BETWEEN[LEN:14-inf]+LEMMA:SEQ-BETWEEN[be]\n",
      "SEQ-BETWEEN[LEN:14-inf]+LEMMA:SEQ-BETWEEN[identify]\n",
      "SEQ-BETWEEN[LEN:14-inf]+LEMMA:SEQ-BETWEEN[a]\n",
      "SEQ-BETWEEN[LEN:14-inf]+LEMMA:SEQ-BETWEEN[nuclear]\n",
      "SEQ-BETWEEN[LEN:14-inf]+LEMMA:SEQ-BETWEEN[modifier]\n",
      "SEQ-BETWEEN[LEN:14-inf]+LEMMA:SEQ-BETWEEN[the]\n",
      "SEQ-BETWEEN[LEN:14-inf]+LEMMA:SEQ-BETWEEN[1555a]\n",
      "SEQ-BETWEEN[LEN:14-inf]+LEMMA:SEQ-BETWEEN[>]\n",
      "SEQ-BETWEEN[LEN:14-inf]+LEMMA:SEQ-BETWEEN[g]\n",
      "SEQ-BETWEEN[LEN:14-inf]+LEMMA:SEQ-BETWEEN[mutation]\n",
      "SEQ-BETWEEN[LEN:14-inf]+LEMMA:SEQ-BETWEEN[the]\n",
      "SEQ-BETWEEN[LEN:14-inf]+LEMMA:SEQ-BETWEEN[12]\n",
      "SEQ-BETWEEN[LEN:14-inf]+LEMMA:SEQ-BETWEEN[rrna]\n",
      "SEQ-BETWEEN[LEN:14-inf]+LEMMA:SEQ-BETWEEN[gene]\n",
      "SEQ-BETWEEN[LEN:14-inf]+LEMMA:SEQ-BETWEEN[that]\n",
      "SEQ-BETWEEN[LEN:14-inf]+LEMMA:SEQ-BETWEEN[cause]\n",
      "SEQ-BETWEEN[LEN:14-inf]+LEMMA:SEQ-BETWEEN[nonsyndromic]\n",
      "SEQ-BETWEEN[LEN:14-inf]+LEMMA:SEQ-BETWEEN[aminoglycoside]\n",
      "SEQ-BETWEEN[LEN:14-inf]+LEMMA:SEQ-BETWEEN[antibiotic-induced]\n",
      "SEQ-BETWEEN[LEN:14-inf]+LEMMA:SEQ-BETWEEN[have be]\n",
      "SEQ-BETWEEN[LEN:14-inf]+LEMMA:SEQ-BETWEEN[be identify]\n",
      "SEQ-BETWEEN[LEN:14-inf]+LEMMA:SEQ-BETWEEN[identify a]\n",
      "SEQ-BETWEEN[LEN:14-inf]+LEMMA:SEQ-BETWEEN[a nuclear]\n",
      "SEQ-BETWEEN[LEN:14-inf]+LEMMA:SEQ-BETWEEN[nuclear modifier]\n",
      "SEQ-BETWEEN[LEN:14-inf]+LEMMA:SEQ-BETWEEN[modifier the]\n",
      "SEQ-BETWEEN[LEN:14-inf]+LEMMA:SEQ-BETWEEN[the 1555a]\n",
      "SEQ-BETWEEN[LEN:14-inf]+LEMMA:SEQ-BETWEEN[1555a >]\n",
      "SEQ-BETWEEN[LEN:14-inf]+LEMMA:SEQ-BETWEEN[> g]\n",
      "SEQ-BETWEEN[LEN:14-inf]+LEMMA:SEQ-BETWEEN[g mutation]\n",
      "SEQ-BETWEEN[LEN:14-inf]+LEMMA:SEQ-BETWEEN[mutation the]\n",
      "SEQ-BETWEEN[LEN:14-inf]+LEMMA:SEQ-BETWEEN[the 12]\n",
      "SEQ-BETWEEN[LEN:14-inf]+LEMMA:SEQ-BETWEEN[12 rrna]\n",
      "SEQ-BETWEEN[LEN:14-inf]+LEMMA:SEQ-BETWEEN[rrna gene]\n",
      "SEQ-BETWEEN[LEN:14-inf]+LEMMA:SEQ-BETWEEN[gene that]\n",
      "SEQ-BETWEEN[LEN:14-inf]+LEMMA:SEQ-BETWEEN[that cause]\n",
      "SEQ-BETWEEN[LEN:14-inf]+LEMMA:SEQ-BETWEEN[cause nonsyndromic]\n",
      "SEQ-BETWEEN[LEN:14-inf]+LEMMA:SEQ-BETWEEN[nonsyndromic aminoglycoside]\n",
      "SEQ-BETWEEN[LEN:14-inf]+LEMMA:SEQ-BETWEEN[aminoglycoside antibiotic-induced]\n",
      "SEQ-BETWEEN[LEN:14-inf]+LEMMA:SEQ-BETWEEN[have be identify]\n",
      "SEQ-BETWEEN[LEN:14-inf]+LEMMA:SEQ-BETWEEN[be identify a]\n",
      "SEQ-BETWEEN[LEN:14-inf]+LEMMA:SEQ-BETWEEN[identify a nuclear]\n",
      "SEQ-BETWEEN[LEN:14-inf]+LEMMA:SEQ-BETWEEN[a nuclear modifier]\n",
      "SEQ-BETWEEN[LEN:14-inf]+LEMMA:SEQ-BETWEEN[nuclear modifier the]\n",
      "SEQ-BETWEEN[LEN:14-inf]+LEMMA:SEQ-BETWEEN[modifier the 1555a]\n",
      "SEQ-BETWEEN[LEN:14-inf]+LEMMA:SEQ-BETWEEN[the 1555a >]\n",
      "SEQ-BETWEEN[LEN:14-inf]+LEMMA:SEQ-BETWEEN[1555a > g]\n",
      "SEQ-BETWEEN[LEN:14-inf]+LEMMA:SEQ-BETWEEN[> g mutation]\n",
      "SEQ-BETWEEN[LEN:14-inf]+LEMMA:SEQ-BETWEEN[g mutation the]\n",
      "SEQ-BETWEEN[LEN:14-inf]+LEMMA:SEQ-BETWEEN[mutation the 12]\n",
      "SEQ-BETWEEN[LEN:14-inf]+LEMMA:SEQ-BETWEEN[the 12 rrna]\n",
      "SEQ-BETWEEN[LEN:14-inf]+LEMMA:SEQ-BETWEEN[12 rrna gene]\n",
      "SEQ-BETWEEN[LEN:14-inf]+LEMMA:SEQ-BETWEEN[rrna gene that]\n",
      "SEQ-BETWEEN[LEN:14-inf]+LEMMA:SEQ-BETWEEN[gene that cause]\n",
      "SEQ-BETWEEN[LEN:14-inf]+LEMMA:SEQ-BETWEEN[that cause nonsyndromic]\n",
      "SEQ-BETWEEN[LEN:14-inf]+LEMMA:SEQ-BETWEEN[cause nonsyndromic aminoglycoside]\n",
      "SEQ-BETWEEN[LEN:14-inf]+LEMMA:SEQ-BETWEEN[nonsyndromic aminoglycoside antibiotic-induced]\n",
      "SEQ-BETWEEN[LEN:14-inf]+LEMMA:FILTER-BY(pos=VB):SEQ-BETWEEN[have]\n",
      "SEQ-BETWEEN[LEN:14-inf]+LEMMA:FILTER-BY(pos=VB):SEQ-BETWEEN[be]\n",
      "SEQ-BETWEEN[LEN:14-inf]+LEMMA:FILTER-BY(pos=VB):SEQ-BETWEEN[identify]\n",
      "SEQ-BETWEEN[LEN:14-inf]+LEMMA:FILTER-BY(pos=VB):SEQ-BETWEEN[cause]\n",
      "SEQ-BETWEEN[LEN:14-inf]+LEMMA:FILTER-BY(pos=VB):SEQ-BETWEEN[have be]\n",
      "SEQ-BETWEEN[LEN:14-inf]+LEMMA:FILTER-BY(pos=VB):SEQ-BETWEEN[be identify]\n",
      "SEQ-BETWEEN[LEN:14-inf]+LEMMA:FILTER-BY(pos=VB):SEQ-BETWEEN[identify cause]\n",
      "SEQ-BETWEEN[LEN:14-inf]\n",
      "BETWEEN-MENTION-and-MENTION[LEN:4-5]\n"
     ]
    }
   ],
   "source": [
    "for f in gen_feats(xt.root, gidxs, pidxs):\n",
    "    print f"
   ]
  },
  {
   "cell_type": "markdown",
   "metadata": {},
   "source": [
    "# Genomics Debugging Pipeline\n",
    "\n",
    "* Fix this!\n",
    "* _Features to add:_\n",
    "    * modifiers of VBs in between\n",
    "    * candidates in between?\n",
    "    * Better way to do siblings, when siblings have children...?\n",
    "        * LeftAll / RightAll\n",
    "        * Also, get unigrams, etc.\n",
    "        * **Use wildcard, e.g. \"ABC now causes\" --> WORD:LEFT-OF-MENTION[?_causes]**?\n",
    "    * Modifiers before e.g. \"We investigated whether...\" / NEGATIONS (see Johannes's email / list)\n",
    "    * Handle negation words explicitly?"
   ]
  },
  {
   "cell_type": "code",
   "execution_count": 4,
   "metadata": {
    "collapsed": false
   },
   "outputs": [],
   "source": [
    "from random import shuffle\n",
    "RESULTS_ROOT = '/lfs/raiders7/hdd/ajratner/dd-genomics/alex-results/'\n",
    "def get_exs(header, rel_path, root=RESULTS_ROOT):\n",
    "    rids = []\n",
    "    in_section = False\n",
    "    with open(root + rel_path, 'rb') as f:\n",
    "        for line in f:\n",
    "            if in_section and len(line.strip()) == 0:\n",
    "                break\n",
    "            elif in_section:\n",
    "                rids.append('_'.join(map(lambda x : x[0].upper() + x[1:], line.strip().split('_'))))\n",
    "            elif line.strip() == header:\n",
    "                in_section = True\n",
    "    return rids"
   ]
  },
  {
   "cell_type": "code",
   "execution_count": 17,
   "metadata": {
    "collapsed": false
   },
   "outputs": [],
   "source": [
    "false_pos = get_exs('False Positives:', '02-01-16/stats_causation_1500.tsv')\n",
    "false_negs = get_exs('False Negatives:', '02-01-16/stats_causation_1500.tsv')\n",
    "#shuffle(false_pos)\n",
    "#shuffle(false_negs)"
   ]
  },
  {
   "cell_type": "code",
   "execution_count": 250,
   "metadata": {
    "collapsed": false
   },
   "outputs": [],
   "source": [
    "#relation_id = false_negs[12]\n",
    "#print relation_id\n",
    "relation_id = '20396601_Body.0_287_0_20396601_Body.0_287_25'"
   ]
  },
  {
   "cell_type": "code",
   "execution_count": 251,
   "metadata": {
    "collapsed": false,
    "scrolled": false
   },
   "outputs": [
    {
     "name": "stdout",
     "output_type": "stream",
     "text": [
      "1 rows affected.\n"
     ]
    },
    {
     "data": {
      "text/html": [
       "<style>\n",
       ".node {\n",
       "  cursor: pointer;\n",
       "}\n",
       "\n",
       ".node circle {\n",
       "  fill: #fff;\n",
       "  stroke: steelblue;\n",
       "  stroke-width: 3px;\n",
       "}\n",
       "\n",
       ".node text {\n",
       "  font: 12px sans-serif;\n",
       "}\n",
       "\n",
       ".edge {\n",
       "  fill: none;\n",
       "  stroke: #ccc;\n",
       "  stroke-width: 2px;\n",
       "  cursor: pointer;\n",
       "}\n",
       "\n",
       ".highlight {\n",
       "  stroke: red;\n",
       "  stroke-width: 3px;\n",
       "}\n",
       "</style>\n",
       "\n",
       "<!--Provide the canvas id (twice) and the words via python string formatting here--!>\n",
       "<div id=\"tree-chart-3157712327676440204\"></div>\n",
       "<div id=\"raw-seq-3157712327676440204\">\n",
       "<span class=\"word-3157712327676440204-0\">TFB1M</span> <span class=\"word-3157712327676440204-1\">has</span> <span class=\"word-3157712327676440204-2\">been</span> <span class=\"word-3157712327676440204-3\">identified</span> <span class=\"word-3157712327676440204-4\">as</span> <span class=\"word-3157712327676440204-5\">a</span> <span class=\"word-3157712327676440204-6\">nuclear</span> <span class=\"word-3157712327676440204-7\">modifier</span> <span class=\"word-3157712327676440204-8\">of</span> <span class=\"word-3157712327676440204-9\">the</span> <span class=\"word-3157712327676440204-10\">1555A</span> <span class=\"word-3157712327676440204-11\">></span> <span class=\"word-3157712327676440204-12\">G</span> <span class=\"word-3157712327676440204-13\">mutation</span> <span class=\"word-3157712327676440204-14\">in</span> <span class=\"word-3157712327676440204-15\">the</span> <span class=\"word-3157712327676440204-16\">12S</span> <span class=\"word-3157712327676440204-17\">rRNA</span> <span class=\"word-3157712327676440204-18\">gene</span> <span class=\"word-3157712327676440204-19\">that</span> <span class=\"word-3157712327676440204-20\">causes</span> <span class=\"word-3157712327676440204-21\">nonsyndromic</span> <span class=\"word-3157712327676440204-22\">or</span> <span class=\"word-3157712327676440204-23\">aminoglycoside</span> <span class=\"word-3157712327676440204-24\">antibiotic-induced</span> <span class=\"word-3157712327676440204-25\">deafness</span> <span class=\"word-3157712327676440204-26\">-LRB-</span> <span class=\"word-3157712327676440204-27\">-RRB-</span> <span class=\"word-3157712327676440204-28\">.</span>\n",
       "</div>\n"
      ]
     },
     "metadata": {},
     "output_type": "display_data"
    },
    {
     "data": {
      "application/javascript": [
       "$.getScript(\"http://d3js.org/d3.v3.min.js\", function () {\n",
       "// See http://bl.ocks.org/d3noob/8375092\n",
       "// Three vars need to be provided via python string formatting:\n",
       "var chartId = \"3157712327676440204\";\n",
       "var root = {\"attrib\": {\"word\": \"identified\", \"dep_parent\": \"0\", \"dep_label\": \"\", \"pos\": \"VBN\", \"lemma\": \"identify\", \"word_idx\": \"3\", \"ner\": \"O\"}, \"children\": [{\"attrib\": {\"word\": \"TFB1M\", \"dep_parent\": \"4\", \"dep_label\": \"nsubjpass\", \"pos\": \"NN\", \"lemma\": \"tfb1m\", \"word_idx\": \"0\", \"ner\": \"O\"}, \"children\": []}, {\"attrib\": {\"word\": \"has\", \"dep_parent\": \"4\", \"dep_label\": \"aux\", \"pos\": \"VBZ\", \"lemma\": \"have\", \"word_idx\": \"1\", \"ner\": \"O\"}, \"children\": []}, {\"attrib\": {\"word\": \"been\", \"dep_parent\": \"4\", \"dep_label\": \"auxpass\", \"pos\": \"VBN\", \"lemma\": \"be\", \"word_idx\": \"2\", \"ner\": \"O\"}, \"children\": []}, {\"attrib\": {\"word\": \"mutation\", \"dep_parent\": \"4\", \"dep_label\": \"prep_as\", \"pos\": \"NN\", \"lemma\": \"mutation\", \"word_idx\": \"13\", \"ner\": \"O\"}, \"children\": [{\"attrib\": {\"word\": \">\", \"dep_parent\": \"14\", \"dep_label\": \"amod\", \"pos\": \"JJR\", \"lemma\": \">\", \"word_idx\": \"11\", \"ner\": \"O\"}, \"children\": [{\"attrib\": {\"word\": \"modifier\", \"dep_parent\": \"12\", \"dep_label\": \"npadvmod\", \"pos\": \"NN\", \"lemma\": \"modifier\", \"word_idx\": \"7\", \"ner\": \"O\"}, \"children\": [{\"attrib\": {\"word\": \"a\", \"dep_parent\": \"8\", \"dep_label\": \"det\", \"pos\": \"DT\", \"lemma\": \"a\", \"word_idx\": \"5\", \"ner\": \"O\"}, \"children\": []}, {\"attrib\": {\"word\": \"nuclear\", \"dep_parent\": \"8\", \"dep_label\": \"amod\", \"pos\": \"JJ\", \"lemma\": \"nuclear\", \"word_idx\": \"6\", \"ner\": \"O\"}, \"children\": []}, {\"attrib\": {\"word\": \"1555A\", \"dep_parent\": \"8\", \"dep_label\": \"prep_of\", \"pos\": \"NN\", \"lemma\": \"1555a\", \"word_idx\": \"10\", \"ner\": \"O\"}, \"children\": [{\"attrib\": {\"word\": \"the\", \"dep_parent\": \"11\", \"dep_label\": \"det\", \"pos\": \"DT\", \"lemma\": \"the\", \"word_idx\": \"9\", \"ner\": \"O\"}, \"children\": []}]}]}]}, {\"attrib\": {\"word\": \"G\", \"dep_parent\": \"14\", \"dep_label\": \"nn\", \"pos\": \"NN\", \"lemma\": \"g\", \"word_idx\": \"12\", \"ner\": \"O\"}, \"children\": []}, {\"attrib\": {\"word\": \"gene\", \"dep_parent\": \"14\", \"dep_label\": \"prep_in\", \"pos\": \"NN\", \"lemma\": \"gene\", \"word_idx\": \"18\", \"ner\": \"O\"}, \"children\": [{\"attrib\": {\"word\": \"the\", \"dep_parent\": \"19\", \"dep_label\": \"det\", \"pos\": \"DT\", \"lemma\": \"the\", \"word_idx\": \"15\", \"ner\": \"O\"}, \"children\": []}, {\"attrib\": {\"word\": \"12S\", \"dep_parent\": \"19\", \"dep_label\": \"nn\", \"pos\": \"NN\", \"lemma\": \"12\", \"word_idx\": \"16\", \"ner\": \"O\"}, \"children\": []}, {\"attrib\": {\"word\": \"rRNA\", \"dep_parent\": \"19\", \"dep_label\": \"nn\", \"pos\": \"NN\", \"lemma\": \"rrna\", \"word_idx\": \"17\", \"ner\": \"O\"}, \"children\": []}, {\"attrib\": {\"word\": \"causes\", \"dep_parent\": \"19\", \"dep_label\": \"rcmod\", \"pos\": \"VBZ\", \"lemma\": \"cause\", \"word_idx\": \"20\", \"ner\": \"O\"}, \"children\": [{\"attrib\": {\"word\": \"that\", \"dep_parent\": \"21\", \"dep_label\": \"nsubj\", \"pos\": \"WDT\", \"lemma\": \"that\", \"word_idx\": \"19\", \"ner\": \"O\"}, \"children\": []}, {\"attrib\": {\"word\": \"deafness\", \"dep_parent\": \"21\", \"dep_label\": \"dobj\", \"pos\": \"NN\", \"lemma\": \"deafness\", \"word_idx\": \"25\", \"ner\": \"O\"}, \"children\": [{\"attrib\": {\"word\": \"nonsyndromic\", \"dep_parent\": \"26\", \"dep_label\": \"amod\", \"pos\": \"JJ\", \"lemma\": \"nonsyndromic\", \"word_idx\": \"21\", \"ner\": \"O\"}, \"children\": [{\"attrib\": {\"word\": \"aminoglycoside\", \"dep_parent\": \"22\", \"dep_label\": \"conj_or\", \"pos\": \"JJ\", \"lemma\": \"aminoglycoside\", \"word_idx\": \"23\", \"ner\": \"O\"}, \"children\": []}]}, {\"attrib\": {\"word\": \"antibiotic-induced\", \"dep_parent\": \"26\", \"dep_label\": \"amod\", \"pos\": \"JJ\", \"lemma\": \"antibiotic-induced\", \"word_idx\": \"24\", \"ner\": \"O\"}, \"children\": []}]}]}]}]}]};\n",
       "var highlightIdxs = [[0], [25]];\n",
       "\n",
       "// Highlight words / nodes\n",
       "var COLORS = [\"#ff5c33\", \"#ffcc00\", \"#33cc33\", \"#3399ff\"];\n",
       "function highlightWords() {\n",
       "  for (var i=0; i < highlightIdxs.length; i++) {\n",
       "    var c = COLORS[i];\n",
       "    var idxs = highlightIdxs[i];\n",
       "    for (var j=0; j < idxs.length; j++) {\n",
       "      d3.selectAll(\".word-\"+chartId+\"-\"+idxs[j]).style(\"stroke\", c).style(\"background\", c);\n",
       "    }\n",
       "  }\n",
       "}\n",
       "\n",
       "// Constants\n",
       "var margin = {top: 20, right: 20, bottom: 20, left: 20},\n",
       "width = 800 - margin.left - margin.right,\n",
       "height = 350 - margin.top - margin.bottom,\n",
       "R = 5;\n",
       "\n",
       "// Create the d3 tree object\n",
       "var tree = d3.layout.tree()\n",
       "  .size([width, height]);\n",
       "\n",
       "// Create the svg canvas\n",
       "var svg = d3.select(\"#tree-chart-\" + chartId)\n",
       "  .append(\"svg\")\n",
       "  .attr(\"width\", width + margin.left + margin.right)\n",
       "  .attr(\"height\", height + margin.top + margin.bottom)\n",
       "  .append(\"g\")\n",
       "  .attr(\"transform\", \"translate(\" + margin.left + \",\" + margin.top + \")\");\n",
       "\n",
       "function renderTree() {\n",
       "  var nodes = tree.nodes(root),\n",
       "  edges = tree.links(nodes);\n",
       "\n",
       "  // Place the nodes\n",
       "  var nodeGroups = svg.selectAll(\"g.node\")\n",
       "    .data(nodes)\n",
       "    .enter().append(\"g\")\n",
       "    .attr(\"class\", \"node\")\n",
       "    .attr(\"transform\", function(d) { return \"translate(\" + d.x + \",\" + d.y + \")\"; });\n",
       "       \n",
       "  // Append circles\n",
       "  nodeGroups.append(\"circle\")\n",
       "    //.on(\"click\", function() {\n",
       "    //  d3.select(this).classed(\"highlight\", !d3.select(this).classed(\"highlight\")); })\n",
       "    .attr(\"r\", R)\n",
       "    .attr(\"class\", function(d) { return \"word-\"+chartId+\"-\"+d.attrib.word_idx; });\n",
       "     \n",
       "  // Append the actual word\n",
       "  nodeGroups.append(\"text\")\n",
       "    .text(function(d) { return d.attrib.word; })\n",
       "    .attr(\"text-anchor\", function(d) { \n",
       "      return d.children && d.children.length > 0 ? \"start\" : \"middle\"; })\n",
       "    .attr(\"dx\", function(d) { \n",
       "      return d.children && d.children.length > 0 ? R + 3 : 0; })\n",
       "    .attr(\"dy\", function(d) { \n",
       "      return d.children && d.children.length > 0 ? 0 : 3*R + 3; });\n",
       "\n",
       "  // Place the edges\n",
       "  var edgePaths = svg.selectAll(\"path\")\n",
       "    .data(edges)\n",
       "    .enter().append(\"path\")\n",
       "    .attr(\"class\", \"edge\")\n",
       "    .on(\"click\", function() {\n",
       "      d3.select(this).classed(\"highlight\", !d3.select(this).classed(\"highlight\")); })\n",
       "    .attr(\"d\", d3.svg.diagonal());\n",
       "}\n",
       "\n",
       "renderTree();\n",
       "highlightWords();\n",
       "});\n"
      ]
     },
     "metadata": {},
     "output_type": "display_data"
    }
   ],
   "source": [
    "# Connect to correct db\n",
    "%sql postgresql://ajratner@localhost:6432/genomics_ajratner\n",
    "\n",
    "# Getting the component IDs\n",
    "id = relation_id.split('_')\n",
    "doc_id = id[0]\n",
    "section_id = id[1][0].upper() + id[1][1:]\n",
    "sent_id = int(id[2])\n",
    "gidxs = map(int, relation_id.split(doc_id)[1].strip('_').split('_')[-1].split('-'))\n",
    "pidxs = map(int, relation_id.split(doc_id)[2].strip('_').split('_')[-1].split('-'))\n",
    "cids = [gidxs, pidxs]\n",
    "\n",
    "# Get sentence from db + convert to XMLTree\n",
    "res = %sql SELECT words, lemmas, poses, ners, dep_paths AS \"dep_labels\", dep_parents FROM sentences_input WHERE doc_id = :doc_id AND section_id = :section_id AND sent_id = :sent_id;\n",
    "rows = [dict((k, v.split('|^|')) for k,v in dict(row).iteritems()) for row in res]\n",
    "xts = map(corenlp_to_xmltree, rows)\n",
    "xt = xts[0]\n",
    "\n",
    "# Show XMLTree\n",
    "xt.render_tree(highlight=[gidxs, pidxs])\n",
    "\n",
    "# Print TreeDLib features\n",
    "#print_gen(get_relation_features(xt.root, gidxs, pidxs))"
   ]
  },
  {
   "cell_type": "code",
   "execution_count": null,
   "metadata": {
    "collapsed": true
   },
   "outputs": [],
   "source": []
  },
  {
   "cell_type": "code",
   "execution_count": 52,
   "metadata": {
    "collapsed": false
   },
   "outputs": [
    {
     "name": "stdout",
     "output_type": "stream",
     "text": [
      "INV_WORD:CHILDREN-OF-FILTER-BY(pos=VB):BETWEEN-MENTION-and-MENTION[movement]\n",
      "INV_WORD:CHILDREN-OF-FILTER-BY(pos=VB):BETWEEN-MENTION-and-MENTION[has]\n",
      "INV_WORD:CHILDREN-OF-FILTER-BY(pos=VB):BETWEEN-MENTION-and-MENTION[been]\n",
      "INV_WORD:CHILDREN-OF-FILTER-BY(pos=VB):BETWEEN-MENTION-and-MENTION[fibers]\n",
      "INV_WORD:CHILDREN-OF-FILTER-BY(pos=VB):BETWEEN-MENTION-and-MENTION[heterozygous]\n"
     ]
    }
   ],
   "source": [
    "Ngrams(Children(Filter(Between(Mention(0), Mention(1)), 'pos', 'VB')), 'word', 1).print_apply(xt.root, cids)"
   ]
  },
  {
   "cell_type": "markdown",
   "metadata": {},
   "source": [
    "## Error analysis round 4\n",
    "\n",
    "### False negatives:\n",
    "* [0] `24065538_Abstract.0_2_8_24065538_Abstract.0_2_14`:\n",
    "    * **Should this be association instead?**\n",
    "    * \"... have been found... however studies of the association between ... and OSA risk have reported inconsistent findings\"\n",
    "\n",
    "* [1] `8844207_Abstract.0_5_6_8844207_Abstract.0_5_1`:\n",
    "    * **\"known {{G}} mutations\"**\n",
    "\n",
    "* [2] `24993959_Abstract.1_3_36_24993959_Abstract.1_3_46`:\n",
    "    * `UnicodeDecodeError`!\n",
    "    \n",
    "* [3] `22653594_Abstract.0_1_5_22653594_Abstract.0_1_25-26-27`:\n",
    "    * **Incorrectly labeled**\n",
    "    \n",
    "* [4] `21282350_Abstract.0_1_13_21282350_Abstract.0_1_20`:\n",
    "    * `UnicodeDecodeError`!\n",
    "\n",
    "* [5] `11461952_Abstract.0_10_8_11461952_Abstract.0_10_15-16`:\n",
    "    * \"This study deomstrates that ... can be responsible for ...\"\n",
    "    * \"{{G}} responsible for {{P}}\"\n",
    "    \n",
    "* [6] `25110572_Body.0_103_42_25110572_Body.0_103_18-19`:\n",
    "    * **Incorrectly labeled??**\n",
    "    \n",
    "* [7] `22848613_Body.0_191_7_22848613_Body.0_191_15`:\n",
    "    * **Incorrectly labeled??**\n",
    "\n",
    "* [8] `19016241_Abstract.0_2_29_19016241_Abstract.0_2_34-35`:\n",
    "    * **Incorrectly labeled??**\n",
    "    * \"weakly penetrant\"\n",
    "    \n",
    "* [9] `19877056_Abstract.0_2_37_19877056_Abstract.0_2_7`:\n",
    "    * **\"{{P}} attributable to {{G}}\"**\n",
    "\n",
    "* [10] `11079449_Abstract.0_5_48_11079449_Abstract.0_5_41`:\n",
    "    * **_Tough example: ref to a list of pairs!_**\n",
    "\n",
    "* [11] `11667976_Body.0_6_31_11667976_Body.0_6_34-35`:\n",
    "    * **Is this correctly labeled...?**\n",
    "\n",
    "* [12] `11353725_Abstract.0_7_13_11353725_Abstract.0_7_9`:\n",
    "    * **Is this correctly labeled...?**\n",
    "\n",
    "* [13] `20499351_Body.0_120_6_20499351_Body.0_120_10-11-12`:\n",
    "    * \"Patients homozygous for {{g}} mutation had\"\n",
    "    * \"had\" on path between\n",
    "    \n",
    "* [14] `10511432_Abstract.0_1_12_10511432_Abstract.0_1_23`:\n",
    "    * **Incorrectly labeled...??**\n",
    "    \n",
    "* [15] `17033686_Abstract.0_4_4_17033686_Abstract.0_4_12`:\n",
    "    * \"misense mutation in {{G}} was described in a family with {{P}}\"\n",
    "    * **_Incorrectly labeled...?_**\n",
    "\n",
    "* [16] `23288328_Body.0_179_20_23288328_Body.0_179_24-25`:\n",
    "    * **{{G}} - related {{P}}**\n",
    "\n",
    "* [17] `21203343_Body.0_127_4_21203343_Body.0_127_19`:\n",
    "    * \"have been reported in\"- **Incorrectly labeled?**\n",
    "\n",
    "* [18] `9832037_Abstract.0_2_13_9832037_Abstract.0_2_26-27-28`:\n",
    "    * \"{{G}} sympotms include {{P}}\", \"include\"\n",
    "\n",
    "* [19] `18791638_Body.0_8_6_18791638_Body.0_8_0`:\n",
    "    * \"{{P}} results from {{G}}\""
   ]
  },
  {
   "cell_type": "code",
   "execution_count": null,
   "metadata": {
    "collapsed": false,
    "scrolled": false
   },
   "outputs": [],
   "source": [
    "%%sql\n",
    "-- Get the features + weights for an example\n",
    "SELECT f.feature, w.weight\n",
    "FROM\n",
    "    genepheno_features f,\n",
    "    dd_inference_result_variables_mapped_weights w\n",
    "WHERE\n",
    "    f.relation_id = :relation_id\n",
    "    AND w.description = 'inf_istrue_genepheno_causation_inference--' || f.feature\n",
    "ORDER BY w.weight DESC;"
   ]
  },
  {
   "cell_type": "code",
   "execution_count": 48,
   "metadata": {
    "collapsed": false
   },
   "outputs": [
    {
     "data": {
      "text/plain": [
       "0.6422394999999999"
      ]
     },
     "execution_count": 48,
     "metadata": {},
     "output_type": "execute_result"
    }
   ],
   "source": [
    "res = _\n",
    "sum(r[1] for r in res)"
   ]
  },
  {
   "cell_type": "code",
   "execution_count": 49,
   "metadata": {
    "collapsed": false
   },
   "outputs": [
    {
     "name": "stdout",
     "output_type": "stream",
     "text": [
      "1 rows affected.\n"
     ]
    },
    {
     "data": {
      "text/html": [
       "<table>\n",
       "    <tr>\n",
       "        <th>expectation</th>\n",
       "    </tr>\n",
       "    <tr>\n",
       "        <td>0.662</td>\n",
       "    </tr>\n",
       "</table>"
      ],
      "text/plain": [
       "[(0.662,)]"
      ]
     },
     "execution_count": 49,
     "metadata": {},
     "output_type": "execute_result"
    }
   ],
   "source": [
    "%sql SELECT expectation FROM genepheno_causation_inference_label_inference WHERE relation_id = :relation_id;"
   ]
  },
  {
   "cell_type": "code",
   "execution_count": null,
   "metadata": {
    "collapsed": true
   },
   "outputs": [],
   "source": []
  },
  {
   "cell_type": "markdown",
   "metadata": {},
   "source": [
    "## Error analysis round 3\n",
    "\n",
    "### False Positives:\n",
    "* [0] `18478198_Abstract.0_2_29_18478198_Abstract.0_2_11-12`:\n",
    "    * \"our aim was to establish whether\"\n",
    "\n",
    "* [1] `17508172_Abstract.0_4_21_17508172_Abstract.0_4_32`:\n",
    "    * \"role\"\n",
    "    * \"sodium ion channel\"\n",
    "    \n",
    "* [2] `19561293_Abstract.0_3_7_19561293_Abstract.0_3_10-11`:\n",
    "    * \"are currently unknown\"\n",
    "\n",
    "* [3] `19956409_Abstract.0_1_8_19956409_Abstract.0_1_21`:\n",
    "    * r'^To evaluate'\n",
    "    * \"the possible role\"\n",
    "    \n",
    "* [4] `19714249_Body.0_130_10_19714249_Body.0_130_18`:\n",
    "    * '^Although\"\n",
    "    * \"potential role\"\n",
    "    * \"needs to be replicated\"\n",
    "    * \"suggests\", \"possible\", \"role\"\n",
    "    \n",
    "* [5] `16297188_Title.0_1_5_16297188_Title.0_1_14`:\n",
    "    * \"role\"\n",
    "    * **Incorrectly supervised...?**\n",
    "    \n",
    "* [6] `24412566_Body.0_70_72_24412566_Body.0_70_6`:\n",
    "    * **_Long one with other genes in between..._**\n",
    "\n",
    "* [7] `16837472_Abstract.3_1_19_16837472_Abstract.3_1_10`:\n",
    "    * \"needs to be further studied\"\n",
    "    * \"associated\"\n",
    "\n",
    "* [8] `14966353_Abstract.0_1_41_14966353_Abstract.0_1_5`:\n",
    "    * `UnicodeError`!\n",
    "\n",
    "* [9] `15547491_Abstract.0_1_23_15547491_Abstract.0_1_7-8-9-10`:\n",
    "    * r'^To analyze'"
   ]
  },
  {
   "cell_type": "markdown",
   "metadata": {},
   "source": [
    "## Error analysis round 2\n",
    "\n",
    "With new DSR code:\n",
    "\n",
    "### False Positives\n",
    "* [0] `17183713_Body.0_111_12_17183713_Body.0_111_25`:\n",
    "    * **\"unlikely\" on path between**\n",
    "\n",
    "* [1] `19561293_Abstract.0_3_7_19561293_Abstract.0_3_10-11`:\n",
    "    * _\"are unknown\"- not on dep path between..._\n",
    "    * **Labeling error- doesn't this imply that there is a causal relation??**\n",
    "\n",
    "* [2] `17167409_Abstract.3_2_5_17167409_Abstract.3_2_13`:\n",
    "    * **\"is _not_ a common cause of...\" - NEG modifying primary VB on path between!!!**\n",
    "    \n",
    "* [3] `18538017_Body.0_12_5_18538017_Body.0_12_17`:\n",
    "    * **Labeling error!? (marked because only partial P...?)**\n",
    "\n",
    "* [4] `20437121_Abstract.0_1_30_20437121_Abstract.0_1_15`:\n",
    "    * \"to determine\" - in phrase between\n",
    "    \n",
    "* [5] `10435725_Abstract.0_1_14_10435725_Abstract.0_1_20`:\n",
    "    * \"in mice\" - off the main VB\n",
    "    \n",
    "* [6] `23525542_Abstract.0_7_12_23525542_Abstract.0_7_24`:\n",
    "    * **is _not_ due to...\"- NEG modifying primary VB on path between!!!**\n",
    "\n",
    "* [7] `19995275_Abstract.0_1_2_19995275_Abstract.0_1_18`:\n",
    "    * \"has been implicated... in various studies with conflicting results\"\n",
    "\n",
    "### False Negatives\n",
    "* [0] `23874215_Body.0_172_3_23874215_Body.0_172_23-24-25-26`:\n",
    "    * \"role\", \"detected\" - dep path between\n",
    "\n",
    "* [1] `17507029_Abstract.0_2_13_17507029_Abstract.0_2_6-7-8-9-10`:\n",
    "    * \"caused by\" but also \"association\"... should do dep path in between...?\n",
    "    * _a tough one..._\n",
    "\n",
    "* [2] `15219231_Body.0_121_8_15219231_Body.0_121_35`:\n",
    "    * **Incorrect label**\n",
    "    \n",
    "* [3] `25110572_Body.0_103_42_25110572_Body.0_103_18-19`:\n",
    "    * **Incorrect label- should be association?**\n",
    "    \n",
    "* [4] `17909190_Abstract.0_3_16_17909190_Abstract.0_3_25`:\n",
    "    * **Incorrectly labeled...?**\n",
    "    \n",
    "* [5] `22803640_Abstract.0_3_14_22803640_Abstract.0_3_24-25`:\n",
    "    * **Incorrectly labeled- should be association?**\n",
    "    \n",
    "* [6] `11170071_Abstract.0_1_3_11170071_Abstract.0_1_21`:\n",
    "    * **Incorrectly labeled- wrong mention**\n",
    "    \n",
    "* [7] `10511432_Abstract.0_1_12_10511432_Abstract.0_1_23`:\n",
    "    * \"A variety of mutations have been detected in patients with...\"- should this be association?\n",
    "    \n",
    "* [8] `10797440_Abstract.0_3_16_10797440_Abstract.0_3_3`:\n",
    "    * _This one seems like should be straight-forwards..._\n",
    "    * **{{P}} are due to {{G}}**\n",
    "\n",
    "* [9] `23275784_Body.0_82_29_23275784_Body.0_82_13`:\n",
    "    * _This one seems like should be straight-forwards..._\n",
    "    * **{{P}} result of / due to mutations in {{G}}**"
   ]
  },
  {
   "cell_type": "code",
   "execution_count": null,
   "metadata": {
    "collapsed": true
   },
   "outputs": [],
   "source": [
    "# Filler"
   ]
  },
  {
   "cell_type": "markdown",
   "metadata": {},
   "source": [
    "### To investigate:\n",
    "1. Correlation with length of sentence? - **_No._**\n",
    "2. Low-MI words like '\\_', 'the', 'gene'?\n",
    "3. _[tdl] Include sequence patterns too?_\n",
    "\n",
    "### FNs / recall analysis notes\n",
    "\n",
    "* `10982191_Title.0_1_8_10982191_Title.0_1_21-22-23`:\n",
    "    * Shorter sentence\n",
    "    * neg. weight from \"gene\" in between... is this just super common?\n",
    "\n",
    "* `19353431_Abstract.0_2_12_19353431_Abstract.0_2_1`:\n",
    "    * Shorter sentence\n",
    "    * neg. weight from \"gene\" in between... is this just super common?\n",
    "\n",
    "* `23285148_Body.0_4_32_23285148_Body.0_4_3`:\n",
    "    * **Incorrectly labeled: should be false**\n",
    "\n",
    "* `23316347_Body.0_202_25_23316347_Body.0_202_54`:\n",
    "    * _Longer sentence..._\n",
    "    * **BUG: Missing a left-of-mention (G: \"mutation\")!**\n",
    "    * neg. weight from \"\\_\" in betweeen\n",
    "    * **BUG: left-of-mention[delay] happens twice!**\n",
    "    * A lot of negative weight from \"result\"...?\n",
    "    \n",
    "* `21304894_Body.0_110_4_21304894_Body.0_110_9-10-11`:\n",
    "    * Shorter sentence\n",
    "    * A lot of negative weight from \"result\"...?\n",
    "        * **Is this just from a low-quality DSR?**\n",
    "    * Duplicated features again!\n",
    "    \n",
    "* `21776272_Body.0_60_46_21776272_Body.0_60_39-40`:\n",
    "    * Longer sentence\n",
    "    * A slightly tougher example: an inherited disorder ... with mutations in gene...\n",
    "    * neg. weight from \"gene\" in between... is this just super common?\n",
    "\n",
    "* `19220582_Abstract.0_2_20_19220582_Abstract.0_2_5`:\n",
    "    * 'We identified a mutation in a family with...' - should this be a positive example??\n",
    "    * neg. weight from \"gene\" in between... is this just super common?\n",
    "    * neg. weight from \"identify\" and \"affect\"...?\n",
    "    * **'c. mutation' - mutation doesn't get picked up as it's a child off the path...**\n",
    "\n",
    "* `23456818_Body.0_148_9_23456818_Body.0_148_21-22`:\n",
    "    * `LEMMA:PARENTS-OF-BETWEEN-MENTION-and-MENTION[determine]` has huge negative weight\n",
    "    * gene, patient, distribution, etc. - neg weight\n",
    "    * negative impact from `PARENTS OF`...\n",
    "\n",
    "* `20429427_Abstract.0_1_2_20429427_Abstract.0_1_14`:\n",
    "    * **Key word like \"mutation\" is off main path... (\"responsible -> mutation -> whose\")**\n",
    "    * **STOPWORDS: \"the\"**\n",
    "    * **BUG: dep_path labels are all None...**, **BUG: left-siblings doubled**\n",
    "\n",
    "* `21031598_Body.0_24_25_21031598_Body.0_24_9`:\n",
    "    * Need a feature like `direct parent of mention`\n",
    "    * NEG: 'site', 'gene'\n",
    "    * `INV_`\n",
    "\n",
    "* `22670894_Title.0_1_16_22670894_Title.0_1_7-8`:\n",
    "    * NEG: 'the', 'gene', 'locus'\n",
    "    * **'due to' just dropped from the dep tree!**\n",
    "\n",
    "* `22887726_Abstract.0_5_33_22887726_Abstract.0_5_54-55`:\n",
    "    * **Incorrectly labeled for causation?**\n",
    "\n",
    "* `19641605_Abstract.0_3_14_19641605_Abstract.0_3_22`:\n",
    "    * This one has \"cause\", exp = 0.89, seems like dead match...\n",
    "    * **BUG: doubles of stuff!!!!!**\n",
    "\n",
    "* `23879989_Abstract.0_1_3_23879989_Abstract.0_1_12-13`:\n",
    "    * This one has \"cause\", exp = 0.87, seems like dead match...\n",
    "    * **BUG: doubles of stuff!!!!!**\n",
    "    * `LEMMA:FILTER-BY(pos=NN):BETWEEN-MENTION-and-MENTION[_]`\n",
    "    * 'distinct', 'mutation _ cause'...\n",
    "        * **_Why does '\\_' have such negative weight??_**\n",
    "\n",
    "* `21850180_Body.0_62_14_21850180_Body.0_62_26-27`:\n",
    "    * This one again seems like should be a dead match...\n",
    "    * **BUG: Double of word \"three\"!**\n",
    "    * Key word \"responsible\" not included...?\n",
    "    * NEG: 'identify', 'i.e.', '_ _ _'\n",
    "\n",
    "* `20683840_Abstract.0_4_12_20683840_Abstract.0_4_33`:\n",
    "    * UnicodeError!\n",
    "\n",
    "* `17495019_Title.0_1_5_17495019_Title.0_1_18`:\n",
    "    * **Incorrectly labeled for causation?**\n",
    "    * _Why is '% patients' positive...?_\n",
    "\n",
    "* `18283249_Abstract.0_3_2_18283249_Abstract.0_3_16-17-18`:\n",
    "    * **'are one of the factors' - is this correctly labeled for causation?**\n",
    "\n",
    "* `21203343_Body.0_10_3_21203343_Body.0_10_20`:\n",
    "    * **'are described in...' - this at least seems on the border of \"causation\"**\n",
    "    * expectation 0.85\n",
    "    * **BUG: doubles**\n",
    "    * NEG: `_`\n",
    "\n",
    "* `24312213_Body.0_110_66_24312213_Body.0_110_73`:\n",
    "    * **Interesting example of isolated subtree which should be direct match!**\n",
    "    * Expectation 0.42???\n",
    "    * NEG: 'mutation result', `_`, 'result', 'influence'\n",
    "\n",
    "### Final tally:\n",
    "* 55%: Negative weight from features that seem like they should be stop words\n",
    "* 25%: Incorrectly labeled or on the border\n",
    "* 40%: Bug of some sort in TreeDLib\n",
    "* 30%: Features that seems suprisingly weighted- due to low-quality DSRs?\n",
    "\n",
    "## TODO:\n",
    "1. Fix bugs in treedlib - DONE\n",
    "2. Filter \"stopwords\" i.e. low-Chi-squared features - DONE\n",
    "3. Add manual weights to DSRs in `config.py`"
   ]
  },
  {
   "cell_type": "markdown",
   "metadata": {},
   "source": [
    "## Testing the low-Chi-squared hypothesis"
   ]
  },
  {
   "cell_type": "code",
   "execution_count": 249,
   "metadata": {
    "collapsed": false
   },
   "outputs": [
    {
     "name": "stdout",
     "output_type": "stream",
     "text": [
      "1 rows affected.\n"
     ]
    },
    {
     "data": {
      "text/html": [
       "<table>\n",
       "    <tr>\n",
       "        <th>count</th>\n",
       "    </tr>\n",
       "    <tr>\n",
       "        <td>63704195</td>\n",
       "    </tr>\n",
       "</table>"
      ],
      "text/plain": [
       "[(63704195L,)]"
      ]
     },
     "execution_count": 249,
     "metadata": {},
     "output_type": "execute_result"
    }
   ],
   "source": [
    "%sql SELECT COUNT(*) FROM genepheno_features;"
   ]
  },
  {
   "cell_type": "code",
   "execution_count": 250,
   "metadata": {
    "collapsed": false
   },
   "outputs": [
    {
     "name": "stdout",
     "output_type": "stream",
     "text": [
      "1 rows affected.\n"
     ]
    },
    {
     "data": {
      "text/html": [
       "<table>\n",
       "    <tr>\n",
       "        <th>count</th>\n",
       "    </tr>\n",
       "    <tr>\n",
       "        <td>12054299</td>\n",
       "    </tr>\n",
       "</table>"
      ],
      "text/plain": [
       "[(12054299L,)]"
      ]
     },
     "execution_count": 250,
     "metadata": {},
     "output_type": "execute_result"
    }
   ],
   "source": [
    "%sql SELECT COUNT(DISTINCT(feature)) FROM genepheno_features;"
   ]
  },
  {
   "cell_type": "code",
   "execution_count": 247,
   "metadata": {
    "collapsed": false
   },
   "outputs": [
    {
     "name": "stdout",
     "output_type": "stream",
     "text": [
      "3 rows affected.\n"
     ]
    },
    {
     "data": {
      "text/html": [
       "<table>\n",
       "    <tr>\n",
       "        <th>is_correct</th>\n",
       "        <th>count</th>\n",
       "    </tr>\n",
       "    <tr>\n",
       "        <td>False</td>\n",
       "        <td>89341</td>\n",
       "    </tr>\n",
       "    <tr>\n",
       "        <td>None</td>\n",
       "        <td>207757</td>\n",
       "    </tr>\n",
       "    <tr>\n",
       "        <td>True</td>\n",
       "        <td>23651</td>\n",
       "    </tr>\n",
       "</table>"
      ],
      "text/plain": [
       "[(False, 89341L), (None, 207757L), (True, 23651L)]"
      ]
     },
     "execution_count": 247,
     "metadata": {},
     "output_type": "execute_result"
    }
   ],
   "source": [
    "%%sql\n",
    "SELECT\n",
    "    gc.is_correct, COUNT(*)\n",
    "FROM\n",
    "    genepheno_causation gc,\n",
    "    genepheno_features gf\n",
    "WHERE\n",
    "    gc.relation_id = gf.relation_id\n",
    "    AND gf.feature LIKE '%the%'\n",
    "GROUP BY\n",
    "    gc.is_correct;"
   ]
  },
  {
   "cell_type": "code",
   "execution_count": 248,
   "metadata": {
    "collapsed": false
   },
   "outputs": [
    {
     "name": "stdout",
     "output_type": "stream",
     "text": [
      "3 rows affected.\n"
     ]
    },
    {
     "data": {
      "text/html": [
       "<table>\n",
       "    <tr>\n",
       "        <th>is_correct</th>\n",
       "        <th>count</th>\n",
       "    </tr>\n",
       "    <tr>\n",
       "        <td>False</td>\n",
       "        <td>116608</td>\n",
       "    </tr>\n",
       "    <tr>\n",
       "        <td>True</td>\n",
       "        <td>40022</td>\n",
       "    </tr>\n",
       "    <tr>\n",
       "        <td>None</td>\n",
       "        <td>307806</td>\n",
       "    </tr>\n",
       "</table>"
      ],
      "text/plain": [
       "[(False, 116608L), (True, 40022L), (None, 307806L)]"
      ]
     },
     "execution_count": 248,
     "metadata": {},
     "output_type": "execute_result"
    }
   ],
   "source": [
    "%sql SELECT is_correct, COUNT(*) FROM genepheno_causation GROUP BY is_correct;"
   ]
  },
  {
   "cell_type": "code",
   "execution_count": 259,
   "metadata": {
    "collapsed": false
   },
   "outputs": [
    {
     "name": "stdout",
     "output_type": "stream",
     "text": [
      "0.255519376875\n",
      "0.744480623125\n"
     ]
    }
   ],
   "source": [
    "P_T = 40022.0/(116608.0+40022.0)\n",
    "P_F = 116608.0/(116608.0+40022.0)\n",
    "print P_T\n",
    "print P_F"
   ]
  },
  {
   "cell_type": "code",
   "execution_count": 257,
   "metadata": {
    "collapsed": true
   },
   "outputs": [],
   "source": [
    "from collections import defaultdict\n",
    "feats = defaultdict(lambda : [0,0])\n",
    "with open('/lfs/raiders7/hdd/ajratner/dd-genomics/alex-results/chi-sq/chi-sq-gp.tsv', 'rb') as f:\n",
    "    for line in f:\n",
    "        feat, label, count = line.split('\\t')\n",
    "        b = 0 if label == 't' else 1\n",
    "        feats[feat][b] = int(count)"
   ]
  },
  {
   "cell_type": "code",
   "execution_count": 258,
   "metadata": {
    "collapsed": false
   },
   "outputs": [
    {
     "data": {
      "text/plain": [
       "[4, 1]"
      ]
     },
     "execution_count": 258,
     "metadata": {},
     "output_type": "execute_result"
    }
   ],
   "source": [
    "feats['INV_DEP_LABEL:BETWEEN-MENTION-and-MENTION[nsubj_vmod_prepc_by]']"
   ]
  },
  {
   "cell_type": "code",
   "execution_count": 273,
   "metadata": {
    "collapsed": true
   },
   "outputs": [],
   "source": [
    "chi_sqs = []\n",
    "for feat, counts in feats.iteritems():\n",
    "    total = float(counts[0] + counts[1])\n",
    "    chi_sqs.append([\n",
    "        (P_T-(counts[0]/total))**2 + (P_F-(counts[1]/total))**2,\n",
    "        feat\n",
    "    ])\n",
    "chi_sqs.sort()"
   ]
  },
  {
   "cell_type": "code",
   "execution_count": 283,
   "metadata": {
    "collapsed": false
   },
   "outputs": [],
   "source": [
    "with open('/lfs/raiders7/hdd/ajratner/dd-genomics/alex-results/chi-sq/chi-sq-gp-computed.tsv', 'wb') as f:\n",
    "    for x in chi_sqs:\n",
    "        f.write('\\t'.join(map(str, x[::-1]))+'\\n')"
   ]
  },
  {
   "cell_type": "code",
   "execution_count": 277,
   "metadata": {
    "collapsed": false
   },
   "outputs": [
    {
     "data": {
      "text/plain": [
       "1561184"
      ]
     },
     "execution_count": 277,
     "metadata": {},
     "output_type": "execute_result"
    }
   ],
   "source": [
    "len(chi_sqs)"
   ]
  },
  {
   "cell_type": "code",
   "execution_count": 299,
   "metadata": {
    "collapsed": false
   },
   "outputs": [
    {
     "data": {
      "text/plain": [
       "[0.13058030391762518,\n",
       " 'INV_DEP_LABEL|LEMMA:BETWEEN-MENTION-and-MENTION[prep_of|__vmod|associate]']"
      ]
     },
     "execution_count": 299,
     "metadata": {},
     "output_type": "execute_result"
    }
   ],
   "source": [
    "chi_sqs[500000]"
   ]
  },
  {
   "cell_type": "code",
   "execution_count": 274,
   "metadata": {
    "collapsed": false
   },
   "outputs": [],
   "source": [
    "thes = filter(lambda x : 'the' in x[1], chi_sqs)"
   ]
  },
  {
   "cell_type": "code",
   "execution_count": 275,
   "metadata": {
    "collapsed": false
   },
   "outputs": [
    {
     "data": {
      "text/plain": [
       "33304"
      ]
     },
     "execution_count": 275,
     "metadata": {},
     "output_type": "execute_result"
    }
   ],
   "source": [
    "len(thes)"
   ]
  },
  {
   "cell_type": "code",
   "execution_count": 276,
   "metadata": {
    "collapsed": false
   },
   "outputs": [
    {
     "data": {
      "text/plain": [
       "[[1.5873326911132163e-06, 'LEMMA:LEFT-OF-MENTION[the_mutation]'],\n",
       " [3.062217941380416e-06, 'LEMMA:PARENTS-OF-BETWEEN-MENTION-and-MENTION[the]'],\n",
       " [6.092704218625953e-05,\n",
       "  'DEP_LABEL:BETWEEN-MENTION-and-MENTION[prep_in_prep_together_with]'],\n",
       " [6.092704218625953e-05,\n",
       "  'DEP_LABEL:BETWEEN-MENTION-and-MENTION[prep_together_with_prep_on]'],\n",
       " [6.092704218625953e-05,\n",
       "  'DEP_LABEL|LEMMA:BETWEEN-MENTION-and-MENTION[dobj|hypothesis_dep|associate]'],\n",
       " [6.092704218625953e-05,\n",
       "  'INV_LEMMA:BETWEEN-MENTION-and-MENTION[further_confirm]'],\n",
       " [6.092704218625953e-05,\n",
       "  'INV_LEMMA:FILTER-BY(pos=NN):BETWEEN-MENTION-and-MENTION[brother]'],\n",
       " [6.092704218625953e-05, 'INV_LEMMA:LEFT-OF-MENTION[either_a]'],\n",
       " [6.092704218625953e-05, 'INV_LEMMA:LEFT-OF-MENTION[molecular_the]'],\n",
       " [6.092704218625953e-05, 'INV_LEMMA:LEFT-OF-MENTION[only_the]'],\n",
       " [6.092704218625953e-05, 'INV_LEMMA:LEFT-OF-MENTION[the_biochemical]'],\n",
       " [6.092704218625953e-05, 'INV_LEMMA:LEFT-OF-MENTION[the_describe]'],\n",
       " [6.092704218625953e-05, 'INV_LEMMA:LEFT-OF-MENTION[the_factor]'],\n",
       " [6.092704218625953e-05, 'INV_LEMMA:LEFT-OF-MENTION[the_phenotypic]'],\n",
       " [6.092704218625953e-05, 'INV_LEMMA:LEFT-OF-MENTION[the_predominant]'],\n",
       " [6.092704218625953e-05, 'INV_LEMMA:LEFT-OF-MENTION[therapy]'],\n",
       " [6.092704218625953e-05, 'INV_LEMMA:LEFT-OF-MENTION[these]'],\n",
       " [6.092704218625953e-05, 'INV_LEMMA:LEFT-OF-MENTION[to_be_the]'],\n",
       " [6.092704218625953e-05,\n",
       "  'INV_LEMMA:PARENTS-OF-BETWEEN-MENTION-and-MENTION[theory]'],\n",
       " [6.092704218625953e-05, 'INV_LEMMA:RIGHT-OF-MENTION[either]'],\n",
       " [6.092704218625953e-05, 'LEMMA:LEFT-OF-MENTION[__the]'],\n",
       " [6.092704218625953e-05, 'LEMMA:LEFT-OF-MENTION[endothelin_receptor_type]'],\n",
       " [6.092704218625953e-05, 'LEMMA:LEFT-OF-MENTION[gene_the]'],\n",
       " [6.092704218625953e-05, 'LEMMA:LEFT-OF-MENTION[have_be_the]'],\n",
       " [6.092704218625953e-05, 'LEMMA:LEFT-OF-MENTION[other_rare]'],\n",
       " [6.092704218625953e-05, 'LEMMA:LEFT-OF-MENTION[that_be_the]'],\n",
       " [6.092704218625953e-05, 'LEMMA:LEFT-OF-MENTION[the_5]'],\n",
       " [6.092704218625953e-05, 'LEMMA:LEFT-OF-MENTION[the_Fanconi]'],\n",
       " [6.092704218625953e-05, 'LEMMA:LEFT-OF-MENTION[the_Thai]'],\n",
       " [6.092704218625953e-05, 'LEMMA:LEFT-OF-MENTION[the_angiographical]'],\n",
       " [6.092704218625953e-05, 'LEMMA:LEFT-OF-MENTION[the_candidate_gene]'],\n",
       " [6.092704218625953e-05, 'LEMMA:LEFT-OF-MENTION[the_disorder]'],\n",
       " [6.092704218625953e-05, 'LEMMA:LEFT-OF-MENTION[the_eight]'],\n",
       " [6.092704218625953e-05, 'LEMMA:LEFT-OF-MENTION[the_five]'],\n",
       " [6.092704218625953e-05, 'LEMMA:LEFT-OF-MENTION[the_lipoprotein]'],\n",
       " [6.092704218625953e-05, 'LEMMA:LEFT-OF-MENTION[the_many]'],\n",
       " [6.092704218625953e-05, 'LEMMA:LEFT-OF-MENTION[the_transcription]'],\n",
       " [6.092704218625953e-05, 'LEMMA:LEFT-OF-MENTION[the_wild-type]'],\n",
       " [6.092704218625953e-05, 'LEMMA:LEFT-OF-MENTION[the_wilm_tumor]'],\n",
       " [6.092704218625953e-05, 'LEMMA:LEFT-OF-MENTION[whether_mutation]'],\n",
       " [6.092704218625953e-05,\n",
       "  'LEMMA:PARENTS-OF-BETWEEN-MENTION-and-MENTION[further]'],\n",
       " [6.092704218625953e-05,\n",
       "  'LEMMA:PARENTS-OF-BETWEEN-MENTION-and-MENTION[hypothesis_association]'],\n",
       " [6.092704218625953e-05, 'LEMMA:RIGHT-OF-MENTION[be_also_the]'],\n",
       " [6.092704218625953e-05, 'LEMMA:RIGHT-OF-MENTION[further]'],\n",
       " [6.092704218625953e-05, 'LEMMA:RIGHT-OF-MENTION[in_the_absence]'],\n",
       " [6.092704218625953e-05, 'LEMMA:RIGHT-OF-MENTION[they]'],\n",
       " [0.0002369309114762886, 'INV_LEMMA:LEFT-OF-MENTION[other]'],\n",
       " [0.0002453082567021856, 'LEMMA:LEFT-OF-MENTION[the_classic]'],\n",
       " [0.00024852413937922227, 'LEMMA:LEFT-OF-MENTION[the_biochemical]'],\n",
       " [0.00024852413937922227, 'LEMMA:LEFT-OF-MENTION[the_mitochondrial]'],\n",
       " [0.00024852413937922227, 'LEMMA:LEFT-OF-MENTION[the_report]'],\n",
       " [0.00024852413937922227, 'LEMMA:LEFT-OF-MENTION[the_severe]'],\n",
       " [0.0005922233592951178, 'INV_LEMMA:LEFT-OF-MENTION[the_genetic]'],\n",
       " [0.0005922233592951178,\n",
       "  'INV_LEMMA:PARENTS-OF-BETWEEN-MENTION-and-MENTION[strengthen]'],\n",
       " [0.0005922233592951178, 'LEMMA:LEFT-OF-MENTION[the_two]'],\n",
       " [0.0005922233592951178,\n",
       "  'LEMMA:PARENTS-OF-BETWEEN-MENTION-and-MENTION[the_that]'],\n",
       " [0.0008181222217103455, 'INV_LEMMA:LEFT-OF-MENTION[the_same]'],\n",
       " [0.0009908728214584807, 'INV_LEMMA:LEFT-OF-MENTION[the_familial]'],\n",
       " [0.0009908728214584807, 'LEMMA:LEFT-OF-MENTION[the_familial]'],\n",
       " [0.0012251394645573011,\n",
       "  'INV_LEMMA:FILTER-BY(pos=NN):BETWEEN-MENTION-and-MENTION[polycythemia]'],\n",
       " [0.0012251394645573011, 'INV_LEMMA:LEFT-OF-MENTION[the_the]'],\n",
       " [0.0012251394645573011, 'LEMMA:LEFT-OF-MENTION[other_familial]'],\n",
       " [0.0013889306706950598,\n",
       "  'LEMMA:FILTER-BY(pos=NN):BETWEEN-MENTION-and-MENTION[epithelium]'],\n",
       " [0.0017657158553140615,\n",
       "  'INV_LEMMA:FILTER-BY(pos=NN):BETWEEN-MENTION-and-MENTION[mother]'],\n",
       " [0.0018201276585506963,\n",
       "  'LEMMA:PARENTS-OF-BETWEEN-MENTION-and-MENTION[test_hypothesis]'],\n",
       " [0.001823465039572536,\n",
       "  'DEP_LABEL|LEMMA:BETWEEN-MENTION-and-MENTION[conj_and|support_dobj|hypothesis]'],\n",
       " [0.001823465039572536, 'INV_LEMMA:LEFT-OF-MENTION[be_other]'],\n",
       " [0.001823465039572536, 'INV_LEMMA:LEFT-OF-MENTION[the_21-hydroxylase]'],\n",
       " [0.001823465039572536, 'INV_LEMMA:LEFT-OF-MENTION[the_cardiac]'],\n",
       " [0.001823465039572536, 'INV_LEMMA:LEFT-OF-MENTION[the_code]'],\n",
       " [0.001823465039572536,\n",
       "  'INV_LEMMA:PARENTS-OF-BETWEEN-MENTION-and-MENTION[hypothesise]'],\n",
       " [0.001823465039572536, 'LEMMA:LEFT-OF-MENTION[be_not_the]'],\n",
       " [0.001823465039572536, 'LEMMA:LEFT-OF-MENTION[the_child]'],\n",
       " [0.001823465039572536, 'LEMMA:LEFT-OF-MENTION[the_chinese]'],\n",
       " [0.001823465039572536, 'LEMMA:LEFT-OF-MENTION[the_know]'],\n",
       " [0.001823465039572536, 'LEMMA:LEFT-OF-MENTION[the_region]'],\n",
       " [0.001823465039572536, 'LEMMA:LEFT-OF-MENTION[the_three]'],\n",
       " [0.0019695902861377275, 'LEMMA:LEFT-OF-MENTION[the_molecular]'],\n",
       " [0.002217401016000461,\n",
       "  'INV_LEMMA:PARENTS-OF-BETWEEN-MENTION-and-MENTION[either]'],\n",
       " [0.002217401016000461, 'INV_LEMMA:RIGHT-OF-MENTION[there]'],\n",
       " [0.002217401016000461, 'LEMMA:LEFT-OF-MENTION[the_androgen_receptor]'],\n",
       " [0.002217401016000461, 'LEMMA:LEFT-OF-MENTION[the_genomic]'],\n",
       " [0.002217401016000461, 'LEMMA:LEFT-OF-MENTION[the_recent]'],\n",
       " [0.002217401016000461, 'LEMMA:LEFT-OF-MENTION[the_tumour_necrosis]'],\n",
       " [0.002217401016000461, 'LEMMA:PARENTS-OF-BETWEEN-MENTION-and-MENTION[other]'],\n",
       " [0.002217401016000461, 'LEMMA:RIGHT-OF-MENTION[be_the]'],\n",
       " [0.0024225259852736353,\n",
       "  'LEMMA:FILTER-BY(pos=NN):BETWEEN-MENTION-and-MENTION[biosynthesis]'],\n",
       " [0.0025735077314199854, 'LEMMA:LEFT-OF-MENTION[the_human]'],\n",
       " [0.00290749982934181,\n",
       "  'LEMMA:BETWEEN-MENTION-and-MENTION[support_hypothesis]'],\n",
       " [0.0031006870006900825, 'LEMMA:LEFT-OF-MENTION[the]'],\n",
       " [0.003240973688480627, 'INV_LEMMA:LEFT-OF-MENTION[the_first]'],\n",
       " [0.003400429861126511,\n",
       "  'LEMMA:PARENTS-OF-BETWEEN-MENTION-and-MENTION[support_hypothesis]'],\n",
       " [0.003400429861126511, 'LEMMA:RIGHT-OF-MENTION[be_the_main]'],\n",
       " [0.0034907892695502625, 'LEMMA:LEFT-OF-MENTION[the_first]'],\n",
       " [0.003651062683645112, 'INV_LEMMA:LEFT-OF-MENTION[the_molecular]'],\n",
       " [0.0037668014080700207, 'LEMMA:LEFT-OF-MENTION[the_protein]'],\n",
       " [0.00395705166709848, 'INV_LEMMA:LEFT-OF-MENTION[the_identify]'],\n",
       " [0.00395705166709848, 'LEMMA:LEFT-OF-MENTION[may_be_the]'],\n",
       " [0.00395705166709848, 'LEMMA:LEFT-OF-MENTION[the_ace]'],\n",
       " [0.004453045410314962, 'LEMMA:LEFT-OF-MENTION[the_tau]']]"
      ]
     },
     "execution_count": 276,
     "metadata": {},
     "output_type": "execute_result"
    }
   ],
   "source": [
    "thes[:100]"
   ]
  },
  {
   "cell_type": "markdown",
   "metadata": {},
   "source": [
    "## Testing the length-bias hypothesis\n",
    "\n",
    "Is their a bias towards longer sentences (because more high-weight keywords?)"
   ]
  },
  {
   "cell_type": "code",
   "execution_count": 107,
   "metadata": {
    "collapsed": false
   },
   "outputs": [
    {
     "name": "stdout",
     "output_type": "stream",
     "text": [
      "464446\n"
     ]
    }
   ],
   "source": [
    "rows = []\n",
    "with open('/lfs/raiders7/hdd/ajratner/dd-genomics/alex-results/test-len-corr/all_rel_sents.tsv', 'rb') as f:\n",
    "    for line in f:\n",
    "        r = line.rstrip().split('\\t')\n",
    "        rows.append([float(r[1]), len(r[2].split('|^|'))])\n",
    "print len(rows)"
   ]
  },
  {
   "cell_type": "code",
   "execution_count": 111,
   "metadata": {
    "collapsed": false
   },
   "outputs": [
    {
     "data": {
      "text/plain": [
       "(0.01490680366497573, 0.00028709107735074691)"
      ]
     },
     "execution_count": 111,
     "metadata": {},
     "output_type": "execute_result"
    }
   ],
   "source": [
    "from scipy.stats import pearsonr\n",
    "exps, lens = zip(*filter(lambda r : r[0] > 0.7, rows))\n",
    "pearsonr(exps, lens)"
   ]
  },
  {
   "cell_type": "code",
   "execution_count": 59,
   "metadata": {
    "collapsed": false
   },
   "outputs": [
    {
     "ename": "KeyError",
     "evalue": "0",
     "output_type": "error",
     "traceback": [
      "\u001b[1;31m---------------------------------------------------------------------------\u001b[0m",
      "\u001b[1;31mKeyError\u001b[0m                                  Traceback (most recent call last)",
      "\u001b[1;32m<ipython-input-59-2c7edbc9f8ad>\u001b[0m in \u001b[0;36m<module>\u001b[1;34m()\u001b[0m\n\u001b[0;32m      5\u001b[0m \u001b[1;32mimport\u001b[0m \u001b[0mrandom\u001b[0m\u001b[1;33m\u001b[0m\u001b[0m\n\u001b[0;32m      6\u001b[0m \u001b[1;33m\u001b[0m\u001b[0m\n\u001b[1;32m----> 7\u001b[1;33m \u001b[0mexps\u001b[0m\u001b[1;33m,\u001b[0m \u001b[0mlens\u001b[0m \u001b[1;33m=\u001b[0m \u001b[0mzip\u001b[0m\u001b[1;33m(\u001b[0m\u001b[1;33m*\u001b[0m\u001b[0mrandom\u001b[0m\u001b[1;33m.\u001b[0m\u001b[0msample\u001b[0m\u001b[1;33m(\u001b[0m\u001b[0mfilter\u001b[0m\u001b[1;33m(\u001b[0m\u001b[1;32mlambda\u001b[0m \u001b[0mr\u001b[0m \u001b[1;33m:\u001b[0m \u001b[0mr\u001b[0m\u001b[1;33m[\u001b[0m\u001b[1;36m0\u001b[0m\u001b[1;33m]\u001b[0m \u001b[1;33m>\u001b[0m \u001b[1;36m0.5\u001b[0m\u001b[1;33m,\u001b[0m \u001b[0mrows\u001b[0m\u001b[1;33m)\u001b[0m\u001b[1;33m,\u001b[0m \u001b[1;36m1000\u001b[0m\u001b[1;33m)\u001b[0m\u001b[1;33m)\u001b[0m\u001b[1;33m\u001b[0m\u001b[0m\n\u001b[0m\u001b[0;32m      8\u001b[0m \u001b[0mplt\u001b[0m\u001b[1;33m.\u001b[0m\u001b[0mscatter\u001b[0m\u001b[1;33m(\u001b[0m\u001b[0mlens\u001b[0m\u001b[1;33m,\u001b[0m \u001b[0mexps\u001b[0m\u001b[1;33m)\u001b[0m\u001b[1;33m\u001b[0m\u001b[0m\n",
      "\u001b[1;32m<ipython-input-59-2c7edbc9f8ad>\u001b[0m in \u001b[0;36m<lambda>\u001b[1;34m(r)\u001b[0m\n\u001b[0;32m      5\u001b[0m \u001b[1;32mimport\u001b[0m \u001b[0mrandom\u001b[0m\u001b[1;33m\u001b[0m\u001b[0m\n\u001b[0;32m      6\u001b[0m \u001b[1;33m\u001b[0m\u001b[0m\n\u001b[1;32m----> 7\u001b[1;33m \u001b[0mexps\u001b[0m\u001b[1;33m,\u001b[0m \u001b[0mlens\u001b[0m \u001b[1;33m=\u001b[0m \u001b[0mzip\u001b[0m\u001b[1;33m(\u001b[0m\u001b[1;33m*\u001b[0m\u001b[0mrandom\u001b[0m\u001b[1;33m.\u001b[0m\u001b[0msample\u001b[0m\u001b[1;33m(\u001b[0m\u001b[0mfilter\u001b[0m\u001b[1;33m(\u001b[0m\u001b[1;32mlambda\u001b[0m \u001b[0mr\u001b[0m \u001b[1;33m:\u001b[0m \u001b[0mr\u001b[0m\u001b[1;33m[\u001b[0m\u001b[1;36m0\u001b[0m\u001b[1;33m]\u001b[0m \u001b[1;33m>\u001b[0m \u001b[1;36m0.5\u001b[0m\u001b[1;33m,\u001b[0m \u001b[0mrows\u001b[0m\u001b[1;33m)\u001b[0m\u001b[1;33m,\u001b[0m \u001b[1;36m1000\u001b[0m\u001b[1;33m)\u001b[0m\u001b[1;33m)\u001b[0m\u001b[1;33m\u001b[0m\u001b[0m\n\u001b[0m\u001b[0;32m      8\u001b[0m \u001b[0mplt\u001b[0m\u001b[1;33m.\u001b[0m\u001b[0mscatter\u001b[0m\u001b[1;33m(\u001b[0m\u001b[0mlens\u001b[0m\u001b[1;33m,\u001b[0m \u001b[0mexps\u001b[0m\u001b[1;33m)\u001b[0m\u001b[1;33m\u001b[0m\u001b[0m\n",
      "\u001b[1;31mKeyError\u001b[0m: 0"
     ]
    }
   ],
   "source": [
    "%matplotlib inline\n",
    "import matplotlib\n",
    "import numpy as np\n",
    "import matplotlib.pyplot as plt\n",
    "import random\n",
    "\n",
    "exps, lens = zip(*random.sample(filter(lambda r : r[0] > 0.5, rows), 1000))\n",
    "plt.scatter(lens, exps)"
   ]
  },
  {
   "cell_type": "markdown",
   "metadata": {},
   "source": [
    "## Debugging pipeline\n",
    "\n",
    "We'll debug here, also to show the general most current procedure for debugging treedlib on examples in a SQL database (e.g. from DeepDive)"
   ]
  },
  {
   "cell_type": "code",
   "execution_count": null,
   "metadata": {
    "collapsed": false
   },
   "outputs": [],
   "source": [
    "%sql postgresql://ajratner@localhost:5432/deepdive_spouse"
   ]
  },
  {
   "cell_type": "code",
   "execution_count": null,
   "metadata": {
    "collapsed": false,
    "scrolled": true
   },
   "outputs": [],
   "source": [
    "%%sql \n",
    "SELECT sentence_text\n",
    "FROM sentences \n",
    "WHERE doc_id = '79205745-b593-4b98-8a94-da6b8238fefc' AND sentence_index = 32;"
   ]
  },
  {
   "cell_type": "code",
   "execution_count": null,
   "metadata": {
    "collapsed": false
   },
   "outputs": [],
   "source": [
    "res = %sql SELECT tokens AS \"words\", lemmas, pos_tags, ner_tags, dep_types AS \"dep_labels\", dep_tokens AS \"dep_parents\" FROM sentences WHERE doc_id = '79205745-b593-4b98-8a94-da6b8238fefc' AND sentence_index = 32;\n",
    "xts = map(corenlp_to_xmltree, res)"
   ]
  },
  {
   "cell_type": "code",
   "execution_count": null,
   "metadata": {
    "collapsed": false
   },
   "outputs": [],
   "source": [
    "xt = xts[0]\n",
    "xt.render_tree(highlight=[[21,22], [33,34]])"
   ]
  },
  {
   "cell_type": "code",
   "execution_count": null,
   "metadata": {
    "collapsed": false
   },
   "outputs": [],
   "source": [
    "print_gen(get_relation_features(xt.root, [21,22], [33,34]))"
   ]
  },
  {
   "cell_type": "markdown",
   "metadata": {},
   "source": [
    "## Feature focus: Preceding statements which nullify or negate meaning\n",
    "\n",
    "Example:\n",
    "> _Ex1:_ To investigate whether mutations in the SURF1 gene are a cause of Charcot-Marie-Tooth -LRB- CMT -RRB- disease\n",
    "\n",
    "> _Ex2:_ To investigate the genetic effect of a new mutation found in exon 17 of the myophosphorylase -LRB- PYGM -RRB- gene as a cause of McArdle disease -LRB- also known as type 5 glycogenosis -RRB-.\n",
    "\n",
    "Notes:\n",
    "* These seem to mostly be **_modifiers of the primary verb_**?\n",
    "    * We are only sampling from a limited set of patterns of sentences (due to narrow DSR set) currently...\n",
    "* Modifiers in general...?\n",
    "* _I know how RNNs claim to / do handle this phenomenon..._ *"
   ]
  },
  {
   "cell_type": "code",
   "execution_count": 43,
   "metadata": {
    "collapsed": false
   },
   "outputs": [
    {
     "name": "stdout",
     "output_type": "stream",
     "text": [
      "0 rows affected.\n"
     ]
    },
    {
     "data": {
      "text/html": [
       "<table>\n",
       "    <tr>\n",
       "        <th>relation_id</th>\n",
       "    </tr>\n",
       "</table>"
      ],
      "text/plain": [
       "[]"
      ]
     },
     "execution_count": 43,
     "metadata": {},
     "output_type": "execute_result"
    }
   ],
   "source": [
    "%%sql\n",
    "SELECT relation_id\n",
    "FROM genepheno_causation\n",
    "WHERE doc_id = '15262743' AND section_id = 'Abstract.0' AND sent_id = 1;"
   ]
  },
  {
   "cell_type": "code",
   "execution_count": null,
   "metadata": {
    "collapsed": true
   },
   "outputs": [],
   "source": [
    "ex1_id = ('24027061', 'Abstract.0', 1)\n",
    "ex1_raw=\"\"\"\n",
    "<node dep_parent=\"0\" lemma=\"investigate\" ner=\"O\" pos=\"VB\" word=\"investigate\" word_idx=\"1\"><node dep_parent=\"2\" dep_path=\"aux\" lemma=\"to\" ner=\"O\" pos=\"TO\" word=\"To\" word_idx=\"0\"/><node dep_parent=\"2\" dep_path=\"ccomp\" lemma=\"cause\" ner=\"O\" pos=\"NN\" word=\"cause\" word_idx=\"10\"><node dep_parent=\"11\" dep_path=\"mark\" lemma=\"whether\" ner=\"O\" pos=\"IN\" word=\"whether\" word_idx=\"2\"/><node dep_parent=\"11\" dep_path=\"nsubj\" lemma=\"mutation\" ner=\"O\" pos=\"NNS\" word=\"mutations\" word_idx=\"3\"><node dep_parent=\"4\" dep_path=\"prep_in\" lemma=\"gene\" ner=\"O\" pos=\"NN\" word=\"gene\" word_idx=\"7\"><node dep_parent=\"8\" dep_path=\"det\" lemma=\"the\" ner=\"O\" pos=\"DT\" word=\"the\" word_idx=\"5\"/><node dep_parent=\"8\" dep_path=\"nn\" lemma=\"surf1\" ner=\"O\" pos=\"NN\" word=\"SURF1\" word_idx=\"6\"/></node></node><node dep_parent=\"11\" dep_path=\"cop\" lemma=\"be\" ner=\"O\" pos=\"VBP\" word=\"are\" word_idx=\"8\"/><node dep_parent=\"11\" dep_path=\"det\" lemma=\"a\" ner=\"O\" pos=\"DT\" word=\"a\" word_idx=\"9\"/><node dep_parent=\"11\" dep_path=\"prep_of\" lemma=\"Charcot-Marie-Tooth\" ner=\"O\" pos=\"NNP\" word=\"Charcot-Marie-Tooth\" word_idx=\"12\"/><node dep_parent=\"11\" dep_path=\"dep\" lemma=\"disease\" ner=\"O\" pos=\"NN\" word=\"disease\" word_idx=\"16\"><node dep_parent=\"17\" dep_path=\"appos\" lemma=\"CMT\" ner=\"O\" pos=\"NNP\" word=\"CMT\" word_idx=\"14\"/></node></node></node>\n",
    "\"\"\"\n",
    "xt1 = XMLTree(et.fromstring(ex1_raw))\n",
    "ex2_id = ('15262743', 'Abstract.0', 1)\n",
    "ex2_raw=\"\"\"\n",
    "<node dep_parent=\"0\" lemma=\"investigate\" ner=\"O\" pos=\"VB\" word=\"investigate\" word_idx=\"1\"><node dep_parent=\"2\" dep_path=\"aux\" lemma=\"to\" ner=\"O\" pos=\"TO\" word=\"To\" word_idx=\"0\"/><node dep_parent=\"2\" dep_path=\"dobj\" lemma=\"effect\" ner=\"O\" pos=\"NN\" word=\"effect\" word_idx=\"4\"><node dep_parent=\"5\" dep_path=\"det\" lemma=\"the\" ner=\"O\" pos=\"DT\" word=\"the\" word_idx=\"2\"/><node dep_parent=\"5\" dep_path=\"amod\" lemma=\"genetic\" ner=\"O\" pos=\"JJ\" word=\"genetic\" word_idx=\"3\"/><node dep_parent=\"5\" dep_path=\"prep_of\" lemma=\"mutation\" ner=\"O\" pos=\"NN\" word=\"mutation\" word_idx=\"8\"><node dep_parent=\"9\" dep_path=\"det\" lemma=\"a\" ner=\"O\" pos=\"DT\" word=\"a\" word_idx=\"6\"/><node dep_parent=\"9\" dep_path=\"amod\" lemma=\"new\" ner=\"O\" pos=\"JJ\" word=\"new\" word_idx=\"7\"/><node dep_parent=\"9\" dep_path=\"vmod\" lemma=\"find\" ner=\"O\" pos=\"VBN\" word=\"found\" word_idx=\"9\"><node dep_parent=\"10\" dep_path=\"prep_in\" lemma=\"exon\" ner=\"O\" pos=\"NN\" word=\"exon\" word_idx=\"11\"><node dep_parent=\"12\" dep_path=\"num\" lemma=\"17\" ner=\"NUMBER\" pos=\"CD\" word=\"17\" word_idx=\"12\"/><node dep_parent=\"12\" dep_path=\"prep_of\" lemma=\"gene\" ner=\"O\" pos=\"NN\" word=\"gene\" word_idx=\"19\"><node dep_parent=\"20\" dep_path=\"det\" lemma=\"the\" ner=\"O\" pos=\"DT\" word=\"the\" word_idx=\"14\"/><node dep_parent=\"20\" dep_path=\"nn\" lemma=\"myophosphorylase\" ner=\"O\" pos=\"NN\" word=\"myophosphorylase\" word_idx=\"15\"/><node dep_parent=\"20\" dep_path=\"nn\" lemma=\"pygm\" ner=\"O\" pos=\"NN\" word=\"PYGM\" word_idx=\"17\"/></node></node><node dep_parent=\"10\" dep_path=\"prep_as\" lemma=\"cause\" ner=\"O\" pos=\"NN\" word=\"cause\" word_idx=\"22\"><node dep_parent=\"23\" dep_path=\"det\" lemma=\"a\" ner=\"O\" pos=\"DT\" word=\"a\" word_idx=\"21\"/><node dep_parent=\"23\" dep_path=\"prep_of\" lemma=\"disease\" ner=\"O\" pos=\"NN\" word=\"disease\" word_idx=\"25\"><node dep_parent=\"26\" dep_path=\"nn\" lemma=\"McArdle\" ner=\"PERSON\" pos=\"NNP\" word=\"McArdle\" word_idx=\"24\"/><node dep_parent=\"26\" dep_path=\"vmod\" lemma=\"know\" ner=\"O\" pos=\"VBN\" word=\"known\" word_idx=\"28\"><node dep_parent=\"29\" dep_path=\"advmod\" lemma=\"also\" ner=\"O\" pos=\"RB\" word=\"also\" word_idx=\"27\"/><node dep_parent=\"29\" dep_path=\"prep_as\" lemma=\"glycogenosis\" ner=\"O\" pos=\"NN\" word=\"glycogenosis\" word_idx=\"32\"><node dep_parent=\"33\" dep_path=\"nn\" lemma=\"type\" ner=\"O\" pos=\"NN\" word=\"type\" word_idx=\"30\"/><node dep_parent=\"33\" dep_path=\"num\" lemma=\"5\" ner=\"NUMBER\" pos=\"CD\" word=\"5\" word_idx=\"31\"/></node></node></node></node></node></node></node></node>\n",
    "\"\"\"\n",
    "xt2 = XMLTree(et.fromstring(ex2_raw))"
   ]
  },
  {
   "cell_type": "code",
   "execution_count": null,
   "metadata": {
    "collapsed": false
   },
   "outputs": [],
   "source": [
    "xt1.render_tree()\n",
    "xt2.render_tree()"
   ]
  },
  {
   "cell_type": "markdown",
   "metadata": {},
   "source": [
    "### Testing XML speeds\n",
    "\n",
    "How does it compare between:\n",
    "* parse to XML via this python code, store as string, then parse from string at runtime\n",
    "* just parse to XML at runtime via this python code?"
   ]
  },
  {
   "cell_type": "code",
   "execution_count": null,
   "metadata": {
    "collapsed": false
   },
   "outputs": [],
   "source": [
    "# Map sentence to xmltree\n",
    "%time xts = map(corenlp_to_xmltree, rows)"
   ]
  },
  {
   "cell_type": "code",
   "execution_count": null,
   "metadata": {
    "collapsed": false
   },
   "outputs": [],
   "source": [
    "# Pre-process to xml string\n",
    "xmls = [xt.to_str() for xt in map(corenlp_to_xmltree, rows)]\n",
    "\n",
    "# Parse @ runtime using lxml\n",
    "%time roots = map(et.fromstring, xmls)"
   ]
  },
  {
   "cell_type": "markdown",
   "metadata": {},
   "source": [
    "### Table example"
   ]
  },
  {
   "cell_type": "code",
   "execution_count": null,
   "metadata": {
    "collapsed": false
   },
   "outputs": [],
   "source": [
    "# Some wishful thinking...\n",
    "table_xml = \"\"\"\n",
    "<div class=\"table-wrapper\">\n",
    "    <h3>Causal genomic relationships</h3>\n",
    "    <table>\n",
    "        <tr><th>Gene</th><th>Variant</th><th>Phenotype</th></tr>\n",
    "        <tr><td>ABC</td><td><i>AG34</i></td><td>Headaches during defecation</td></tr>\n",
    "        <tr><td>BDF</td><td><i>CT2</i></td><td>Defecation during headaches</td></tr>\n",
    "        <tr><td>XYG</td><td><i>AT456</i></td><td>Defecasomnia</td></tr>\n",
    "    </table>\n",
    "</div>\n",
    "\"\"\"\n",
    "from IPython.core.display import display_html, HTML\n",
    "display_html(HTML(table_xml))"
   ]
  }
 ],
 "metadata": {
  "kernelspec": {
   "display_name": "Python 2",
   "language": "python",
   "name": "python2"
  },
  "language_info": {
   "codemirror_mode": {
    "name": "ipython",
    "version": 2
   },
   "file_extension": ".py",
   "mimetype": "text/x-python",
   "name": "python",
   "nbconvert_exporter": "python",
   "pygments_lexer": "ipython2",
   "version": "2.7.6"
  }
 },
 "nbformat": 4,
 "nbformat_minor": 0
}
