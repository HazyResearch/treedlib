{
 "cells": [
  {
   "cell_type": "markdown",
   "metadata": {},
   "source": [
    "# TreeDLib"
   ]
  },
  {
   "cell_type": "code",
   "execution_count": 102,
   "metadata": {
    "collapsed": false
   },
   "outputs": [
    {
     "name": "stdout",
     "output_type": "stream",
     "text": [
      "The autoreload extension is already loaded. To reload it, use:\n",
      "  %reload_ext autoreload\n"
     ]
    }
   ],
   "source": [
    "%load_ext autoreload\n",
    "%autoreload 2"
   ]
  },
  {
   "cell_type": "code",
   "execution_count": 1,
   "metadata": {
    "collapsed": false
   },
   "outputs": [],
   "source": [
    "from treedlib import *\n",
    "import lxml.etree as et"
   ]
  },
  {
   "cell_type": "markdown",
   "metadata": {},
   "source": [
    "We define three classes of operators:\n",
    "* _NodeSets:_ $S : 2^T \\mapsto 2^T$\n",
    "* _Indicators:_ $I : 2^T \\mapsto \\{0,1\\}^F$\n",
    "* _Combinators:_ $C : \\{0,1\\}^F \\times \\{0,1\\}^F \\mapsto \\{0,1\\}^F$\n",
    "\n",
    "where $T$ is a given input tree, and $F$ is the dimension of the feature space."
   ]
  },
  {
   "cell_type": "markdown",
   "metadata": {},
   "source": [
    "### DB connection..."
   ]
  },
  {
   "cell_type": "markdown",
   "metadata": {},
   "source": [
    "## Debugging"
   ]
  },
  {
   "cell_type": "code",
   "execution_count": 8,
   "metadata": {
    "collapsed": true
   },
   "outputs": [],
   "source": [
    "raw_in = \"\"\"\n",
    "79205745-b593-4b98-8a94-da6b8238fefc    32      “I know where you can get those framed,” aprivate eye named Visser (M. Emmet Walsh) tells a bar owner, Marty (Dan Hedaya), when he presents him with pho    tos of his wife, Abby (Frances McDormand) in bed with his bartender, Ray (John Getz), and from that staring point nocturnal acts of cruelty take shape not through nefarious schemes but crude assumptio    ns and mistaken identity.       {``,I,know,where,you,can,get,those,framed,\",\",'',aprivate,eye,named,Visser,-LRB-,M.,Emmet,Walsh,-RRB-,tells,a,bar,owner,\",\",Marty,-LRB-,Dan,Hedaya,-RRB-,\",\",when,he,pre    sents,him,with,photos,of,his,wife,\",\",Abby,-LRB-,Frances,McDormand,-RRB-,in,bed,with,his,bartender,\",\",Ray,-LRB-,John,Getz,-RRB-,\",\",and,from,that,staring,point,nocturnal,acts,of,cruelty,take,shape,no    t,through,nefarious,schemes,but,crude,assumptions,and,mistaken,identity,.}      {``,I,know,where,you,can,get,those,frame,\",\",'',aprivate,eye,name,Visser,-lrb-,M.,Emmet,Walsh,-rrb-,tell,a,bar,owner,\",\"    ,Marty,-lrb-,Dan,Hedaya,-rrb-,\",\",when,he,present,he,with,photo,of,he,wife,\",\",Abby,-lrb-,Frances,McDormand,-rrb-,in,bed,with,he,bartender,\",\",Ray,-lrb-,John,Getz,-rrb-,\",\",and,from,that,stare,point,n    octurnal,act,of,cruelty,take,shape,not,through,nefarious,scheme,but,crude,assumption,and,mistaken,identity,.}   {``,PRP,VBP,WRB,PRP,MD,VB,DT,VBN,\",\",'',JJ,NN,VBN,NNP,-LRB-,NNP,NNP,NNP,-RRB-,VBZ,DT,NN,    NN,\",\",NNP,-LRB-,NNP,NNP,-RRB-,\",\",WRB,PRP,VBZ,PRP,IN,NNS,IN,PRP$,NN,\",\",NNP,-LRB-,NNP,NNP,-RRB-,IN,NN,IN,PRP$,NN,\",\",NNP,-LRB-,NNP,NNP,-RRB-,\",\",CC,IN,DT,VBG,NN,JJ,NNS,IN,NN,VBP,NN,RB,IN,JJ,NNS,CC,JJ    ,NNS,CC,JJ,NN,.}        {O,O,O,O,O,O,O,O,O,O,O,O,O,O,PERSON,O,PERSON,PERSON,PERSON,O,O,O,O,O,O,PERSON,O,PERSON,PERSON,O,O,O,O,O,O,O,O,O,O,O,O,PERSON,O,PERSON,PERSON,O,O,O,O,O,O,O,PERSON,O,PERSON,PERSO    N,O,O,O,O,O,O,O,O,O,O,O,O,O,O,O,O,O,O,O,O,O,O,O,O}      {4952,4953,4955,4960,4966,4970,4974,4978,4984,4990,4991,4993,5002,5006,5012,5019,5020,5023,5029,5034,5036,5042,5044,5048,5053,5055,5061,5062,506    6,5072,5073,5075,5080,5083,5092,5096,5101,5108,5111,5115,5119,5121,5126,5127,5135,5144,5146,5149,5153,5158,5162,5171,5173,5177,5178,5183,5187,5188,5190,5194,5199,5204,5212,5218,5228,5233,5236,5244,524    9,5255,5259,5267,5277,5285,5289,5295,5307,5311,5320,5328}       {\"\",nsubj,dep,advmod,nsubj,aux,ccomp,dobj,vmod,\"\",\"\",amod,nsubj,\"\",nsubj,\"\",nn,nn,appos,\"\",ccomp,det,nn,dobj,\"\",dobj,\"\",nn,appos,\"\",\"\",a    dvmod,nsubj,dep,dobj,\"\",prep_with,\"\",poss,prep_of,\"\",appos,\"\",nn,appos,\"\",\"\",prep_in,\"\",poss,prep_with,\"\",conj_and,\"\",nn,appos,\"\",\"\",\"\",conj_and,pobj,dep,nn,amod,nsubj,\"\",prep_of,ccomp,dobj,neg,\"\",amo    d,prep_through,\"\",amod,conj_but,\"\",amod,conj_and,\"\"}    {0,3,13,7,7,7,3,7,8,0,0,13,14,0,21,0,19,19,15,0,14,24,24,21,0,14,0,29,26,0,0,34,34,26,34,0,34,0,40,37,0,40,0,45,42,0,0,42,0,51,42,0,51,0,56,53,0    ,0,0,51,60,61,65,65,68,0,65,62,68,68,0,73,68,0,76,73,0,79,73,0}\n",
    "\"\"\""
   ]
  },
  {
   "cell_type": "code",
   "execution_count": 9,
   "metadata": {
    "collapsed": false
   },
   "outputs": [
    {
     "ename": "ValueError",
     "evalue": "2 attributes for 10 fields:\n79205745-b593-4b98-8a94-da6b8238fefc\t32      “I know where you can get those framed,” aprivate eye named Visser (M. Emmet Walsh) tells a bar owner, Marty (Dan Hedaya), when he presents him with pho    tos of his wife, Abby (Frances McDormand) in bed with his bartender, Ray (John Getz), and from that staring point nocturnal acts of cruelty take shape not through nefarious schemes but crude assumptio    ns and mistaken identity.       {``,I,know,where,you,can,get,those,framed,\",\",'',aprivate,eye,named,Visser,-LRB-,M.,Emmet,Walsh,-RRB-,tells,a,bar,owner,\",\",Marty,-LRB-,Dan,Hedaya,-RRB-,\",\",when,he,pre    sents,him,with,photos,of,his,wife,\",\",Abby,-LRB-,Frances,McDormand,-RRB-,in,bed,with,his,bartender,\",\",Ray,-LRB-,John,Getz,-RRB-,\",\",and,from,that,staring,point,nocturnal,acts,of,cruelty,take,shape,no    t,through,nefarious,schemes,but,crude,assumptions,and,mistaken,identity,.}      {``,I,know,where,you,can,get,those,frame,\",\",'',aprivate,eye,name,Visser,-lrb-,M.,Emmet,Walsh,-rrb-,tell,a,bar,owner,\",\"    ,Marty,-lrb-,Dan,Hedaya,-rrb-,\",\",when,he,present,he,with,photo,of,he,wife,\",\",Abby,-lrb-,Frances,McDormand,-rrb-,in,bed,with,he,bartender,\",\",Ray,-lrb-,John,Getz,-rrb-,\",\",and,from,that,stare,point,n    octurnal,act,of,cruelty,take,shape,not,through,nefarious,scheme,but,crude,assumption,and,mistaken,identity,.}   {``,PRP,VBP,WRB,PRP,MD,VB,DT,VBN,\",\",'',JJ,NN,VBN,NNP,-LRB-,NNP,NNP,NNP,-RRB-,VBZ,DT,NN,    NN,\",\",NNP,-LRB-,NNP,NNP,-RRB-,\",\",WRB,PRP,VBZ,PRP,IN,NNS,IN,PRP$,NN,\",\",NNP,-LRB-,NNP,NNP,-RRB-,IN,NN,IN,PRP$,NN,\",\",NNP,-LRB-,NNP,NNP,-RRB-,\",\",CC,IN,DT,VBG,NN,JJ,NNS,IN,NN,VBP,NN,RB,IN,JJ,NNS,CC,JJ    ,NNS,CC,JJ,NN,.}        {O,O,O,O,O,O,O,O,O,O,O,O,O,O,PERSON,O,PERSON,PERSON,PERSON,O,O,O,O,O,O,PERSON,O,PERSON,PERSON,O,O,O,O,O,O,O,O,O,O,O,O,PERSON,O,PERSON,PERSON,O,O,O,O,O,O,O,PERSON,O,PERSON,PERSO    N,O,O,O,O,O,O,O,O,O,O,O,O,O,O,O,O,O,O,O,O,O,O,O,O}      {4952,4953,4955,4960,4966,4970,4974,4978,4984,4990,4991,4993,5002,5006,5012,5019,5020,5023,5029,5034,5036,5042,5044,5048,5053,5055,5061,5062,506    6,5072,5073,5075,5080,5083,5092,5096,5101,5108,5111,5115,5119,5121,5126,5127,5135,5144,5146,5149,5153,5158,5162,5171,5173,5177,5178,5183,5187,5188,5190,5194,5199,5204,5212,5218,5228,5233,5236,5244,524    9,5255,5259,5267,5277,5285,5289,5295,5307,5311,5320,5328}       {\"\",nsubj,dep,advmod,nsubj,aux,ccomp,dobj,vmod,\"\",\"\",amod,nsubj,\"\",nsubj,\"\",nn,nn,appos,\"\",ccomp,det,nn,dobj,\"\",dobj,\"\",nn,appos,\"\",\"\",a    dvmod,nsubj,dep,dobj,\"\",prep_with,\"\",poss,prep_of,\"\",appos,\"\",nn,appos,\"\",\"\",prep_in,\"\",poss,prep_with,\"\",conj_and,\"\",nn,appos,\"\",\"\",\"\",conj_and,pobj,dep,nn,amod,nsubj,\"\",prep_of,ccomp,dobj,neg,\"\",amo    d,prep_through,\"\",amod,conj_but,\"\",amod,conj_and,\"\"}    {0,3,13,7,7,7,3,7,8,0,0,13,14,0,21,0,19,19,15,0,14,24,24,21,0,14,0,29,26,0,0,34,34,26,34,0,34,0,40,37,0,40,0,45,42,0,0,42,0,51,42,0,51,0,56,53,0    ,0,0,51,60,61,65,65,68,0,65,62,68,68,0,73,68,0,76,73,0,79,73,0}",
     "output_type": "error",
     "traceback": [
      "\u001b[0;31m---------------------------------------------------------------------------\u001b[0m",
      "\u001b[0;31mValueError\u001b[0m                                Traceback (most recent call last)",
      "\u001b[0;32m<ipython-input-9-93861b31fbaa>\u001b[0m in \u001b[0;36m<module>\u001b[0;34m()\u001b[0m\n\u001b[1;32m     12\u001b[0m         \u001b[0;34m(\u001b[0m\u001b[0;34m'dep_parents'\u001b[0m\u001b[0;34m,\u001b[0m \u001b[0;34m'int[]'\u001b[0m\u001b[0;34m)\u001b[0m\u001b[0;34m\u001b[0m\u001b[0m\n\u001b[1;32m     13\u001b[0m     ])\n\u001b[0;32m---> 14\u001b[0;31m \u001b[0mrow\u001b[0m \u001b[0;34m=\u001b[0m \u001b[0mparser\u001b[0m\u001b[0;34m.\u001b[0m\u001b[0mparse_line\u001b[0m\u001b[0;34m(\u001b[0m\u001b[0mraw_in\u001b[0m\u001b[0;34m.\u001b[0m\u001b[0mstrip\u001b[0m\u001b[0;34m(\u001b[0m\u001b[0;34m)\u001b[0m\u001b[0;34m)\u001b[0m\u001b[0;34m\u001b[0m\u001b[0m\n\u001b[0m",
      "\u001b[0;32m/Users/aratner/repos/treedlib/treedlib/util.py\u001b[0m in \u001b[0;36mparse_line\u001b[0;34m(self, line)\u001b[0m\n\u001b[1;32m     72\u001b[0m     \u001b[0mattribs\u001b[0m \u001b[0;34m=\u001b[0m \u001b[0mline\u001b[0m\u001b[0;34m.\u001b[0m\u001b[0mrstrip\u001b[0m\u001b[0;34m(\u001b[0m\u001b[0;34m)\u001b[0m\u001b[0;34m.\u001b[0m\u001b[0msplit\u001b[0m\u001b[0;34m(\u001b[0m\u001b[0;34m'\\t'\u001b[0m\u001b[0;34m)\u001b[0m\u001b[0;34m\u001b[0m\u001b[0m\n\u001b[1;32m     73\u001b[0m     \u001b[0;32mif\u001b[0m \u001b[0mlen\u001b[0m\u001b[0;34m(\u001b[0m\u001b[0mattribs\u001b[0m\u001b[0;34m)\u001b[0m \u001b[0;34m!=\u001b[0m \u001b[0mself\u001b[0m\u001b[0;34m.\u001b[0m\u001b[0mn\u001b[0m\u001b[0;34m:\u001b[0m\u001b[0;34m\u001b[0m\u001b[0m\n\u001b[0;32m---> 74\u001b[0;31m       \u001b[0;32mraise\u001b[0m \u001b[0mValueError\u001b[0m\u001b[0;34m(\u001b[0m\u001b[0;34m\"%s attributes for %s fields:\\n%s\"\u001b[0m \u001b[0;34m%\u001b[0m \u001b[0;34m(\u001b[0m\u001b[0mlen\u001b[0m\u001b[0;34m(\u001b[0m\u001b[0mattribs\u001b[0m\u001b[0;34m)\u001b[0m\u001b[0;34m,\u001b[0m \u001b[0mself\u001b[0m\u001b[0;34m.\u001b[0m\u001b[0mn\u001b[0m\u001b[0;34m,\u001b[0m \u001b[0mline\u001b[0m\u001b[0;34m)\u001b[0m\u001b[0;34m)\u001b[0m\u001b[0;34m\u001b[0m\u001b[0m\n\u001b[0m\u001b[1;32m     75\u001b[0m     \u001b[0;32mfor\u001b[0m \u001b[0mi\u001b[0m\u001b[0;34m,\u001b[0m\u001b[0mattrib\u001b[0m \u001b[0;32min\u001b[0m \u001b[0menumerate\u001b[0m\u001b[0;34m(\u001b[0m\u001b[0mattribs\u001b[0m\u001b[0;34m)\u001b[0m\u001b[0;34m:\u001b[0m\u001b[0;34m\u001b[0m\u001b[0m\n\u001b[1;32m     76\u001b[0m       \u001b[0mfield_name\u001b[0m\u001b[0;34m,\u001b[0m \u001b[0mfield_type\u001b[0m \u001b[0;34m=\u001b[0m \u001b[0mself\u001b[0m\u001b[0;34m.\u001b[0m\u001b[0mfields\u001b[0m\u001b[0;34m[\u001b[0m\u001b[0mi\u001b[0m\u001b[0;34m]\u001b[0m\u001b[0;34m\u001b[0m\u001b[0m\n",
      "\u001b[0;31mValueError\u001b[0m: 2 attributes for 10 fields:\n79205745-b593-4b98-8a94-da6b8238fefc\t32      “I know where you can get those framed,” aprivate eye named Visser (M. Emmet Walsh) tells a bar owner, Marty (Dan Hedaya), when he presents him with pho    tos of his wife, Abby (Frances McDormand) in bed with his bartender, Ray (John Getz), and from that staring point nocturnal acts of cruelty take shape not through nefarious schemes but crude assumptio    ns and mistaken identity.       {``,I,know,where,you,can,get,those,framed,\",\",'',aprivate,eye,named,Visser,-LRB-,M.,Emmet,Walsh,-RRB-,tells,a,bar,owner,\",\",Marty,-LRB-,Dan,Hedaya,-RRB-,\",\",when,he,pre    sents,him,with,photos,of,his,wife,\",\",Abby,-LRB-,Frances,McDormand,-RRB-,in,bed,with,his,bartender,\",\",Ray,-LRB-,John,Getz,-RRB-,\",\",and,from,that,staring,point,nocturnal,acts,of,cruelty,take,shape,no    t,through,nefarious,schemes,but,crude,assumptions,and,mistaken,identity,.}      {``,I,know,where,you,can,get,those,frame,\",\",'',aprivate,eye,name,Visser,-lrb-,M.,Emmet,Walsh,-rrb-,tell,a,bar,owner,\",\"    ,Marty,-lrb-,Dan,Hedaya,-rrb-,\",\",when,he,present,he,with,photo,of,he,wife,\",\",Abby,-lrb-,Frances,McDormand,-rrb-,in,bed,with,he,bartender,\",\",Ray,-lrb-,John,Getz,-rrb-,\",\",and,from,that,stare,point,n    octurnal,act,of,cruelty,take,shape,not,through,nefarious,scheme,but,crude,assumption,and,mistaken,identity,.}   {``,PRP,VBP,WRB,PRP,MD,VB,DT,VBN,\",\",'',JJ,NN,VBN,NNP,-LRB-,NNP,NNP,NNP,-RRB-,VBZ,DT,NN,    NN,\",\",NNP,-LRB-,NNP,NNP,-RRB-,\",\",WRB,PRP,VBZ,PRP,IN,NNS,IN,PRP$,NN,\",\",NNP,-LRB-,NNP,NNP,-RRB-,IN,NN,IN,PRP$,NN,\",\",NNP,-LRB-,NNP,NNP,-RRB-,\",\",CC,IN,DT,VBG,NN,JJ,NNS,IN,NN,VBP,NN,RB,IN,JJ,NNS,CC,JJ    ,NNS,CC,JJ,NN,.}        {O,O,O,O,O,O,O,O,O,O,O,O,O,O,PERSON,O,PERSON,PERSON,PERSON,O,O,O,O,O,O,PERSON,O,PERSON,PERSON,O,O,O,O,O,O,O,O,O,O,O,O,PERSON,O,PERSON,PERSON,O,O,O,O,O,O,O,PERSON,O,PERSON,PERSO    N,O,O,O,O,O,O,O,O,O,O,O,O,O,O,O,O,O,O,O,O,O,O,O,O}      {4952,4953,4955,4960,4966,4970,4974,4978,4984,4990,4991,4993,5002,5006,5012,5019,5020,5023,5029,5034,5036,5042,5044,5048,5053,5055,5061,5062,506    6,5072,5073,5075,5080,5083,5092,5096,5101,5108,5111,5115,5119,5121,5126,5127,5135,5144,5146,5149,5153,5158,5162,5171,5173,5177,5178,5183,5187,5188,5190,5194,5199,5204,5212,5218,5228,5233,5236,5244,524    9,5255,5259,5267,5277,5285,5289,5295,5307,5311,5320,5328}       {\"\",nsubj,dep,advmod,nsubj,aux,ccomp,dobj,vmod,\"\",\"\",amod,nsubj,\"\",nsubj,\"\",nn,nn,appos,\"\",ccomp,det,nn,dobj,\"\",dobj,\"\",nn,appos,\"\",\"\",a    dvmod,nsubj,dep,dobj,\"\",prep_with,\"\",poss,prep_of,\"\",appos,\"\",nn,appos,\"\",\"\",prep_in,\"\",poss,prep_with,\"\",conj_and,\"\",nn,appos,\"\",\"\",\"\",conj_and,pobj,dep,nn,amod,nsubj,\"\",prep_of,ccomp,dobj,neg,\"\",amo    d,prep_through,\"\",amod,conj_but,\"\",amod,conj_and,\"\"}    {0,3,13,7,7,7,3,7,8,0,0,13,14,0,21,0,19,19,15,0,14,24,24,21,0,14,0,29,26,0,0,34,34,26,34,0,34,0,40,37,0,40,0,45,42,0,0,42,0,51,42,0,51,0,56,53,0    ,0,0,51,60,61,65,65,68,0,65,62,68,68,0,73,68,0,76,73,0,79,73,0}"
     ]
    }
   ],
   "source": [
    "# Basic IO\n",
    "parser = PTSVParser([\n",
    "        ('doc_id', 'text'),\n",
    "        ('sent_id', 'int'),\n",
    "        ('text', 'text'),\n",
    "        ('words', 'text[]'),\n",
    "        ('lemmas', 'text[]'),\n",
    "        ('poses', 'text[]'),\n",
    "        ('ners', 'text[]'),\n",
    "        ('char_idxs', 'int[]'),\n",
    "        ('dep_paths', 'text[]'),\n",
    "        ('dep_parents', 'int[]')\n",
    "    ])\n",
    "row = parser.parse_line(raw_in.strip())"
   ]
  },
  {
   "cell_type": "markdown",
   "metadata": {},
   "source": [
    "### Feature focus: Preceding statements which nullify or negate meaning\n",
    "\n",
    "Example:\n",
    "> _Ex1:_ To investigate whether mutations in the SURF1 gene are a cause of Charcot-Marie-Tooth -LRB- CMT -RRB- disease\n",
    "\n",
    "> _Ex2:_ To investigate the genetic effect of a new mutation found in exon 17 of the myophosphorylase -LRB- PYGM -RRB- gene as a cause of McArdle disease -LRB- also known as type 5 glycogenosis -RRB-.\n",
    "\n",
    "Notes:\n",
    "* These seem to mostly be **_modifiers of the primary verb_**?\n",
    "    * We are only sampling from a limited set of patterns of sentences (due to narrow DSR set) currently...\n",
    "* Modifiers in general...?\n",
    "* _I know how RNNs claim to / do handle this phenomenon..._ *"
   ]
  },
  {
   "cell_type": "code",
   "execution_count": 133,
   "metadata": {
    "collapsed": false
   },
   "outputs": [],
   "source": [
    "ex1_id = ('24027061', 'Abstract.0', 1)\n",
    "ex1_raw=\"\"\"\n",
    "<node dep_parent=\"0\" lemma=\"investigate\" ner=\"O\" pos=\"VB\" word=\"investigate\" word_idx=\"1\"><node dep_parent=\"2\" dep_path=\"aux\" lemma=\"to\" ner=\"O\" pos=\"TO\" word=\"To\" word_idx=\"0\"/><node dep_parent=\"2\" dep_path=\"ccomp\" lemma=\"cause\" ner=\"O\" pos=\"NN\" word=\"cause\" word_idx=\"10\"><node dep_parent=\"11\" dep_path=\"mark\" lemma=\"whether\" ner=\"O\" pos=\"IN\" word=\"whether\" word_idx=\"2\"/><node dep_parent=\"11\" dep_path=\"nsubj\" lemma=\"mutation\" ner=\"O\" pos=\"NNS\" word=\"mutations\" word_idx=\"3\"><node dep_parent=\"4\" dep_path=\"prep_in\" lemma=\"gene\" ner=\"O\" pos=\"NN\" word=\"gene\" word_idx=\"7\"><node dep_parent=\"8\" dep_path=\"det\" lemma=\"the\" ner=\"O\" pos=\"DT\" word=\"the\" word_idx=\"5\"/><node dep_parent=\"8\" dep_path=\"nn\" lemma=\"surf1\" ner=\"O\" pos=\"NN\" word=\"SURF1\" word_idx=\"6\"/></node></node><node dep_parent=\"11\" dep_path=\"cop\" lemma=\"be\" ner=\"O\" pos=\"VBP\" word=\"are\" word_idx=\"8\"/><node dep_parent=\"11\" dep_path=\"det\" lemma=\"a\" ner=\"O\" pos=\"DT\" word=\"a\" word_idx=\"9\"/><node dep_parent=\"11\" dep_path=\"prep_of\" lemma=\"Charcot-Marie-Tooth\" ner=\"O\" pos=\"NNP\" word=\"Charcot-Marie-Tooth\" word_idx=\"12\"/><node dep_parent=\"11\" dep_path=\"dep\" lemma=\"disease\" ner=\"O\" pos=\"NN\" word=\"disease\" word_idx=\"16\"><node dep_parent=\"17\" dep_path=\"appos\" lemma=\"CMT\" ner=\"O\" pos=\"NNP\" word=\"CMT\" word_idx=\"14\"/></node></node></node>\n",
    "\"\"\"\n",
    "xt1 = XMLTree(et.fromstring(ex1_raw))\n",
    "ex2_id = ('15262743', 'Abstract.0', 1)\n",
    "ex2_raw=\"\"\"\n",
    "<node dep_parent=\"0\" lemma=\"investigate\" ner=\"O\" pos=\"VB\" word=\"investigate\" word_idx=\"1\"><node dep_parent=\"2\" dep_path=\"aux\" lemma=\"to\" ner=\"O\" pos=\"TO\" word=\"To\" word_idx=\"0\"/><node dep_parent=\"2\" dep_path=\"dobj\" lemma=\"effect\" ner=\"O\" pos=\"NN\" word=\"effect\" word_idx=\"4\"><node dep_parent=\"5\" dep_path=\"det\" lemma=\"the\" ner=\"O\" pos=\"DT\" word=\"the\" word_idx=\"2\"/><node dep_parent=\"5\" dep_path=\"amod\" lemma=\"genetic\" ner=\"O\" pos=\"JJ\" word=\"genetic\" word_idx=\"3\"/><node dep_parent=\"5\" dep_path=\"prep_of\" lemma=\"mutation\" ner=\"O\" pos=\"NN\" word=\"mutation\" word_idx=\"8\"><node dep_parent=\"9\" dep_path=\"det\" lemma=\"a\" ner=\"O\" pos=\"DT\" word=\"a\" word_idx=\"6\"/><node dep_parent=\"9\" dep_path=\"amod\" lemma=\"new\" ner=\"O\" pos=\"JJ\" word=\"new\" word_idx=\"7\"/><node dep_parent=\"9\" dep_path=\"vmod\" lemma=\"find\" ner=\"O\" pos=\"VBN\" word=\"found\" word_idx=\"9\"><node dep_parent=\"10\" dep_path=\"prep_in\" lemma=\"exon\" ner=\"O\" pos=\"NN\" word=\"exon\" word_idx=\"11\"><node dep_parent=\"12\" dep_path=\"num\" lemma=\"17\" ner=\"NUMBER\" pos=\"CD\" word=\"17\" word_idx=\"12\"/><node dep_parent=\"12\" dep_path=\"prep_of\" lemma=\"gene\" ner=\"O\" pos=\"NN\" word=\"gene\" word_idx=\"19\"><node dep_parent=\"20\" dep_path=\"det\" lemma=\"the\" ner=\"O\" pos=\"DT\" word=\"the\" word_idx=\"14\"/><node dep_parent=\"20\" dep_path=\"nn\" lemma=\"myophosphorylase\" ner=\"O\" pos=\"NN\" word=\"myophosphorylase\" word_idx=\"15\"/><node dep_parent=\"20\" dep_path=\"nn\" lemma=\"pygm\" ner=\"O\" pos=\"NN\" word=\"PYGM\" word_idx=\"17\"/></node></node><node dep_parent=\"10\" dep_path=\"prep_as\" lemma=\"cause\" ner=\"O\" pos=\"NN\" word=\"cause\" word_idx=\"22\"><node dep_parent=\"23\" dep_path=\"det\" lemma=\"a\" ner=\"O\" pos=\"DT\" word=\"a\" word_idx=\"21\"/><node dep_parent=\"23\" dep_path=\"prep_of\" lemma=\"disease\" ner=\"O\" pos=\"NN\" word=\"disease\" word_idx=\"25\"><node dep_parent=\"26\" dep_path=\"nn\" lemma=\"McArdle\" ner=\"PERSON\" pos=\"NNP\" word=\"McArdle\" word_idx=\"24\"/><node dep_parent=\"26\" dep_path=\"vmod\" lemma=\"know\" ner=\"O\" pos=\"VBN\" word=\"known\" word_idx=\"28\"><node dep_parent=\"29\" dep_path=\"advmod\" lemma=\"also\" ner=\"O\" pos=\"RB\" word=\"also\" word_idx=\"27\"/><node dep_parent=\"29\" dep_path=\"prep_as\" lemma=\"glycogenosis\" ner=\"O\" pos=\"NN\" word=\"glycogenosis\" word_idx=\"32\"><node dep_parent=\"33\" dep_path=\"nn\" lemma=\"type\" ner=\"O\" pos=\"NN\" word=\"type\" word_idx=\"30\"/><node dep_parent=\"33\" dep_path=\"num\" lemma=\"5\" ner=\"NUMBER\" pos=\"CD\" word=\"5\" word_idx=\"31\"/></node></node></node></node></node></node></node></node>\n",
    "\"\"\"\n",
    "xt2 = XMLTree(et.fromstring(ex2_raw))"
   ]
  },
  {
   "cell_type": "code",
   "execution_count": 135,
   "metadata": {
    "collapsed": false
   },
   "outputs": [
    {
     "data": {
      "text/html": [
       "<style>\n",
       ".node {\n",
       "  cursor: pointer;\n",
       "}\n",
       "\n",
       ".node circle {\n",
       "  fill: #fff;\n",
       "  stroke: steelblue;\n",
       "  stroke-width: 3px;\n",
       "}\n",
       "\n",
       ".node text {\n",
       "  font: 12px sans-serif;\n",
       "}\n",
       "\n",
       ".edge {\n",
       "  fill: none;\n",
       "  stroke: #ccc;\n",
       "  stroke-width: 2px;\n",
       "  cursor: pointer;\n",
       "}\n",
       "\n",
       ".highlight {\n",
       "  stroke: red;\n",
       "  stroke-width: 3px;\n",
       "}\n",
       "</style>\n",
       "\n",
       "<!--Provide the canvas id via python string formatting here--!>\n",
       "<div id=\"tree-chart-1927448183035911858\"></div>\n"
      ]
     },
     "metadata": {},
     "output_type": "display_data"
    },
    {
     "data": {
      "application/javascript": [
       "$.getScript(\"http://d3js.org/d3.v3.min.js\", function () {\n",
       "// See http://bl.ocks.org/d3noob/8375092\n",
       "// Two vars need to be provided via python string formatting: the tree, and the canvas id\n",
       "\n",
       "// JSON tree\n",
       "var root = {\"attrib\": {\"word\": \"investigate\", \"dep_parent\": \"0\", \"pos\": \"VB\", \"lemma\": \"investigate\", \"word_idx\": \"1\", \"ner\": \"O\"}, \"children\": [{\"attrib\": {\"word\": \"To\", \"dep_parent\": \"2\", \"pos\": \"TO\", \"lemma\": \"to\", \"word_idx\": \"0\", \"dep_path\": \"aux\", \"ner\": \"O\"}, \"children\": []}, {\"attrib\": {\"word\": \"cause\", \"dep_parent\": \"2\", \"pos\": \"NN\", \"lemma\": \"cause\", \"word_idx\": \"10\", \"dep_path\": \"ccomp\", \"ner\": \"O\"}, \"children\": [{\"attrib\": {\"word\": \"whether\", \"dep_parent\": \"11\", \"pos\": \"IN\", \"lemma\": \"whether\", \"word_idx\": \"2\", \"dep_path\": \"mark\", \"ner\": \"O\"}, \"children\": []}, {\"attrib\": {\"word\": \"mutations\", \"dep_parent\": \"11\", \"pos\": \"NNS\", \"lemma\": \"mutation\", \"word_idx\": \"3\", \"dep_path\": \"nsubj\", \"ner\": \"O\"}, \"children\": [{\"attrib\": {\"word\": \"gene\", \"dep_parent\": \"4\", \"pos\": \"NN\", \"lemma\": \"gene\", \"word_idx\": \"7\", \"dep_path\": \"prep_in\", \"ner\": \"O\"}, \"children\": [{\"attrib\": {\"word\": \"the\", \"dep_parent\": \"8\", \"pos\": \"DT\", \"lemma\": \"the\", \"word_idx\": \"5\", \"dep_path\": \"det\", \"ner\": \"O\"}, \"children\": []}, {\"attrib\": {\"word\": \"SURF1\", \"dep_parent\": \"8\", \"pos\": \"NN\", \"lemma\": \"surf1\", \"word_idx\": \"6\", \"dep_path\": \"nn\", \"ner\": \"O\"}, \"children\": []}]}]}, {\"attrib\": {\"word\": \"are\", \"dep_parent\": \"11\", \"pos\": \"VBP\", \"lemma\": \"be\", \"word_idx\": \"8\", \"dep_path\": \"cop\", \"ner\": \"O\"}, \"children\": []}, {\"attrib\": {\"word\": \"a\", \"dep_parent\": \"11\", \"pos\": \"DT\", \"lemma\": \"a\", \"word_idx\": \"9\", \"dep_path\": \"det\", \"ner\": \"O\"}, \"children\": []}, {\"attrib\": {\"word\": \"Charcot-Marie-Tooth\", \"dep_parent\": \"11\", \"pos\": \"NNP\", \"lemma\": \"Charcot-Marie-Tooth\", \"word_idx\": \"12\", \"dep_path\": \"prep_of\", \"ner\": \"O\"}, \"children\": []}, {\"attrib\": {\"word\": \"disease\", \"dep_parent\": \"11\", \"pos\": \"NN\", \"lemma\": \"disease\", \"word_idx\": \"16\", \"dep_path\": \"dep\", \"ner\": \"O\"}, \"children\": [{\"attrib\": {\"word\": \"CMT\", \"dep_parent\": \"17\", \"pos\": \"NNP\", \"lemma\": \"CMT\", \"word_idx\": \"14\", \"dep_path\": \"appos\", \"ner\": \"O\"}, \"children\": []}]}]}]};\n",
       "\n",
       "// Constants\n",
       "var margin = {top: 20, right: 20, bottom: 20, left: 20},\n",
       "width = 800 - margin.left - margin.right,\n",
       "height = 250 - margin.top - margin.bottom,\n",
       "R = 5;\n",
       "\n",
       "// Create the d3 tree object\n",
       "var tree = d3.layout.tree()\n",
       "  .size([width, height]);\n",
       "\n",
       "// Create the svg canvas\n",
       "var svg = d3.select(\"#tree-chart-1927448183035911858\")\n",
       "  .append(\"svg\")\n",
       "  .attr(\"width\", width + margin.left + margin.right)\n",
       "  .attr(\"height\", height + margin.top + margin.bottom)\n",
       "  .append(\"g\")\n",
       "  .attr(\"transform\", \"translate(\" + margin.left + \",\" + margin.top + \")\");\n",
       "\n",
       "function renderTree() {\n",
       "  var nodes = tree.nodes(root),\n",
       "  edges = tree.links(nodes);\n",
       "\n",
       "  // Place the nodes\n",
       "  var nodeGroups = svg.selectAll(\"g.node\")\n",
       "    .data(nodes)\n",
       "    .enter().append(\"g\")\n",
       "    .attr(\"class\", \"node\")\n",
       "    .attr(\"transform\", function(d) { return \"translate(\" + d.x + \",\" + d.y + \")\"; });\n",
       "       \n",
       "  // Append circles\n",
       "  nodeGroups.append(\"circle\")\n",
       "    .on(\"click\", function() {\n",
       "      d3.select(this).classed(\"highlight\", !d3.select(this).classed(\"highlight\")); })\n",
       "    .attr(\"r\", R);\n",
       "     \n",
       "  // Append the actual word\n",
       "  nodeGroups.append(\"text\")\n",
       "    .text(function(d) { return d.attrib.word; })\n",
       "    .attr(\"text-anchor\", function(d) { \n",
       "      return d.children && d.children.length > 0 ? \"start\" : \"middle\"; })\n",
       "    .attr(\"dx\", function(d) { \n",
       "      return d.children && d.children.length > 0 ? R + 3 : 0; })\n",
       "    .attr(\"dy\", function(d) { \n",
       "      return d.children && d.children.length > 0 ? 0 : 3*R + 3; });\n",
       "\n",
       "  // Place the edges\n",
       "  var edgePaths = svg.selectAll(\"path\")\n",
       "    .data(edges)\n",
       "    .enter().append(\"path\")\n",
       "    .attr(\"class\", \"edge\")\n",
       "    .on(\"click\", function() {\n",
       "      d3.select(this).classed(\"highlight\", !d3.select(this).classed(\"highlight\")); })\n",
       "    .attr(\"d\", d3.svg.diagonal());\n",
       "}\n",
       "\n",
       "renderTree();\n",
       "});\n"
      ]
     },
     "metadata": {},
     "output_type": "display_data"
    },
    {
     "data": {
      "text/html": [
       "<style>\n",
       ".node {\n",
       "  cursor: pointer;\n",
       "}\n",
       "\n",
       ".node circle {\n",
       "  fill: #fff;\n",
       "  stroke: steelblue;\n",
       "  stroke-width: 3px;\n",
       "}\n",
       "\n",
       ".node text {\n",
       "  font: 12px sans-serif;\n",
       "}\n",
       "\n",
       ".edge {\n",
       "  fill: none;\n",
       "  stroke: #ccc;\n",
       "  stroke-width: 2px;\n",
       "  cursor: pointer;\n",
       "}\n",
       "\n",
       ".highlight {\n",
       "  stroke: red;\n",
       "  stroke-width: 3px;\n",
       "}\n",
       "</style>\n",
       "\n",
       "<!--Provide the canvas id via python string formatting here--!>\n",
       "<div id=\"tree-chart-1353458767740013196\"></div>\n"
      ]
     },
     "metadata": {},
     "output_type": "display_data"
    },
    {
     "data": {
      "application/javascript": [
       "$.getScript(\"http://d3js.org/d3.v3.min.js\", function () {\n",
       "// See http://bl.ocks.org/d3noob/8375092\n",
       "// Two vars need to be provided via python string formatting: the tree, and the canvas id\n",
       "\n",
       "// JSON tree\n",
       "var root = {\"attrib\": {\"word\": \"investigate\", \"dep_parent\": \"0\", \"pos\": \"VB\", \"lemma\": \"investigate\", \"word_idx\": \"1\", \"ner\": \"O\"}, \"children\": [{\"attrib\": {\"word\": \"To\", \"dep_parent\": \"2\", \"pos\": \"TO\", \"lemma\": \"to\", \"word_idx\": \"0\", \"dep_path\": \"aux\", \"ner\": \"O\"}, \"children\": []}, {\"attrib\": {\"word\": \"effect\", \"dep_parent\": \"2\", \"pos\": \"NN\", \"lemma\": \"effect\", \"word_idx\": \"4\", \"dep_path\": \"dobj\", \"ner\": \"O\"}, \"children\": [{\"attrib\": {\"word\": \"the\", \"dep_parent\": \"5\", \"pos\": \"DT\", \"lemma\": \"the\", \"word_idx\": \"2\", \"dep_path\": \"det\", \"ner\": \"O\"}, \"children\": []}, {\"attrib\": {\"word\": \"genetic\", \"dep_parent\": \"5\", \"pos\": \"JJ\", \"lemma\": \"genetic\", \"word_idx\": \"3\", \"dep_path\": \"amod\", \"ner\": \"O\"}, \"children\": []}, {\"attrib\": {\"word\": \"mutation\", \"dep_parent\": \"5\", \"pos\": \"NN\", \"lemma\": \"mutation\", \"word_idx\": \"8\", \"dep_path\": \"prep_of\", \"ner\": \"O\"}, \"children\": [{\"attrib\": {\"word\": \"a\", \"dep_parent\": \"9\", \"pos\": \"DT\", \"lemma\": \"a\", \"word_idx\": \"6\", \"dep_path\": \"det\", \"ner\": \"O\"}, \"children\": []}, {\"attrib\": {\"word\": \"new\", \"dep_parent\": \"9\", \"pos\": \"JJ\", \"lemma\": \"new\", \"word_idx\": \"7\", \"dep_path\": \"amod\", \"ner\": \"O\"}, \"children\": []}, {\"attrib\": {\"word\": \"found\", \"dep_parent\": \"9\", \"pos\": \"VBN\", \"lemma\": \"find\", \"word_idx\": \"9\", \"dep_path\": \"vmod\", \"ner\": \"O\"}, \"children\": [{\"attrib\": {\"word\": \"exon\", \"dep_parent\": \"10\", \"pos\": \"NN\", \"lemma\": \"exon\", \"word_idx\": \"11\", \"dep_path\": \"prep_in\", \"ner\": \"O\"}, \"children\": [{\"attrib\": {\"word\": \"17\", \"dep_parent\": \"12\", \"pos\": \"CD\", \"lemma\": \"17\", \"word_idx\": \"12\", \"dep_path\": \"num\", \"ner\": \"NUMBER\"}, \"children\": []}, {\"attrib\": {\"word\": \"gene\", \"dep_parent\": \"12\", \"pos\": \"NN\", \"lemma\": \"gene\", \"word_idx\": \"19\", \"dep_path\": \"prep_of\", \"ner\": \"O\"}, \"children\": [{\"attrib\": {\"word\": \"the\", \"dep_parent\": \"20\", \"pos\": \"DT\", \"lemma\": \"the\", \"word_idx\": \"14\", \"dep_path\": \"det\", \"ner\": \"O\"}, \"children\": []}, {\"attrib\": {\"word\": \"myophosphorylase\", \"dep_parent\": \"20\", \"pos\": \"NN\", \"lemma\": \"myophosphorylase\", \"word_idx\": \"15\", \"dep_path\": \"nn\", \"ner\": \"O\"}, \"children\": []}, {\"attrib\": {\"word\": \"PYGM\", \"dep_parent\": \"20\", \"pos\": \"NN\", \"lemma\": \"pygm\", \"word_idx\": \"17\", \"dep_path\": \"nn\", \"ner\": \"O\"}, \"children\": []}]}]}, {\"attrib\": {\"word\": \"cause\", \"dep_parent\": \"10\", \"pos\": \"NN\", \"lemma\": \"cause\", \"word_idx\": \"22\", \"dep_path\": \"prep_as\", \"ner\": \"O\"}, \"children\": [{\"attrib\": {\"word\": \"a\", \"dep_parent\": \"23\", \"pos\": \"DT\", \"lemma\": \"a\", \"word_idx\": \"21\", \"dep_path\": \"det\", \"ner\": \"O\"}, \"children\": []}, {\"attrib\": {\"word\": \"disease\", \"dep_parent\": \"23\", \"pos\": \"NN\", \"lemma\": \"disease\", \"word_idx\": \"25\", \"dep_path\": \"prep_of\", \"ner\": \"O\"}, \"children\": [{\"attrib\": {\"word\": \"McArdle\", \"dep_parent\": \"26\", \"pos\": \"NNP\", \"lemma\": \"McArdle\", \"word_idx\": \"24\", \"dep_path\": \"nn\", \"ner\": \"PERSON\"}, \"children\": []}, {\"attrib\": {\"word\": \"known\", \"dep_parent\": \"26\", \"pos\": \"VBN\", \"lemma\": \"know\", \"word_idx\": \"28\", \"dep_path\": \"vmod\", \"ner\": \"O\"}, \"children\": [{\"attrib\": {\"word\": \"also\", \"dep_parent\": \"29\", \"pos\": \"RB\", \"lemma\": \"also\", \"word_idx\": \"27\", \"dep_path\": \"advmod\", \"ner\": \"O\"}, \"children\": []}, {\"attrib\": {\"word\": \"glycogenosis\", \"dep_parent\": \"29\", \"pos\": \"NN\", \"lemma\": \"glycogenosis\", \"word_idx\": \"32\", \"dep_path\": \"prep_as\", \"ner\": \"O\"}, \"children\": [{\"attrib\": {\"word\": \"type\", \"dep_parent\": \"33\", \"pos\": \"NN\", \"lemma\": \"type\", \"word_idx\": \"30\", \"dep_path\": \"nn\", \"ner\": \"O\"}, \"children\": []}, {\"attrib\": {\"word\": \"5\", \"dep_parent\": \"33\", \"pos\": \"CD\", \"lemma\": \"5\", \"word_idx\": \"31\", \"dep_path\": \"num\", \"ner\": \"NUMBER\"}, \"children\": []}]}]}]}]}]}]}]}]};\n",
       "\n",
       "// Constants\n",
       "var margin = {top: 20, right: 20, bottom: 20, left: 20},\n",
       "width = 800 - margin.left - margin.right,\n",
       "height = 250 - margin.top - margin.bottom,\n",
       "R = 5;\n",
       "\n",
       "// Create the d3 tree object\n",
       "var tree = d3.layout.tree()\n",
       "  .size([width, height]);\n",
       "\n",
       "// Create the svg canvas\n",
       "var svg = d3.select(\"#tree-chart-1353458767740013196\")\n",
       "  .append(\"svg\")\n",
       "  .attr(\"width\", width + margin.left + margin.right)\n",
       "  .attr(\"height\", height + margin.top + margin.bottom)\n",
       "  .append(\"g\")\n",
       "  .attr(\"transform\", \"translate(\" + margin.left + \",\" + margin.top + \")\");\n",
       "\n",
       "function renderTree() {\n",
       "  var nodes = tree.nodes(root),\n",
       "  edges = tree.links(nodes);\n",
       "\n",
       "  // Place the nodes\n",
       "  var nodeGroups = svg.selectAll(\"g.node\")\n",
       "    .data(nodes)\n",
       "    .enter().append(\"g\")\n",
       "    .attr(\"class\", \"node\")\n",
       "    .attr(\"transform\", function(d) { return \"translate(\" + d.x + \",\" + d.y + \")\"; });\n",
       "       \n",
       "  // Append circles\n",
       "  nodeGroups.append(\"circle\")\n",
       "    .on(\"click\", function() {\n",
       "      d3.select(this).classed(\"highlight\", !d3.select(this).classed(\"highlight\")); })\n",
       "    .attr(\"r\", R);\n",
       "     \n",
       "  // Append the actual word\n",
       "  nodeGroups.append(\"text\")\n",
       "    .text(function(d) { return d.attrib.word; })\n",
       "    .attr(\"text-anchor\", function(d) { \n",
       "      return d.children && d.children.length > 0 ? \"start\" : \"middle\"; })\n",
       "    .attr(\"dx\", function(d) { \n",
       "      return d.children && d.children.length > 0 ? R + 3 : 0; })\n",
       "    .attr(\"dy\", function(d) { \n",
       "      return d.children && d.children.length > 0 ? 0 : 3*R + 3; });\n",
       "\n",
       "  // Place the edges\n",
       "  var edgePaths = svg.selectAll(\"path\")\n",
       "    .data(edges)\n",
       "    .enter().append(\"path\")\n",
       "    .attr(\"class\", \"edge\")\n",
       "    .on(\"click\", function() {\n",
       "      d3.select(this).classed(\"highlight\", !d3.select(this).classed(\"highlight\")); })\n",
       "    .attr(\"d\", d3.svg.diagonal());\n",
       "}\n",
       "\n",
       "renderTree();\n",
       "});\n"
      ]
     },
     "metadata": {},
     "output_type": "display_data"
    }
   ],
   "source": [
    "xt1.render_tree()\n",
    "xt2.render_tree()"
   ]
  },
  {
   "cell_type": "code",
   "execution_count": 104,
   "metadata": {
    "collapsed": false
   },
   "outputs": [],
   "source": [
    "# Basic IO\n",
    "parser = PTSVParser([\n",
    "        ('doc_id', 'text'),\n",
    "        ('sent_id', 'int'),\n",
    "        ('text', 'text'),\n",
    "        ('words', 'text[]'),\n",
    "        ('lemmas', 'text[]'),\n",
    "        ('poses', 'text[]'),\n",
    "        ('ners', 'text[]'),\n",
    "        ('char_idxs', 'int[]'),\n",
    "        ('dep_paths', 'text[]'),\n",
    "        ('dep_parents', 'int[]')\n",
    "    ])\n",
    "rows = map(parser.parse_line, open('test/test1.parsed.tsv', 'rb'))"
   ]
  },
  {
   "cell_type": "code",
   "execution_count": 105,
   "metadata": {
    "collapsed": false
   },
   "outputs": [
    {
     "data": {
      "text/plain": [
       "<Row(dep_paths=['nn', 'nsubj', 'cop', 'det', 'amod', 'amod', 'amod', 'nn', None, 'vmod', None, 'agent', None, 'det', 'nn', 'nn', 'prep_of', None], char_idxs=[0, 11, 20, 23, 25, 30, 38, 46, 63, 71, 78, 81, 91, 94, 98, 103, 110, 114], text=Hyper-IgM1 syndrome is a rare genetic primary immunodeficiency disease caused by mutations of the CD40 ligand gene., ners=['O', 'O', 'O', 'O', 'O', 'O', 'O', 'O', 'O', 'O', 'O', 'O', 'O', 'O', 'O', 'O', 'O', 'O'], sent_id=1, words=['Hyper-IgM1', 'syndrome', 'is', 'a', 'rare', 'genetic', 'primary', 'immunodeficiency', 'disease', 'caused', 'by', 'mutations', 'of', 'the', 'CD40', 'ligand', 'gene', '.'], lemmas=['hyper-igm1', 'syndrome', 'be', 'a', 'rare', 'genetic', 'primary', 'immunodeficiency', 'disease', 'cause', 'by', 'mutation', 'of', 'the', 'cd40', 'ligand', 'gene', '.'], dep_parents=[2, 9, 9, 9, 9, 9, 9, 9, 0, 9, 0, 10, 0, 17, 17, 17, 12, 0], poses=['NN', 'NN', 'VBZ', 'DT', 'JJ', 'JJ', 'JJ', 'NN', 'NN', 'VBN', 'IN', 'NNS', 'IN', 'DT', 'NN', 'NN', 'NN', '.'], doc_id=0)>"
      ]
     },
     "execution_count": 105,
     "metadata": {},
     "output_type": "execute_result"
    }
   ],
   "source": [
    "rows[0]"
   ]
  },
  {
   "cell_type": "markdown",
   "metadata": {},
   "source": [
    "### Testing XML speeds\n",
    "\n",
    "How does it compare between:\n",
    "* parse to XML via this python code, store as string, then parse from string at runtime\n",
    "* just parse to XML at runtime via this python code?"
   ]
  },
  {
   "cell_type": "code",
   "execution_count": 106,
   "metadata": {
    "collapsed": false
   },
   "outputs": [
    {
     "name": "stdout",
     "output_type": "stream",
     "text": [
      "CPU times: user 8.92 ms, sys: 2.56 ms, total: 11.5 ms\n",
      "Wall time: 9.56 ms\n"
     ]
    }
   ],
   "source": [
    "# Map sentence to xmltree\n",
    "%time xts = map(corenlp_to_xmltree, rows)"
   ]
  },
  {
   "cell_type": "code",
   "execution_count": 107,
   "metadata": {
    "collapsed": false
   },
   "outputs": [
    {
     "name": "stdout",
     "output_type": "stream",
     "text": [
      "CPU times: user 433 µs, sys: 326 µs, total: 759 µs\n",
      "Wall time: 1.21 ms\n"
     ]
    }
   ],
   "source": [
    "# Pre-process to xml string\n",
    "xmls = [xt.to_str() for xt in map(corenlp_to_xmltree, rows)]\n",
    "\n",
    "# Parse @ runtime using lxml\n",
    "%time roots = map(et.fromstring, xmls)"
   ]
  },
  {
   "cell_type": "markdown",
   "metadata": {},
   "source": [
    "## Simple demo: Generating DDLib features\n",
    "\n",
    "As a first simple demo let's generate the features generated by [ddlib](http://deepdive.stanford.edu/doc/basics/gen_feats.html).\n",
    "\n",
    "**_Note there are some noticeable differences stemming from using a dep tree representation at base; but a simple linear representation of the sentence could be used too, as in DDLib_**\n",
    "\n",
    "First, let's load a few sample sentences and convert one of them to XML format for testing; we'll also load the feature templates library, and also tag some candidates (crudely for now) to play around with:"
   ]
  },
  {
   "cell_type": "code",
   "execution_count": 110,
   "metadata": {
    "collapsed": false
   },
   "outputs": [
    {
     "data": {
      "text/html": [
       "<style>\n",
       ".node {\n",
       "  cursor: pointer;\n",
       "}\n",
       "\n",
       ".node circle {\n",
       "  fill: #fff;\n",
       "  stroke: steelblue;\n",
       "  stroke-width: 3px;\n",
       "}\n",
       "\n",
       ".node text {\n",
       "  font: 12px sans-serif;\n",
       "}\n",
       "\n",
       ".edge {\n",
       "  fill: none;\n",
       "  stroke: #ccc;\n",
       "  stroke-width: 2px;\n",
       "  cursor: pointer;\n",
       "}\n",
       "\n",
       ".highlight {\n",
       "  stroke: red;\n",
       "  stroke-width: 3px;\n",
       "}\n",
       "</style>\n",
       "\n",
       "<!--Provide the canvas id via python string formatting here--!>\n",
       "<div id=\"tree-chart-6391770092561218128\"></div>\n"
      ]
     },
     "metadata": {},
     "output_type": "display_data"
    },
    {
     "data": {
      "application/javascript": [
       "$.getScript(\"http://d3js.org/d3.v3.min.js\", function () {\n",
       "// See http://bl.ocks.org/d3noob/8375092\n",
       "// Two vars need to be provided via python string formatting: the tree, and the canvas id\n",
       "\n",
       "// JSON tree\n",
       "var root = {\"attrib\": {\"word\": \"disorder\", \"ner\": \"O\", \"pos\": \"NN\", \"char_idx\": \"80\", \"lemma\": \"disorder\", \"word_idx\": \"11\", \"dep_parent\": \"0\"}, \"children\": [{\"attrib\": {\"word\": \"disease\", \"dep_parent\": \"12\", \"pos\": \"NN\", \"char_idx\": \"37\", \"lemma\": \"disease\", \"word_idx\": \"4\", \"dep_path\": \"nsubj\", \"ner\": \"O\"}, \"children\": [{\"attrib\": {\"word\": \"Autosomal\", \"dep_parent\": \"5\", \"pos\": \"JJ\", \"char_idx\": \"0\", \"lemma\": \"autosomal\", \"word_idx\": \"0\", \"dep_path\": \"amod\", \"ner\": \"O\"}, \"children\": []}, {\"attrib\": {\"word\": \"dominant\", \"dep_parent\": \"5\", \"pos\": \"JJ\", \"char_idx\": \"10\", \"lemma\": \"dominant\", \"word_idx\": \"1\", \"dep_path\": \"amod\", \"ner\": \"O\"}, \"children\": []}, {\"attrib\": {\"word\": \"polycystic\", \"dep_parent\": \"5\", \"pos\": \"JJ\", \"char_idx\": \"19\", \"lemma\": \"polycystic\", \"word_idx\": \"2\", \"dep_path\": \"amod\", \"ner\": \"O\"}, \"children\": []}, {\"attrib\": {\"word\": \"kidney\", \"dep_parent\": \"5\", \"pos\": \"NN\", \"char_idx\": \"30\", \"lemma\": \"kidney\", \"word_idx\": \"3\", \"dep_path\": \"nn\", \"ner\": \"O\"}, \"children\": []}]}, {\"attrib\": {\"word\": \"is\", \"dep_parent\": \"12\", \"pos\": \"VBZ\", \"char_idx\": \"45\", \"lemma\": \"be\", \"word_idx\": \"5\", \"dep_path\": \"cop\", \"ner\": \"O\"}, \"children\": []}, {\"attrib\": {\"word\": \"the\", \"dep_parent\": \"12\", \"pos\": \"DT\", \"char_idx\": \"48\", \"lemma\": \"the\", \"word_idx\": \"6\", \"dep_path\": \"det\", \"ner\": \"O\"}, \"children\": []}, {\"attrib\": {\"word\": \"common\", \"dep_parent\": \"12\", \"pos\": \"JJ\", \"char_idx\": \"57\", \"lemma\": \"common\", \"word_idx\": \"8\", \"dep_path\": \"amod\", \"ner\": \"O\"}, \"children\": [{\"attrib\": {\"word\": \"most\", \"dep_parent\": \"9\", \"pos\": \"RBS\", \"char_idx\": \"52\", \"lemma\": \"most\", \"word_idx\": \"7\", \"dep_path\": \"advmod\", \"ner\": \"O\"}, \"children\": []}]}, {\"attrib\": {\"word\": \"human\", \"dep_parent\": \"12\", \"pos\": \"JJ\", \"char_idx\": \"64\", \"lemma\": \"human\", \"word_idx\": \"9\", \"dep_path\": \"amod\", \"ner\": \"O\"}, \"children\": []}, {\"attrib\": {\"word\": \"monogenic\", \"dep_parent\": \"12\", \"pos\": \"JJ\", \"char_idx\": \"70\", \"lemma\": \"monogenic\", \"word_idx\": \"10\", \"dep_path\": \"amod\", \"ner\": \"O\"}, \"children\": []}, {\"attrib\": {\"word\": \"caused\", \"dep_parent\": \"12\", \"pos\": \"VBN\", \"char_idx\": \"96\", \"lemma\": \"cause\", \"word_idx\": \"14\", \"dep_path\": \"conj_and\", \"ner\": \"O\"}, \"children\": [{\"attrib\": {\"word\": \"is\", \"dep_parent\": \"15\", \"pos\": \"VBZ\", \"char_idx\": \"93\", \"lemma\": \"be\", \"word_idx\": \"13\", \"dep_path\": \"auxpass\", \"ner\": \"O\"}, \"children\": []}, {\"attrib\": {\"word\": \"mutations\", \"dep_parent\": \"15\", \"pos\": \"NNS\", \"char_idx\": \"106\", \"lemma\": \"mutation\", \"word_idx\": \"16\", \"dep_path\": \"agent\", \"ner\": \"O\"}, \"children\": [{\"attrib\": {\"word\": \"PKD1\", \"dep_parent\": \"17\", \"pos\": \"NN\", \"char_idx\": \"123\", \"lemma\": \"pkd1\", \"word_idx\": \"19\", \"dep_path\": \"prep_in\", \"ner\": \"O\"}, \"children\": [{\"attrib\": {\"word\": \"the\", \"dep_parent\": \"20\", \"pos\": \"DT\", \"char_idx\": \"119\", \"lemma\": \"the\", \"word_idx\": \"18\", \"dep_path\": \"dep\", \"ner\": \"O\"}, \"children\": []}, {\"attrib\": {\"word\": \"PKD2\", \"dep_parent\": \"20\", \"pos\": \"NN\", \"char_idx\": \"131\", \"lemma\": \"pkd2\", \"word_idx\": \"21\", \"dep_path\": \"conj_or\", \"ner\": \"O\"}, \"children\": []}, {\"attrib\": {\"word\": \"genes\", \"dep_parent\": \"20\", \"pos\": \"NNS\", \"char_idx\": \"136\", \"lemma\": \"gene\", \"word_idx\": \"22\", \"dep_path\": \"dep\", \"ner\": \"O\"}, \"children\": []}]}]}]}]};\n",
       "\n",
       "// Constants\n",
       "var margin = {top: 20, right: 20, bottom: 20, left: 20},\n",
       "width = 800 - margin.left - margin.right,\n",
       "height = 250 - margin.top - margin.bottom,\n",
       "R = 5;\n",
       "\n",
       "// Create the d3 tree object\n",
       "var tree = d3.layout.tree()\n",
       "  .size([width, height]);\n",
       "\n",
       "// Create the svg canvas\n",
       "var svg = d3.select(\"#tree-chart-6391770092561218128\")\n",
       "  .append(\"svg\")\n",
       "  .attr(\"width\", width + margin.left + margin.right)\n",
       "  .attr(\"height\", height + margin.top + margin.bottom)\n",
       "  .append(\"g\")\n",
       "  .attr(\"transform\", \"translate(\" + margin.left + \",\" + margin.top + \")\");\n",
       "\n",
       "function renderTree() {\n",
       "  var nodes = tree.nodes(root),\n",
       "  edges = tree.links(nodes);\n",
       "\n",
       "  // Place the nodes\n",
       "  var nodeGroups = svg.selectAll(\"g.node\")\n",
       "    .data(nodes)\n",
       "    .enter().append(\"g\")\n",
       "    .attr(\"class\", \"node\")\n",
       "    .attr(\"transform\", function(d) { return \"translate(\" + d.x + \",\" + d.y + \")\"; });\n",
       "       \n",
       "  // Append circles\n",
       "  nodeGroups.append(\"circle\")\n",
       "    .on(\"click\", function() {\n",
       "      d3.select(this).classed(\"highlight\", !d3.select(this).classed(\"highlight\")); })\n",
       "    .attr(\"r\", R);\n",
       "     \n",
       "  // Append the actual word\n",
       "  nodeGroups.append(\"text\")\n",
       "    .text(function(d) { return d.attrib.word; })\n",
       "    .attr(\"text-anchor\", function(d) { \n",
       "      return d.children && d.children.length > 0 ? \"start\" : \"middle\"; })\n",
       "    .attr(\"dx\", function(d) { \n",
       "      return d.children && d.children.length > 0 ? R + 3 : 0; })\n",
       "    .attr(\"dy\", function(d) { \n",
       "      return d.children && d.children.length > 0 ? 0 : 3*R + 3; });\n",
       "\n",
       "  // Place the edges\n",
       "  var edgePaths = svg.selectAll(\"path\")\n",
       "    .data(edges)\n",
       "    .enter().append(\"path\")\n",
       "    .attr(\"class\", \"edge\")\n",
       "    .on(\"click\", function() {\n",
       "      d3.select(this).classed(\"highlight\", !d3.select(this).classed(\"highlight\")); })\n",
       "    .attr(\"d\", d3.svg.diagonal());\n",
       "}\n",
       "\n",
       "renderTree();\n",
       "});\n"
      ]
     },
     "metadata": {},
     "output_type": "display_data"
    }
   ],
   "source": [
    "xt = corenlp_to_xmltree(rows[1], prune_root=True)\n",
    "xt.render_tree()\n",
    "root = xt.root"
   ]
  },
  {
   "cell_type": "code",
   "execution_count": 124,
   "metadata": {
    "collapsed": false
   },
   "outputs": [
    {
     "name": "stdout",
     "output_type": "stream",
     "text": [
      "<Ngrams:lemma:FILTER-BY(pos=VB):BETWEEN-MENTION-and-MENTION, xpath=\"//*[{0}][1]/ancestor-or-self::*[count(. | //*[{1}][1]/ancestor-or-self::*) = count(//*[{1}][1]/ancestor-or-self::*)][1]/descendant-or-self::*[(count(.//*[{0}]) = count(//*[{0}])) or (count(.//*[{1}]) = count(//*[{1}]))][starts-with(@pos, 'VB')]\">\n",
      "LEMMA:FILTER-BY(pos=VB):BETWEEN-MENTION-and-MENTION[cause]\n"
     ]
    }
   ],
   "source": [
    "p1 = [0,1,2,3,4]\n",
    "g1 = [19]\n",
    "g2 = [21]\n",
    "ft = Ngrams(Filter(Between(Mention(0), Mention(1)), 'pos', 'VB'), 'lemma', 1)\n",
    "print ft\n",
    "ft.print_apply(root, [p1, g2], 'word_idx')"
   ]
  },
  {
   "cell_type": "code",
   "execution_count": 125,
   "metadata": {
    "collapsed": false
   },
   "outputs": [
    {
     "name": "stdout",
     "output_type": "stream",
     "text": [
      "WORD:BETWEEN-MENTION-and-MENTION[disorder_caused_mutations_PKD1]\n",
      "LEMMA:BETWEEN-MENTION-and-MENTION[disorder_cause_mutation_pkd1]\n",
      "POS:BETWEEN-MENTION-and-MENTION[NN_VBN_NNS_NN]\n",
      "NER:BETWEEN-MENTION-and-MENTION[O_O_O_O]\n",
      "WORD:BETWEEN-MENTION-and-MENTION[disorder_caused_mutations]\n",
      "WORD:BETWEEN-MENTION-and-MENTION[caused_mutations_PKD1]\n",
      "LEMMA:BETWEEN-MENTION-and-MENTION[disorder_cause_mutation]\n",
      "LEMMA:BETWEEN-MENTION-and-MENTION[cause_mutation_pkd1]\n",
      "POS:BETWEEN-MENTION-and-MENTION[NN_VBN_NNS]\n",
      "POS:BETWEEN-MENTION-and-MENTION[VBN_NNS_NN]\n",
      "NER:BETWEEN-MENTION-and-MENTION[O_O_O]\n",
      "NER:BETWEEN-MENTION-and-MENTION[O_O_O]\n",
      "LEMMA:FILTER-BY(pos=VB):BETWEEN-MENTION-and-MENTION[cause]\n",
      "WORD:RIGHT-OF-MENTION[is]\n",
      "WORD:RIGHT-OF-MENTION[is_the]\n",
      "WORD:RIGHT-OF-MENTION[is_the_common]\n",
      "LEMMA:RIGHT-OF-MENTION[be]\n",
      "LEMMA:RIGHT-OF-MENTION[be_the]\n",
      "LEMMA:RIGHT-OF-MENTION[be_the_common]\n",
      "POS:RIGHT-OF-MENTION[VBZ]\n",
      "POS:RIGHT-OF-MENTION[VBZ_DT]\n",
      "POS:RIGHT-OF-MENTION[VBZ_DT_JJ]\n",
      "NER:RIGHT-OF-MENTION[O]\n",
      "NER:RIGHT-OF-MENTION[O_O]\n",
      "NER:RIGHT-OF-MENTION[O_O_O]\n",
      "WORD:RIGHT-OF-MENTION[genes]\n",
      "WORD:LEFT-OF-MENTION[the]\n",
      "WORD:RIGHT-OF-MENTION[genes]+WORD:LEFT-OF-MENTION[the]\n",
      "LEMMA:RIGHT-OF-MENTION[gene]\n",
      "LEMMA:LEFT-OF-MENTION[the]\n",
      "LEMMA:RIGHT-OF-MENTION[gene]+LEMMA:LEFT-OF-MENTION[the]\n",
      "POS:RIGHT-OF-MENTION[NNS]\n",
      "POS:LEFT-OF-MENTION[DT]\n",
      "POS:RIGHT-OF-MENTION[NNS]+POS:LEFT-OF-MENTION[DT]\n",
      "NER:RIGHT-OF-MENTION[O]\n",
      "NER:LEFT-OF-MENTION[O]\n",
      "NER:RIGHT-OF-MENTION[O]+NER:LEFT-OF-MENTION[O]\n"
     ]
    }
   ],
   "source": [
    "for feat in get_relation_features(root, p1, g2):\n",
    "    print feat"
   ]
  },
  {
   "cell_type": "markdown",
   "metadata": {},
   "source": [
    "### Table example"
   ]
  },
  {
   "cell_type": "code",
   "execution_count": 126,
   "metadata": {
    "collapsed": false
   },
   "outputs": [
    {
     "data": {
      "text/html": [
       "\n",
       "<div class=\"table-wrapper\">\n",
       "    <h3>Causal genomic relationships</h3>\n",
       "    <table>\n",
       "        <tr><th>Gene</th><th>Variant</th><th>Phenotype</th></tr>\n",
       "        <tr><td>ABC</td><td><i>AG34</i></td><td>Headaches during defecation</td></tr>\n",
       "        <tr><td>BDF</td><td><i>CT2</i></td><td>Defecation during headaches</td></tr>\n",
       "        <tr><td>XYG</td><td><i>AT456</i></td><td>Defecasomnia</td></tr>\n",
       "    </table>\n",
       "</div>\n"
      ]
     },
     "metadata": {},
     "output_type": "display_data"
    }
   ],
   "source": [
    "# Some wishful thinking...\n",
    "table_xml = \"\"\"\n",
    "<div class=\"table-wrapper\">\n",
    "    <h3>Causal genomic relationships</h3>\n",
    "    <table>\n",
    "        <tr><th>Gene</th><th>Variant</th><th>Phenotype</th></tr>\n",
    "        <tr><td>ABC</td><td><i>AG34</i></td><td>Headaches during defecation</td></tr>\n",
    "        <tr><td>BDF</td><td><i>CT2</i></td><td>Defecation during headaches</td></tr>\n",
    "        <tr><td>XYG</td><td><i>AT456</i></td><td>Defecasomnia</td></tr>\n",
    "    </table>\n",
    "</div>\n",
    "\"\"\"\n",
    "from IPython.core.display import display_html, HTML\n",
    "display_html(HTML(table_xml))"
   ]
  },
  {
   "cell_type": "code",
   "execution_count": null,
   "metadata": {
    "collapsed": false
   },
   "outputs": [],
   "source": [
    "tt = TableTree(table_xml)"
   ]
  },
  {
   "cell_type": "code",
   "execution_count": null,
   "metadata": {
    "collapsed": false
   },
   "outputs": [],
   "source": [
    "tt.to_xml_str()"
   ]
  },
  {
   "cell_type": "code",
   "execution_count": null,
   "metadata": {
    "collapsed": false
   },
   "outputs": [],
   "source": [
    "tt.root"
   ]
  }
 ],
 "metadata": {
  "kernelspec": {
   "display_name": "Python 2",
   "language": "python",
   "name": "python2"
  },
  "language_info": {
   "codemirror_mode": {
    "name": "ipython",
    "version": 2
   },
   "file_extension": ".py",
   "mimetype": "text/x-python",
   "name": "python",
   "nbconvert_exporter": "python",
   "pygments_lexer": "ipython2",
   "version": "2.7.10"
  }
 },
 "nbformat": 4,
 "nbformat_minor": 0
}
