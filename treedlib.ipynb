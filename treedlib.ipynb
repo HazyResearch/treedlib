{
 "cells": [
  {
   "cell_type": "markdown",
   "metadata": {},
   "source": [
    "# TreeDLib"
   ]
  },
  {
   "cell_type": "code",
   "execution_count": 122,
   "metadata": {
    "collapsed": false
   },
   "outputs": [
    {
     "name": "stdout",
     "output_type": "stream",
     "text": [
      "The autoreload extension is already loaded. To reload it, use:\n",
      "  %reload_ext autoreload\n",
      "The sql extension is already loaded. To reload it, use:\n",
      "  %reload_ext sql\n"
     ]
    }
   ],
   "source": [
    "%load_ext autoreload\n",
    "%autoreload 2\n",
    "%load_ext sql\n",
    "#from treedlib import *\n",
    "# Note: reloading for submodules doesn't work, so we load directly here\n",
    "from treedlib.util import *\n",
    "from treedlib.structs import *\n",
    "from treedlib.templates import *\n",
    "from treedlib.features import *\n",
    "import lxml.etree as et"
   ]
  },
  {
   "cell_type": "markdown",
   "metadata": {},
   "source": [
    "We define three classes of operators:\n",
    "* _NodeSets:_ $S : 2^T \\mapsto 2^T$\n",
    "* _Indicators:_ $I : 2^T \\mapsto \\{0,1\\}^F$\n",
    "* _Combinators:_ $C : \\{0,1\\}^F \\times \\{0,1\\}^F \\mapsto \\{0,1\\}^F$\n",
    "\n",
    "where $T$ is a given input tree, and $F$ is the dimension of the feature space."
   ]
  },
  {
   "cell_type": "markdown",
   "metadata": {},
   "source": [
    "# Genomics Debugging Pipeline\n",
    "\n",
    "* Fix this!\n",
    "* _Features to add:_\n",
    "    * modifiers of VBs in between\n",
    "    * candidates in between?\n",
    "    * Better way to do siblings, when siblings have children...?\n",
    "        * LeftAll / RightAll\n",
    "        * Also, get unigrams, etc.\n",
    "        * **Use wildcard, e.g. \"ABC now causes\" --> WORD:LEFT-OF-MENTION[?_causes]**?\n",
    "    * Modifiers before e.g. \"We investigated whether...\" / NEGATIONS (see Johannes's email / list)\n",
    "    * Handle negation words explicitly?"
   ]
  },
  {
   "cell_type": "code",
   "execution_count": 145,
   "metadata": {
    "collapsed": true
   },
   "outputs": [],
   "source": [
    "ROOT = '/lfs/raiders7/hdd/ajratner/dd-genomics/alex-results/'\n",
    "false_negs = []\n",
    "fn_section = False\n",
    "with open(ROOT + '01_29_16/stats_causation_1600.tsv', 'rb') as f:\n",
    "    for line in f:\n",
    "        if fn_section:\n",
    "            false_negs.append('_'.join(map(lambda x : x[0].upper() + x[1:], line.strip().split('_'))))\n",
    "        elif line.strip() == \"False Negatives:\":\n",
    "            fn_section = True"
   ]
  },
  {
   "cell_type": "code",
   "execution_count": 204,
   "metadata": {
    "collapsed": false
   },
   "outputs": [
    {
     "data": {
      "text/plain": [
       "'24312213_Body.0_110_66_24312213_Body.0_110_73'"
      ]
     },
     "execution_count": 204,
     "metadata": {},
     "output_type": "execute_result"
    }
   ],
   "source": [
    "relation_id = false_negs[19]\n",
    "relation_id"
   ]
  },
  {
   "cell_type": "code",
   "execution_count": 205,
   "metadata": {
    "collapsed": false,
    "scrolled": false
   },
   "outputs": [
    {
     "name": "stdout",
     "output_type": "stream",
     "text": [
      "1 rows affected.\n"
     ]
    },
    {
     "data": {
      "text/html": [
       "<style>\n",
       ".node {\n",
       "  cursor: pointer;\n",
       "}\n",
       "\n",
       ".node circle {\n",
       "  fill: #fff;\n",
       "  stroke: steelblue;\n",
       "  stroke-width: 3px;\n",
       "}\n",
       "\n",
       ".node text {\n",
       "  font: 12px sans-serif;\n",
       "}\n",
       "\n",
       ".edge {\n",
       "  fill: none;\n",
       "  stroke: #ccc;\n",
       "  stroke-width: 2px;\n",
       "  cursor: pointer;\n",
       "}\n",
       "\n",
       ".highlight {\n",
       "  stroke: red;\n",
       "  stroke-width: 3px;\n",
       "}\n",
       "</style>\n",
       "\n",
       "<!--Provide the canvas id (twice) and the words via python string formatting here--!>\n",
       "<div id=\"tree-chart-3605903992582686805\"></div>\n",
       "<div id=\"raw-seq-3605903992582686805\">\n",
       "<span class=\"word-3605903992582686805-0\">On</span> <span class=\"word-3605903992582686805-1\">the</span> <span class=\"word-3605903992582686805-2\">other</span> <span class=\"word-3605903992582686805-3\">hand</span> <span class=\"word-3605903992582686805-4\">,</span> <span class=\"word-3605903992582686805-5\">two</span> <span class=\"word-3605903992582686805-6\">different</span> <span class=\"word-3605903992582686805-7\">gene</span> <span class=\"word-3605903992582686805-8\">mutations</span> <span class=\"word-3605903992582686805-9\">could</span> <span class=\"word-3605903992582686805-10\">influence</span> <span class=\"word-3605903992582686805-11\">each</span> <span class=\"word-3605903992582686805-12\">other</span> <span class=\"word-3605903992582686805-13\">and</span> <span class=\"word-3605903992582686805-14\">result</span> <span class=\"word-3605903992582686805-15\">in</span> <span class=\"word-3605903992582686805-16\">one</span> <span class=\"word-3605903992582686805-17\">disease</span> <span class=\"word-3605903992582686805-18\">:</span> <span class=\"word-3605903992582686805-19\">for</span> <span class=\"word-3605903992582686805-20\">example</span> <span class=\"word-3605903992582686805-21\">,</span> <span class=\"word-3605903992582686805-22\">_</span> <span class=\"word-3605903992582686805-23\">Desmoglein-2</span> <span class=\"word-3605903992582686805-24\">_</span> <span class=\"word-3605903992582686805-25\">and</span> <span class=\"word-3605903992582686805-26\">_</span> <span class=\"word-3605903992582686805-27\">Desmocollin-2</span> <span class=\"word-3605903992582686805-28\">_</span> <span class=\"word-3605903992582686805-29\">mutations</span> <span class=\"word-3605903992582686805-30\">have</span> <span class=\"word-3605903992582686805-31\">been</span> <span class=\"word-3605903992582686805-32\">reported</span> <span class=\"word-3605903992582686805-33\">to</span> <span class=\"word-3605903992582686805-34\">cause</span> <span class=\"word-3605903992582686805-35\">arrhythmogenic</span> <span class=\"word-3605903992582686805-36\">right</span> <span class=\"word-3605903992582686805-37\">ventricular</span> <span class=\"word-3605903992582686805-38\">dysplasia/cardiomyopathy</span> <span class=\"word-3605903992582686805-39\">;</span> <span class=\"word-3605903992582686805-40\">a</span> <span class=\"word-3605903992582686805-41\">_</span> <span class=\"word-3605903992582686805-42\">OGG1</span> <span class=\"word-3605903992582686805-43\">_</span> <span class=\"word-3605903992582686805-44\">mutation</span> <span class=\"word-3605903992582686805-45\">in</span> <span class=\"word-3605903992582686805-46\">combination</span> <span class=\"word-3605903992582686805-47\">with</span> <span class=\"word-3605903992582686805-48\">a</span> <span class=\"word-3605903992582686805-49\">_</span> <span class=\"word-3605903992582686805-50\">MUTYH</span> <span class=\"word-3605903992582686805-51\">_</span> <span class=\"word-3605903992582686805-52\">mutation</span> <span class=\"word-3605903992582686805-53\">reportedly</span> <span class=\"word-3605903992582686805-54\">led</span> <span class=\"word-3605903992582686805-55\">to</span> <span class=\"word-3605903992582686805-56\">hereditary</span> <span class=\"word-3605903992582686805-57\">colorectal</span> <span class=\"word-3605903992582686805-58\">cancer</span> <span class=\"word-3605903992582686805-59\">;</span> <span class=\"word-3605903992582686805-60\">and</span> <span class=\"word-3605903992582686805-61\">_</span> <span class=\"word-3605903992582686805-62\">NEK1</span> <span class=\"word-3605903992582686805-63\">_</span> <span class=\"word-3605903992582686805-64\">and</span> <span class=\"word-3605903992582686805-65\">_</span> <span class=\"word-3605903992582686805-66\">DYNC2H1</span> <span class=\"word-3605903992582686805-67\">_</span> <span class=\"word-3605903992582686805-68\">mutations</span> <span class=\"word-3605903992582686805-69\">resulted</span> <span class=\"word-3605903992582686805-70\">in</span> <span class=\"word-3605903992582686805-71\">short</span> <span class=\"word-3605903992582686805-72\">rib</span> <span class=\"word-3605903992582686805-73\">polydactyly</span> <span class=\"word-3605903992582686805-74\">,</span> <span class=\"word-3605903992582686805-75\">Majewski</span> <span class=\"word-3605903992582686805-76\">type</span> <span class=\"word-3605903992582686805-77\">.</span>\n",
       "</div>\n"
      ]
     },
     "metadata": {},
     "output_type": "display_data"
    },
    {
     "data": {
      "application/javascript": [
       "$.getScript(\"http://d3js.org/d3.v3.min.js\", function () {\n",
       "// See http://bl.ocks.org/d3noob/8375092\n",
       "// Three vars need to be provided via python string formatting:\n",
       "var chartId = \"3605903992582686805\";\n",
       "var root = {\"attrib\": {\"word\": \"influence\", \"dep_parent\": \"0\", \"dep_label\": \"\", \"pos\": \"VB\", \"lemma\": \"influence\", \"word_idx\": \"10\", \"ner\": \"O\"}, \"children\": [{\"attrib\": {\"word\": \"hand\", \"dep_parent\": \"11\", \"dep_label\": \"prep_on\", \"pos\": \"NN\", \"lemma\": \"hand\", \"word_idx\": \"3\", \"ner\": \"O\"}, \"children\": [{\"attrib\": {\"word\": \"the\", \"dep_parent\": \"4\", \"dep_label\": \"det\", \"pos\": \"DT\", \"lemma\": \"the\", \"word_idx\": \"1\", \"ner\": \"O\"}, \"children\": []}, {\"attrib\": {\"word\": \"other\", \"dep_parent\": \"4\", \"dep_label\": \"amod\", \"pos\": \"JJ\", \"lemma\": \"other\", \"word_idx\": \"2\", \"ner\": \"O\"}, \"children\": []}]}, {\"attrib\": {\"word\": \"mutations\", \"dep_parent\": \"11\", \"dep_label\": \"nsubj\", \"pos\": \"NNS\", \"lemma\": \"mutation\", \"word_idx\": \"8\", \"ner\": \"O\"}, \"children\": [{\"attrib\": {\"word\": \"two\", \"dep_parent\": \"9\", \"dep_label\": \"num\", \"pos\": \"CD\", \"lemma\": \"two\", \"word_idx\": \"5\", \"ner\": \"NUMBER\"}, \"children\": []}, {\"attrib\": {\"word\": \"different\", \"dep_parent\": \"9\", \"dep_label\": \"amod\", \"pos\": \"JJ\", \"lemma\": \"different\", \"word_idx\": \"6\", \"ner\": \"O\"}, \"children\": []}, {\"attrib\": {\"word\": \"gene\", \"dep_parent\": \"9\", \"dep_label\": \"nn\", \"pos\": \"NN\", \"lemma\": \"gene\", \"word_idx\": \"7\", \"ner\": \"O\"}, \"children\": []}]}, {\"attrib\": {\"word\": \"could\", \"dep_parent\": \"11\", \"dep_label\": \"aux\", \"pos\": \"MD\", \"lemma\": \"could\", \"word_idx\": \"9\", \"ner\": \"O\"}, \"children\": []}, {\"attrib\": {\"word\": \"other\", \"dep_parent\": \"11\", \"dep_label\": \"dobj\", \"pos\": \"JJ\", \"lemma\": \"other\", \"word_idx\": \"12\", \"ner\": \"O\"}, \"children\": [{\"attrib\": {\"word\": \"each\", \"dep_parent\": \"13\", \"dep_label\": \"det\", \"pos\": \"DT\", \"lemma\": \"each\", \"word_idx\": \"11\", \"ner\": \"O\"}, \"children\": []}]}, {\"attrib\": {\"word\": \"result\", \"dep_parent\": \"11\", \"dep_label\": \"conj_and\", \"pos\": \"VBP\", \"lemma\": \"result\", \"word_idx\": \"14\", \"ner\": \"O\"}, \"children\": [{\"attrib\": {\"word\": \"disease\", \"dep_parent\": \"15\", \"dep_label\": \"prep_in\", \"pos\": \"NN\", \"lemma\": \"disease\", \"word_idx\": \"17\", \"ner\": \"O\"}, \"children\": [{\"attrib\": {\"word\": \"one\", \"dep_parent\": \"18\", \"dep_label\": \"num\", \"pos\": \"CD\", \"lemma\": \"one\", \"word_idx\": \"16\", \"ner\": \"NUMBER\"}, \"children\": []}]}]}, {\"attrib\": {\"word\": \"reported\", \"dep_parent\": \"11\", \"dep_label\": \"conj_and\", \"pos\": \"VBN\", \"lemma\": \"report\", \"word_idx\": \"32\", \"ner\": \"O\"}, \"children\": [{\"attrib\": {\"word\": \"example\", \"dep_parent\": \"33\", \"dep_label\": \"prep_for\", \"pos\": \"NN\", \"lemma\": \"example\", \"word_idx\": \"20\", \"ner\": \"O\"}, \"children\": []}, {\"attrib\": {\"word\": \"_\", \"dep_parent\": \"33\", \"dep_label\": \"nsubjpass\", \"pos\": \"NN\", \"lemma\": \"_\", \"word_idx\": \"24\", \"ner\": \"O\"}, \"children\": [{\"attrib\": {\"word\": \"_\", \"dep_parent\": \"25\", \"dep_label\": \"num\", \"pos\": \"CD\", \"lemma\": \"_\", \"word_idx\": \"22\", \"ner\": \"NUMBER\"}, \"children\": []}, {\"attrib\": {\"word\": \"Desmoglein-2\", \"dep_parent\": \"25\", \"dep_label\": \"nn\", \"pos\": \"NN\", \"lemma\": \"desmoglein-2\", \"word_idx\": \"23\", \"ner\": \"O\"}, \"children\": []}, {\"attrib\": {\"word\": \"mutations\", \"dep_parent\": \"25\", \"dep_label\": \"conj_and\", \"pos\": \"NNS\", \"lemma\": \"mutation\", \"word_idx\": \"29\", \"ner\": \"O\"}, \"children\": [{\"attrib\": {\"word\": \"_\", \"dep_parent\": \"30\", \"dep_label\": \"nn\", \"pos\": \"NN\", \"lemma\": \"_\", \"word_idx\": \"26\", \"ner\": \"O\"}, \"children\": []}, {\"attrib\": {\"word\": \"Desmocollin-2\", \"dep_parent\": \"30\", \"dep_label\": \"nn\", \"pos\": \"NN\", \"lemma\": \"desmocollin-2\", \"word_idx\": \"27\", \"ner\": \"O\"}, \"children\": []}, {\"attrib\": {\"word\": \"_\", \"dep_parent\": \"30\", \"dep_label\": \"nn\", \"pos\": \"NN\", \"lemma\": \"_\", \"word_idx\": \"28\", \"ner\": \"O\"}, \"children\": []}]}]}, {\"attrib\": {\"word\": \"have\", \"dep_parent\": \"33\", \"dep_label\": \"aux\", \"pos\": \"VBP\", \"lemma\": \"have\", \"word_idx\": \"30\", \"ner\": \"O\"}, \"children\": []}, {\"attrib\": {\"word\": \"been\", \"dep_parent\": \"33\", \"dep_label\": \"auxpass\", \"pos\": \"VBN\", \"lemma\": \"be\", \"word_idx\": \"31\", \"ner\": \"O\"}, \"children\": []}, {\"attrib\": {\"word\": \"cause\", \"dep_parent\": \"33\", \"dep_label\": \"xcomp\", \"pos\": \"VB\", \"lemma\": \"cause\", \"word_idx\": \"34\", \"ner\": \"O\"}, \"children\": [{\"attrib\": {\"word\": \"to\", \"dep_parent\": \"35\", \"dep_label\": \"aux\", \"pos\": \"TO\", \"lemma\": \"to\", \"word_idx\": \"33\", \"ner\": \"O\"}, \"children\": []}, {\"attrib\": {\"word\": \"dysplasia/cardiomyopathy\", \"dep_parent\": \"35\", \"dep_label\": \"dobj\", \"pos\": \"NN\", \"lemma\": \"dysplasia/cardiomyopathy\", \"word_idx\": \"38\", \"ner\": \"O\"}, \"children\": [{\"attrib\": {\"word\": \"arrhythmogenic\", \"dep_parent\": \"39\", \"dep_label\": \"amod\", \"pos\": \"JJ\", \"lemma\": \"arrhythmogenic\", \"word_idx\": \"35\", \"ner\": \"O\"}, \"children\": []}, {\"attrib\": {\"word\": \"right\", \"dep_parent\": \"39\", \"dep_label\": \"amod\", \"pos\": \"JJ\", \"lemma\": \"right\", \"word_idx\": \"36\", \"ner\": \"O\"}, \"children\": []}, {\"attrib\": {\"word\": \"ventricular\", \"dep_parent\": \"39\", \"dep_label\": \"amod\", \"pos\": \"JJ\", \"lemma\": \"ventricular\", \"word_idx\": \"37\", \"ner\": \"O\"}, \"children\": []}]}]}]}, {\"attrib\": {\"word\": \"mutation\", \"dep_parent\": \"11\", \"dep_label\": \"conj_and\", \"pos\": \"NN\", \"lemma\": \"mutation\", \"word_idx\": \"44\", \"ner\": \"O\"}, \"children\": [{\"attrib\": {\"word\": \"a\", \"dep_parent\": \"45\", \"dep_label\": \"det\", \"pos\": \"DT\", \"lemma\": \"a\", \"word_idx\": \"40\", \"ner\": \"O\"}, \"children\": []}, {\"attrib\": {\"word\": \"_\", \"dep_parent\": \"45\", \"dep_label\": \"nn\", \"pos\": \"NN\", \"lemma\": \"_\", \"word_idx\": \"41\", \"ner\": \"O\"}, \"children\": []}, {\"attrib\": {\"word\": \"OGG1\", \"dep_parent\": \"45\", \"dep_label\": \"nn\", \"pos\": \"NN\", \"lemma\": \"ogg1\", \"word_idx\": \"42\", \"ner\": \"O\"}, \"children\": []}, {\"attrib\": {\"word\": \"_\", \"dep_parent\": \"45\", \"dep_label\": \"nn\", \"pos\": \"NN\", \"lemma\": \"_\", \"word_idx\": \"43\", \"ner\": \"O\"}, \"children\": []}, {\"attrib\": {\"word\": \"combination\", \"dep_parent\": \"45\", \"dep_label\": \"prep_in\", \"pos\": \"NN\", \"lemma\": \"combination\", \"word_idx\": \"46\", \"ner\": \"O\"}, \"children\": [{\"attrib\": {\"word\": \"led\", \"dep_parent\": \"47\", \"dep_label\": \"rcmod\", \"pos\": \"VBD\", \"lemma\": \"lead\", \"word_idx\": \"54\", \"ner\": \"O\"}, \"children\": [{\"attrib\": {\"word\": \"with\", \"dep_parent\": \"55\", \"dep_label\": \"mark\", \"pos\": \"IN\", \"lemma\": \"with\", \"word_idx\": \"47\", \"ner\": \"O\"}, \"children\": []}, {\"attrib\": {\"word\": \"mutation\", \"dep_parent\": \"55\", \"dep_label\": \"nsubj\", \"pos\": \"NN\", \"lemma\": \"mutation\", \"word_idx\": \"52\", \"ner\": \"O\"}, \"children\": [{\"attrib\": {\"word\": \"a\", \"dep_parent\": \"53\", \"dep_label\": \"det\", \"pos\": \"DT\", \"lemma\": \"a\", \"word_idx\": \"48\", \"ner\": \"O\"}, \"children\": []}, {\"attrib\": {\"word\": \"_\", \"dep_parent\": \"53\", \"dep_label\": \"nn\", \"pos\": \"NN\", \"lemma\": \"_\", \"word_idx\": \"49\", \"ner\": \"O\"}, \"children\": []}, {\"attrib\": {\"word\": \"MUTYH\", \"dep_parent\": \"53\", \"dep_label\": \"nn\", \"pos\": \"NN\", \"lemma\": \"mutyh\", \"word_idx\": \"50\", \"ner\": \"O\"}, \"children\": []}, {\"attrib\": {\"word\": \"_\", \"dep_parent\": \"53\", \"dep_label\": \"nn\", \"pos\": \"NN\", \"lemma\": \"_\", \"word_idx\": \"51\", \"ner\": \"O\"}, \"children\": []}]}, {\"attrib\": {\"word\": \"reportedly\", \"dep_parent\": \"55\", \"dep_label\": \"advmod\", \"pos\": \"RB\", \"lemma\": \"reportedly\", \"word_idx\": \"53\", \"ner\": \"O\"}, \"children\": []}, {\"attrib\": {\"word\": \"cancer\", \"dep_parent\": \"55\", \"dep_label\": \"prep_to\", \"pos\": \"NN\", \"lemma\": \"cancer\", \"word_idx\": \"58\", \"ner\": \"O\"}, \"children\": [{\"attrib\": {\"word\": \"hereditary\", \"dep_parent\": \"59\", \"dep_label\": \"amod\", \"pos\": \"JJ\", \"lemma\": \"hereditary\", \"word_idx\": \"56\", \"ner\": \"O\"}, \"children\": []}, {\"attrib\": {\"word\": \"colorectal\", \"dep_parent\": \"59\", \"dep_label\": \"amod\", \"pos\": \"JJ\", \"lemma\": \"colorectal\", \"word_idx\": \"57\", \"ner\": \"O\"}, \"children\": []}]}]}]}]}, {\"attrib\": {\"word\": \"_\", \"dep_parent\": \"11\", \"dep_label\": \"conj_and\", \"pos\": \"VBP\", \"lemma\": \"_\", \"word_idx\": \"61\", \"ner\": \"O\"}, \"children\": [{\"attrib\": {\"word\": \"_\", \"dep_parent\": \"62\", \"dep_label\": \"nsubj\", \"pos\": \"NN\", \"lemma\": \"_\", \"word_idx\": \"63\", \"ner\": \"O\"}, \"children\": [{\"attrib\": {\"word\": \"NEK1\", \"dep_parent\": \"64\", \"dep_label\": \"nn\", \"pos\": \"NN\", \"lemma\": \"nek1\", \"word_idx\": \"62\", \"ner\": \"O\"}, \"children\": []}, {\"attrib\": {\"word\": \"mutations\", \"dep_parent\": \"64\", \"dep_label\": \"conj_and\", \"pos\": \"NNS\", \"lemma\": \"mutation\", \"word_idx\": \"68\", \"ner\": \"O\"}, \"children\": [{\"attrib\": {\"word\": \"_\", \"dep_parent\": \"69\", \"dep_label\": \"nn\", \"pos\": \"NN\", \"lemma\": \"_\", \"word_idx\": \"65\", \"ner\": \"O\"}, \"children\": []}, {\"attrib\": {\"word\": \"DYNC2H1\", \"dep_parent\": \"69\", \"dep_label\": \"nn\", \"pos\": \"NN\", \"lemma\": \"dync2h1\", \"word_idx\": \"66\", \"ner\": \"O\"}, \"children\": []}, {\"attrib\": {\"word\": \"_\", \"dep_parent\": \"69\", \"dep_label\": \"nn\", \"pos\": \"NN\", \"lemma\": \"_\", \"word_idx\": \"67\", \"ner\": \"O\"}, \"children\": []}]}]}, {\"attrib\": {\"word\": \"resulted\", \"dep_parent\": \"62\", \"dep_label\": \"dep\", \"pos\": \"VBD\", \"lemma\": \"result\", \"word_idx\": \"69\", \"ner\": \"O\"}, \"children\": [{\"attrib\": {\"word\": \"polydactyly\", \"dep_parent\": \"70\", \"dep_label\": \"prep_in\", \"pos\": \"NN\", \"lemma\": \"polydactyly\", \"word_idx\": \"73\", \"ner\": \"O\"}, \"children\": [{\"attrib\": {\"word\": \"short\", \"dep_parent\": \"74\", \"dep_label\": \"amod\", \"pos\": \"JJ\", \"lemma\": \"short\", \"word_idx\": \"71\", \"ner\": \"O\"}, \"children\": []}, {\"attrib\": {\"word\": \"rib\", \"dep_parent\": \"74\", \"dep_label\": \"nn\", \"pos\": \"NN\", \"lemma\": \"rib\", \"word_idx\": \"72\", \"ner\": \"O\"}, \"children\": []}, {\"attrib\": {\"word\": \"type\", \"dep_parent\": \"74\", \"dep_label\": \"appos\", \"pos\": \"NN\", \"lemma\": \"type\", \"word_idx\": \"76\", \"ner\": \"O\"}, \"children\": [{\"attrib\": {\"word\": \"Majewski\", \"dep_parent\": \"77\", \"dep_label\": \"nn\", \"pos\": \"NNP\", \"lemma\": \"Majewski\", \"word_idx\": \"75\", \"ner\": \"PERSON\"}, \"children\": []}]}]}]}]}]};\n",
       "var highlightIdxs = [[66], [73]];\n",
       "\n",
       "// Highlight words / nodes\n",
       "var COLORS = [\"#ff5c33\", \"#ffcc00\", \"#33cc33\", \"#3399ff\"];\n",
       "function highlightWords() {\n",
       "  for (var i=0; i < highlightIdxs.length; i++) {\n",
       "    var c = COLORS[i];\n",
       "    var idxs = highlightIdxs[i];\n",
       "    for (var j=0; j < idxs.length; j++) {\n",
       "      d3.selectAll(\".word-\"+chartId+\"-\"+idxs[j]).style(\"stroke\", c).style(\"background\", c);\n",
       "    }\n",
       "  }\n",
       "}\n",
       "\n",
       "// Constants\n",
       "var margin = {top: 20, right: 20, bottom: 20, left: 20},\n",
       "width = 800 - margin.left - margin.right,\n",
       "height = 350 - margin.top - margin.bottom,\n",
       "R = 5;\n",
       "\n",
       "// Create the d3 tree object\n",
       "var tree = d3.layout.tree()\n",
       "  .size([width, height]);\n",
       "\n",
       "// Create the svg canvas\n",
       "var svg = d3.select(\"#tree-chart-\" + chartId)\n",
       "  .append(\"svg\")\n",
       "  .attr(\"width\", width + margin.left + margin.right)\n",
       "  .attr(\"height\", height + margin.top + margin.bottom)\n",
       "  .append(\"g\")\n",
       "  .attr(\"transform\", \"translate(\" + margin.left + \",\" + margin.top + \")\");\n",
       "\n",
       "function renderTree() {\n",
       "  var nodes = tree.nodes(root),\n",
       "  edges = tree.links(nodes);\n",
       "\n",
       "  // Place the nodes\n",
       "  var nodeGroups = svg.selectAll(\"g.node\")\n",
       "    .data(nodes)\n",
       "    .enter().append(\"g\")\n",
       "    .attr(\"class\", \"node\")\n",
       "    .attr(\"transform\", function(d) { return \"translate(\" + d.x + \",\" + d.y + \")\"; });\n",
       "       \n",
       "  // Append circles\n",
       "  nodeGroups.append(\"circle\")\n",
       "    //.on(\"click\", function() {\n",
       "    //  d3.select(this).classed(\"highlight\", !d3.select(this).classed(\"highlight\")); })\n",
       "    .attr(\"r\", R)\n",
       "    .attr(\"class\", function(d) { return \"word-\"+chartId+\"-\"+d.attrib.word_idx; });\n",
       "     \n",
       "  // Append the actual word\n",
       "  nodeGroups.append(\"text\")\n",
       "    .text(function(d) { return d.attrib.word; })\n",
       "    .attr(\"text-anchor\", function(d) { \n",
       "      return d.children && d.children.length > 0 ? \"start\" : \"middle\"; })\n",
       "    .attr(\"dx\", function(d) { \n",
       "      return d.children && d.children.length > 0 ? R + 3 : 0; })\n",
       "    .attr(\"dy\", function(d) { \n",
       "      return d.children && d.children.length > 0 ? 0 : 3*R + 3; });\n",
       "\n",
       "  // Place the edges\n",
       "  var edgePaths = svg.selectAll(\"path\")\n",
       "    .data(edges)\n",
       "    .enter().append(\"path\")\n",
       "    .attr(\"class\", \"edge\")\n",
       "    .on(\"click\", function() {\n",
       "      d3.select(this).classed(\"highlight\", !d3.select(this).classed(\"highlight\")); })\n",
       "    .attr(\"d\", d3.svg.diagonal());\n",
       "}\n",
       "\n",
       "renderTree();\n",
       "highlightWords();\n",
       "});\n"
      ]
     },
     "metadata": {},
     "output_type": "display_data"
    }
   ],
   "source": [
    "# Connect to correct db\n",
    "%sql postgresql://ajratner@localhost:6432/genomics_ajratner\n",
    "\n",
    "# Getting the component IDs\n",
    "id = relation_id.split('_')\n",
    "doc_id = id[0]\n",
    "section_id = id[1][0].upper() + id[1][1:]\n",
    "sent_id = int(id[2])\n",
    "gidxs = map(int, relation_id.split(doc_id)[1].strip('_').split('_')[-1].split('-'))\n",
    "pidxs = map(int, relation_id.split(doc_id)[2].strip('_').split('_')[-1].split('-'))\n",
    "\n",
    "# Get sentence from db + convert to XMLTree\n",
    "res = %sql SELECT words, lemmas, poses, ners, dep_paths AS \"dep_labels\", dep_parents FROM sentences_input WHERE doc_id = :doc_id AND section_id = :section_id AND sent_id = :sent_id;\n",
    "rows = [dict((k, v.split('|^|')) for k,v in dict(row).iteritems()) for row in res]\n",
    "xts = map(corenlp_to_xmltree, rows)\n",
    "xt = xts[0]\n",
    "\n",
    "# Show XMLTree\n",
    "xt.render_tree(highlight=[gidxs, pidxs])\n",
    "\n",
    "# Print TreeDLib features\n",
    "#print_gen(get_relation_features(xt.root, gidxs, pidxs))"
   ]
  },
  {
   "cell_type": "code",
   "execution_count": 206,
   "metadata": {
    "collapsed": false,
    "scrolled": false
   },
   "outputs": [
    {
     "name": "stdout",
     "output_type": "stream",
     "text": [
      "21 rows affected.\n"
     ]
    },
    {
     "data": {
      "text/html": [
       "<table>\n",
       "    <tr>\n",
       "        <th>feature</th>\n",
       "        <th>weight</th>\n",
       "    </tr>\n",
       "    <tr>\n",
       "        <td>LEMMA:FILTER-BY(pos=NN):BETWEEN-MENTION-and-MENTION[mutation]</td>\n",
       "        <td>1.24007</td>\n",
       "    </tr>\n",
       "    <tr>\n",
       "        <td>LEMMA:FILTER-BY(pos=VB):BETWEEN-MENTION-and-MENTION[__result]</td>\n",
       "        <td>0.424519</td>\n",
       "    </tr>\n",
       "    <tr>\n",
       "        <td>DEP_LABEL|LEMMA:BETWEEN-MENTION-and-MENTION[None|__None|mutation]</td>\n",
       "        <td>0.293885</td>\n",
       "    </tr>\n",
       "    <tr>\n",
       "        <td>LEMMA:BETWEEN-MENTION-and-MENTION[__mutation]</td>\n",
       "        <td>0.293885</td>\n",
       "    </tr>\n",
       "    <tr>\n",
       "        <td>LEMMA:FILTER-BY(pos=NN):BETWEEN-MENTION-and-MENTION[__mutation]</td>\n",
       "        <td>0.219529</td>\n",
       "    </tr>\n",
       "    <tr>\n",
       "        <td>LEMMA:BETWEEN-MENTION-and-MENTION[__mutation_result]</td>\n",
       "        <td>0.181752</td>\n",
       "    </tr>\n",
       "    <tr>\n",
       "        <td>DEP_LABEL|LEMMA:BETWEEN-MENTION-and-MENTION[None|__None|mutation_None|result]</td>\n",
       "        <td>0.181752</td>\n",
       "    </tr>\n",
       "    <tr>\n",
       "        <td>DEP_LABEL|LEMMA:BETWEEN-MENTION-and-MENTION[None|__None|_]</td>\n",
       "        <td>0.114304</td>\n",
       "    </tr>\n",
       "    <tr>\n",
       "        <td>LEMMA:BETWEEN-MENTION-and-MENTION[___]</td>\n",
       "        <td>0.114139</td>\n",
       "    </tr>\n",
       "    <tr>\n",
       "        <td>DEP_LABEL|LEMMA:BETWEEN-MENTION-and-MENTION[None|__None|__None|mutation]</td>\n",
       "        <td>0.0025768</td>\n",
       "    </tr>\n",
       "    <tr>\n",
       "        <td>LEMMA:BETWEEN-MENTION-and-MENTION[____mutation]</td>\n",
       "        <td>0.0025768</td>\n",
       "    </tr>\n",
       "    <tr>\n",
       "        <td>DEP_LABEL|LEMMA:BETWEEN-MENTION-and-MENTION[None|__None|__None|mutation_None|result]</td>\n",
       "        <td>0.0</td>\n",
       "    </tr>\n",
       "    <tr>\n",
       "        <td>LEMMA:BETWEEN-MENTION-and-MENTION[____mutation_result]</td>\n",
       "        <td>0.0</td>\n",
       "    </tr>\n",
       "    <tr>\n",
       "        <td>LEMMA:LEFT-OF-MENTION[_]</td>\n",
       "        <td>-0.0842228</td>\n",
       "    </tr>\n",
       "    <tr>\n",
       "        <td>LEMMA:RIGHT-OF-MENTION[_]</td>\n",
       "        <td>-0.168602</td>\n",
       "    </tr>\n",
       "    <tr>\n",
       "        <td>LEMMA:PARENTS-OF-BETWEEN-MENTION-and-MENTION[influence]</td>\n",
       "        <td>-0.295546</td>\n",
       "    </tr>\n",
       "    <tr>\n",
       "        <td>LEMMA:BETWEEN-MENTION-and-MENTION[mutation_result]</td>\n",
       "        <td>-0.348677</td>\n",
       "    </tr>\n",
       "    <tr>\n",
       "        <td>DEP_LABEL|LEMMA:BETWEEN-MENTION-and-MENTION[None|mutation_None|result]</td>\n",
       "        <td>-0.348677</td>\n",
       "    </tr>\n",
       "    <tr>\n",
       "        <td>LEMMA:FILTER-BY(pos=VB):BETWEEN-MENTION-and-MENTION[_]</td>\n",
       "        <td>-0.583502</td>\n",
       "    </tr>\n",
       "    <tr>\n",
       "        <td>LEMMA:FILTER-BY(pos=NN):BETWEEN-MENTION-and-MENTION[_]</td>\n",
       "        <td>-0.62279</td>\n",
       "    </tr>\n",
       "    <tr>\n",
       "        <td>LEMMA:FILTER-BY(pos=VB):BETWEEN-MENTION-and-MENTION[result]</td>\n",
       "        <td>-0.834038</td>\n",
       "    </tr>\n",
       "</table>"
      ],
      "text/plain": [
       "[(u'LEMMA:FILTER-BY(pos=NN):BETWEEN-MENTION-and-MENTION[mutation]', 1.24007),\n",
       " (u'LEMMA:FILTER-BY(pos=VB):BETWEEN-MENTION-and-MENTION[__result]', 0.424519),\n",
       " (u'DEP_LABEL|LEMMA:BETWEEN-MENTION-and-MENTION[None|__None|mutation]', 0.293885),\n",
       " (u'LEMMA:BETWEEN-MENTION-and-MENTION[__mutation]', 0.293885),\n",
       " (u'LEMMA:FILTER-BY(pos=NN):BETWEEN-MENTION-and-MENTION[__mutation]', 0.219529),\n",
       " (u'LEMMA:BETWEEN-MENTION-and-MENTION[__mutation_result]', 0.181752),\n",
       " (u'DEP_LABEL|LEMMA:BETWEEN-MENTION-and-MENTION[None|__None|mutation_None|result]', 0.181752),\n",
       " (u'DEP_LABEL|LEMMA:BETWEEN-MENTION-and-MENTION[None|__None|_]', 0.114304),\n",
       " (u'LEMMA:BETWEEN-MENTION-and-MENTION[___]', 0.114139),\n",
       " (u'DEP_LABEL|LEMMA:BETWEEN-MENTION-and-MENTION[None|__None|__None|mutation]', 0.0025768),\n",
       " (u'LEMMA:BETWEEN-MENTION-and-MENTION[____mutation]', 0.0025768),\n",
       " (u'DEP_LABEL|LEMMA:BETWEEN-MENTION-and-MENTION[None|__None|__None|mutation_None|result]', 0.0),\n",
       " (u'LEMMA:BETWEEN-MENTION-and-MENTION[____mutation_result]', 0.0),\n",
       " (u'LEMMA:LEFT-OF-MENTION[_]', -0.0842228),\n",
       " (u'LEMMA:RIGHT-OF-MENTION[_]', -0.168602),\n",
       " (u'LEMMA:PARENTS-OF-BETWEEN-MENTION-and-MENTION[influence]', -0.295546),\n",
       " (u'LEMMA:BETWEEN-MENTION-and-MENTION[mutation_result]', -0.348677),\n",
       " (u'DEP_LABEL|LEMMA:BETWEEN-MENTION-and-MENTION[None|mutation_None|result]', -0.348677),\n",
       " (u'LEMMA:FILTER-BY(pos=VB):BETWEEN-MENTION-and-MENTION[_]', -0.583502),\n",
       " (u'LEMMA:FILTER-BY(pos=NN):BETWEEN-MENTION-and-MENTION[_]', -0.62279),\n",
       " (u'LEMMA:FILTER-BY(pos=VB):BETWEEN-MENTION-and-MENTION[result]', -0.834038)]"
      ]
     },
     "execution_count": 206,
     "metadata": {},
     "output_type": "execute_result"
    }
   ],
   "source": [
    "%%sql\n",
    "-- Get the features + weights for an example\n",
    "SELECT f.feature, w.weight\n",
    "FROM\n",
    "    genepheno_features f,\n",
    "    dd_inference_result_variables_mapped_weights w\n",
    "WHERE\n",
    "    f.relation_id = :relation_id\n",
    "    AND w.description = 'inf_istrue_genepheno_causation_inference--' || f.feature\n",
    "ORDER BY w.weight DESC;"
   ]
  },
  {
   "cell_type": "code",
   "execution_count": 207,
   "metadata": {
    "collapsed": false
   },
   "outputs": [
    {
     "data": {
      "text/plain": [
       "-0.21706619999999954"
      ]
     },
     "execution_count": 207,
     "metadata": {},
     "output_type": "execute_result"
    }
   ],
   "source": [
    "res = _\n",
    "sum(r[1] for r in res)"
   ]
  },
  {
   "cell_type": "code",
   "execution_count": 208,
   "metadata": {
    "collapsed": false
   },
   "outputs": [
    {
     "name": "stdout",
     "output_type": "stream",
     "text": [
      "1 rows affected.\n"
     ]
    },
    {
     "data": {
      "text/html": [
       "<table>\n",
       "    <tr>\n",
       "        <th>expectation</th>\n",
       "    </tr>\n",
       "    <tr>\n",
       "        <td>0.421</td>\n",
       "    </tr>\n",
       "</table>"
      ],
      "text/plain": [
       "[(0.421,)]"
      ]
     },
     "execution_count": 208,
     "metadata": {},
     "output_type": "execute_result"
    }
   ],
   "source": [
    "%sql SELECT expectation FROM genepheno_causation_inference_label_inference WHERE relation_id = :relation_id;"
   ]
  },
  {
   "cell_type": "markdown",
   "metadata": {},
   "source": [
    "### To investigate:\n",
    "1. Correlation with length of sentence? - **_No._**\n",
    "2. Low-MI words like '\\_', 'the', 'gene'?\n",
    "3. _[tdl] Include sequence patterns too?_\n",
    "\n",
    "### FNs / recall analysis notes\n",
    "\n",
    "* `10982191_Title.0_1_8_10982191_Title.0_1_21-22-23`:\n",
    "    * Shorter sentence\n",
    "    * neg. weight from \"gene\" in between... is this just super common?\n",
    "\n",
    "* `19353431_Abstract.0_2_12_19353431_Abstract.0_2_1`:\n",
    "    * Shorter sentence\n",
    "    * neg. weight from \"gene\" in between... is this just super common?\n",
    "\n",
    "* `23285148_Body.0_4_32_23285148_Body.0_4_3`:\n",
    "    * **Incorrectly labeled: should be false**\n",
    "\n",
    "* `23316347_Body.0_202_25_23316347_Body.0_202_54`:\n",
    "    * _Longer sentence..._\n",
    "    * **BUG: Missing a left-of-mention (G: \"mutation\")!**\n",
    "    * neg. weight from \"\\_\" in betweeen\n",
    "    * **BUG: left-of-mention[delay] happens twice!**\n",
    "    * A lot of negative weight from \"result\"...?\n",
    "    \n",
    "* `21304894_Body.0_110_4_21304894_Body.0_110_9-10-11`:\n",
    "    * Shorter sentence\n",
    "    * A lot of negative weight from \"result\"...?\n",
    "        * **Is this just from a low-quality DSR?**\n",
    "    * Duplicated features again!\n",
    "    \n",
    "* `21776272_Body.0_60_46_21776272_Body.0_60_39-40`:\n",
    "    * Longer sentence\n",
    "    * A slightly tougher example: an inherited disorder ... with mutations in gene...\n",
    "    * neg. weight from \"gene\" in between... is this just super common?\n",
    "\n",
    "* `19220582_Abstract.0_2_20_19220582_Abstract.0_2_5`:\n",
    "    * 'We identified a mutation in a family with...' - should this be a positive example??\n",
    "    * neg. weight from \"gene\" in between... is this just super common?\n",
    "    * neg. weight from \"identify\" and \"affect\"...?\n",
    "    * **'c. mutation' - mutation doesn't get picked up as it's a child off the path...**\n",
    "\n",
    "* `23456818_Body.0_148_9_23456818_Body.0_148_21-22`:\n",
    "    * `LEMMA:PARENTS-OF-BETWEEN-MENTION-and-MENTION[determine]` has huge negative weight\n",
    "    * gene, patient, distribution, etc. - neg weight\n",
    "    * negative impact from `PARENTS OF`...\n",
    "\n",
    "* `20429427_Abstract.0_1_2_20429427_Abstract.0_1_14`:\n",
    "    * **Key word like \"mutation\" is off main path... (\"responsible -> mutation -> whose\")**\n",
    "    * **STOPWORDS: \"the\"**\n",
    "    * **BUG: dep_path labels are all None...**, **BUG: left-siblings doubled**\n",
    "\n",
    "* `21031598_Body.0_24_25_21031598_Body.0_24_9`:\n",
    "    * Need a feature like `direct parent of mention`\n",
    "    * NEG: 'site', 'gene'\n",
    "    * `INV_`\n",
    "\n",
    "* `22670894_Title.0_1_16_22670894_Title.0_1_7-8`:\n",
    "    * NEG: 'the', 'gene', 'locus'\n",
    "    * **'due to' just dropped from the dep tree!**\n",
    "\n",
    "* `22887726_Abstract.0_5_33_22887726_Abstract.0_5_54-55`:\n",
    "    * **Incorrectly labeled for causation?**\n",
    "\n",
    "* `19641605_Abstract.0_3_14_19641605_Abstract.0_3_22`:\n",
    "    * This one has \"cause\", exp = 0.89, seems like dead match...\n",
    "    * **BUG: doubles of stuff!!!!!**\n",
    "\n",
    "* `23879989_Abstract.0_1_3_23879989_Abstract.0_1_12-13`:\n",
    "    * This one has \"cause\", exp = 0.87, seems like dead match...\n",
    "    * **BUG: doubles of stuff!!!!!**\n",
    "    * `LEMMA:FILTER-BY(pos=NN):BETWEEN-MENTION-and-MENTION[_]`\n",
    "    * 'distinct', 'mutation _ cause'...\n",
    "        * **_Why does '\\_' have such negative weight??_**\n",
    "\n",
    "* `21850180_Body.0_62_14_21850180_Body.0_62_26-27`:\n",
    "    * This one again seems like should be a dead match...\n",
    "    * **BUG: Double of word \"three\"!**\n",
    "    * Key word \"responsible\" not included...?\n",
    "    * NEG: 'identify', 'i.e.', '_ _ _'\n",
    "\n",
    "* `20683840_Abstract.0_4_12_20683840_Abstract.0_4_33`:\n",
    "    * UnicodeError!\n",
    "\n",
    "* `17495019_Title.0_1_5_17495019_Title.0_1_18`:\n",
    "    * **Incorrectly labeled for causation?**\n",
    "    * _Why is '% patients' positive...?_\n",
    "\n",
    "* `18283249_Abstract.0_3_2_18283249_Abstract.0_3_16-17-18`:\n",
    "    * **'are one of the factors' - is this correctly labeled for causation?**\n",
    "\n",
    "* `21203343_Body.0_10_3_21203343_Body.0_10_20`:\n",
    "    * **'are described in...' - this at least seems on the border of \"causation\"**\n",
    "    * expectation 0.85\n",
    "    * **BUG: doubles**\n",
    "    * NEG: `_`\n",
    "\n",
    "* `24312213_Body.0_110_66_24312213_Body.0_110_73`:\n",
    "    * **Interesting example of isolated subtree which should be direct match!**\n",
    "    * Expectation 0.42???\n",
    "    * NEG: 'mutation result', `_`, 'result', 'influence'\n",
    "\n",
    "### Final tally:\n",
    "* 55%: Negative weight from features that seem like they should be stop words\n",
    "* 25%: Incorrectly labeled or on the border\n",
    "* 40%: Bug of some sort in TreeDLib\n",
    "* 30%: Features that seems suprisingly weighted- due to low-quality DSRs?"
   ]
  },
  {
   "cell_type": "markdown",
   "metadata": {},
   "source": [
    "## Testing the low-PMI hypothesis"
   ]
  },
  {
   "cell_type": "code",
   "execution_count": 212,
   "metadata": {
    "collapsed": false
   },
   "outputs": [
    {
     "name": "stdout",
     "output_type": "stream",
     "text": [
      "1 rows affected.\n"
     ]
    },
    {
     "data": {
      "text/html": [
       "<table>\n",
       "    <tr>\n",
       "        <th>count</th>\n",
       "    </tr>\n",
       "    <tr>\n",
       "        <td>230961</td>\n",
       "    </tr>\n",
       "</table>"
      ],
      "text/plain": [
       "[(230961L,)]"
      ]
     },
     "execution_count": 212,
     "metadata": {},
     "output_type": "execute_result"
    }
   ],
   "source": [
    "%%sql \n",
    "SELECT COUNT(*) FROM (\n",
    "    SELECT gc.doc_id, gc.section_id, gc.sent_id\n",
    "    FROM genepheno_causation gc\n",
    "    GROUP BY gc.doc_id, gc.section_id, gc.sent_id) AS f;"
   ]
  },
  {
   "cell_type": "code",
   "execution_count": 217,
   "metadata": {
    "collapsed": false
   },
   "outputs": [
    {
     "name": "stdout",
     "output_type": "stream",
     "text": [
      "1 rows affected.\n"
     ]
    },
    {
     "data": {
      "text/html": [
       "<table>\n",
       "    <tr>\n",
       "        <th>Relative Frequency</th>\n",
       "    </tr>\n",
       "    <tr>\n",
       "        <td>0.72623516524434861297</td>\n",
       "    </tr>\n",
       "</table>"
      ],
      "text/plain": [
       "[(Decimal('0.72623516524434861297'),)]"
      ]
     },
     "execution_count": 217,
     "metadata": {},
     "output_type": "execute_result"
    }
   ],
   "source": [
    "%%sql\n",
    "SELECT COUNT(*) / 230961.0 AS \"Relative Frequency\"\n",
    "FROM sentences_input \n",
    "WHERE \n",
    "    doc_id || section_id || sent_id IN (SELECT doc_id || section_id || sent_id FROM genepheno_causation)\n",
    "    AND words LIKE '%the%';"
   ]
  },
  {
   "cell_type": "markdown",
   "metadata": {},
   "source": [
    "## Testing the length-bias hypothesis\n",
    "\n",
    "Is their a bias towards longer sentences (because more high-weight keywords?)"
   ]
  },
  {
   "cell_type": "code",
   "execution_count": 107,
   "metadata": {
    "collapsed": false
   },
   "outputs": [
    {
     "name": "stdout",
     "output_type": "stream",
     "text": [
      "464446\n"
     ]
    }
   ],
   "source": [
    "rows = []\n",
    "with open('/lfs/raiders7/hdd/ajratner/dd-genomics/alex-results/test-len-corr/all_rel_sents.tsv', 'rb') as f:\n",
    "    for line in f:\n",
    "        r = line.rstrip().split('\\t')\n",
    "        rows.append([float(r[1]), len(r[2].split('|^|'))])\n",
    "print len(rows)"
   ]
  },
  {
   "cell_type": "code",
   "execution_count": 111,
   "metadata": {
    "collapsed": false
   },
   "outputs": [
    {
     "data": {
      "text/plain": [
       "(0.01490680366497573, 0.00028709107735074691)"
      ]
     },
     "execution_count": 111,
     "metadata": {},
     "output_type": "execute_result"
    }
   ],
   "source": [
    "from scipy.stats import pearsonr\n",
    "exps, lens = zip(*filter(lambda r : r[0] > 0.7, rows))\n",
    "pearsonr(exps, lens)"
   ]
  },
  {
   "cell_type": "code",
   "execution_count": 113,
   "metadata": {
    "collapsed": false
   },
   "outputs": [
    {
     "data": {
      "text/plain": [
       "<matplotlib.collections.PathCollection at 0x7f090ce32cd0>"
      ]
     },
     "execution_count": 113,
     "metadata": {},
     "output_type": "execute_result"
    },
    {
     "data": {
      "image/png": "[encoded data removed]",
      "text/plain": [
       "<matplotlib.figure.Figure at 0x7f0918499fd0>"
      ]
     },
     "metadata": {},
     "output_type": "display_data"
    }
   ],
   "source": [
    "%matplotlib inline\n",
    "import matplotlib\n",
    "import numpy as np\n",
    "import matplotlib.pyplot as plt\n",
    "import random\n",
    "\n",
    "exps, lens = zip(*random.sample(filter(lambda r : r[0] > 0.5, rows), 1000))\n",
    "plt.scatter(lens, exps)"
   ]
  },
  {
   "cell_type": "markdown",
   "metadata": {},
   "source": [
    "## Debugging pipeline\n",
    "\n",
    "We'll debug here, also to show the general most current procedure for debugging treedlib on examples in a SQL database (e.g. from DeepDive)"
   ]
  },
  {
   "cell_type": "code",
   "execution_count": null,
   "metadata": {
    "collapsed": false
   },
   "outputs": [],
   "source": [
    "%sql postgresql://ajratner@localhost:5432/deepdive_spouse"
   ]
  },
  {
   "cell_type": "code",
   "execution_count": null,
   "metadata": {
    "collapsed": false,
    "scrolled": true
   },
   "outputs": [],
   "source": [
    "%%sql \n",
    "SELECT sentence_text\n",
    "FROM sentences \n",
    "WHERE doc_id = '79205745-b593-4b98-8a94-da6b8238fefc' AND sentence_index = 32;"
   ]
  },
  {
   "cell_type": "code",
   "execution_count": null,
   "metadata": {
    "collapsed": false
   },
   "outputs": [],
   "source": [
    "res = %sql SELECT tokens AS \"words\", lemmas, pos_tags, ner_tags, dep_types AS \"dep_labels\", dep_tokens AS \"dep_parents\" FROM sentences WHERE doc_id = '79205745-b593-4b98-8a94-da6b8238fefc' AND sentence_index = 32;\n",
    "xts = map(corenlp_to_xmltree, res)"
   ]
  },
  {
   "cell_type": "code",
   "execution_count": null,
   "metadata": {
    "collapsed": false
   },
   "outputs": [],
   "source": [
    "xt = xts[0]\n",
    "xt.render_tree(highlight=[[21,22], [33,34]])"
   ]
  },
  {
   "cell_type": "code",
   "execution_count": null,
   "metadata": {
    "collapsed": false
   },
   "outputs": [],
   "source": [
    "print_gen(get_relation_features(xt.root, [21,22], [33,34]))"
   ]
  },
  {
   "cell_type": "markdown",
   "metadata": {},
   "source": [
    "## Feature focus: Preceding statements which nullify or negate meaning\n",
    "\n",
    "Example:\n",
    "> _Ex1:_ To investigate whether mutations in the SURF1 gene are a cause of Charcot-Marie-Tooth -LRB- CMT -RRB- disease\n",
    "\n",
    "> _Ex2:_ To investigate the genetic effect of a new mutation found in exon 17 of the myophosphorylase -LRB- PYGM -RRB- gene as a cause of McArdle disease -LRB- also known as type 5 glycogenosis -RRB-.\n",
    "\n",
    "Notes:\n",
    "* These seem to mostly be **_modifiers of the primary verb_**?\n",
    "    * We are only sampling from a limited set of patterns of sentences (due to narrow DSR set) currently...\n",
    "* Modifiers in general...?\n",
    "* _I know how RNNs claim to / do handle this phenomenon..._ *"
   ]
  },
  {
   "cell_type": "code",
   "execution_count": null,
   "metadata": {
    "collapsed": true
   },
   "outputs": [],
   "source": [
    "ex1_id = ('24027061', 'Abstract.0', 1)\n",
    "ex1_raw=\"\"\"\n",
    "<node dep_parent=\"0\" lemma=\"investigate\" ner=\"O\" pos=\"VB\" word=\"investigate\" word_idx=\"1\"><node dep_parent=\"2\" dep_path=\"aux\" lemma=\"to\" ner=\"O\" pos=\"TO\" word=\"To\" word_idx=\"0\"/><node dep_parent=\"2\" dep_path=\"ccomp\" lemma=\"cause\" ner=\"O\" pos=\"NN\" word=\"cause\" word_idx=\"10\"><node dep_parent=\"11\" dep_path=\"mark\" lemma=\"whether\" ner=\"O\" pos=\"IN\" word=\"whether\" word_idx=\"2\"/><node dep_parent=\"11\" dep_path=\"nsubj\" lemma=\"mutation\" ner=\"O\" pos=\"NNS\" word=\"mutations\" word_idx=\"3\"><node dep_parent=\"4\" dep_path=\"prep_in\" lemma=\"gene\" ner=\"O\" pos=\"NN\" word=\"gene\" word_idx=\"7\"><node dep_parent=\"8\" dep_path=\"det\" lemma=\"the\" ner=\"O\" pos=\"DT\" word=\"the\" word_idx=\"5\"/><node dep_parent=\"8\" dep_path=\"nn\" lemma=\"surf1\" ner=\"O\" pos=\"NN\" word=\"SURF1\" word_idx=\"6\"/></node></node><node dep_parent=\"11\" dep_path=\"cop\" lemma=\"be\" ner=\"O\" pos=\"VBP\" word=\"are\" word_idx=\"8\"/><node dep_parent=\"11\" dep_path=\"det\" lemma=\"a\" ner=\"O\" pos=\"DT\" word=\"a\" word_idx=\"9\"/><node dep_parent=\"11\" dep_path=\"prep_of\" lemma=\"Charcot-Marie-Tooth\" ner=\"O\" pos=\"NNP\" word=\"Charcot-Marie-Tooth\" word_idx=\"12\"/><node dep_parent=\"11\" dep_path=\"dep\" lemma=\"disease\" ner=\"O\" pos=\"NN\" word=\"disease\" word_idx=\"16\"><node dep_parent=\"17\" dep_path=\"appos\" lemma=\"CMT\" ner=\"O\" pos=\"NNP\" word=\"CMT\" word_idx=\"14\"/></node></node></node>\n",
    "\"\"\"\n",
    "xt1 = XMLTree(et.fromstring(ex1_raw))\n",
    "ex2_id = ('15262743', 'Abstract.0', 1)\n",
    "ex2_raw=\"\"\"\n",
    "<node dep_parent=\"0\" lemma=\"investigate\" ner=\"O\" pos=\"VB\" word=\"investigate\" word_idx=\"1\"><node dep_parent=\"2\" dep_path=\"aux\" lemma=\"to\" ner=\"O\" pos=\"TO\" word=\"To\" word_idx=\"0\"/><node dep_parent=\"2\" dep_path=\"dobj\" lemma=\"effect\" ner=\"O\" pos=\"NN\" word=\"effect\" word_idx=\"4\"><node dep_parent=\"5\" dep_path=\"det\" lemma=\"the\" ner=\"O\" pos=\"DT\" word=\"the\" word_idx=\"2\"/><node dep_parent=\"5\" dep_path=\"amod\" lemma=\"genetic\" ner=\"O\" pos=\"JJ\" word=\"genetic\" word_idx=\"3\"/><node dep_parent=\"5\" dep_path=\"prep_of\" lemma=\"mutation\" ner=\"O\" pos=\"NN\" word=\"mutation\" word_idx=\"8\"><node dep_parent=\"9\" dep_path=\"det\" lemma=\"a\" ner=\"O\" pos=\"DT\" word=\"a\" word_idx=\"6\"/><node dep_parent=\"9\" dep_path=\"amod\" lemma=\"new\" ner=\"O\" pos=\"JJ\" word=\"new\" word_idx=\"7\"/><node dep_parent=\"9\" dep_path=\"vmod\" lemma=\"find\" ner=\"O\" pos=\"VBN\" word=\"found\" word_idx=\"9\"><node dep_parent=\"10\" dep_path=\"prep_in\" lemma=\"exon\" ner=\"O\" pos=\"NN\" word=\"exon\" word_idx=\"11\"><node dep_parent=\"12\" dep_path=\"num\" lemma=\"17\" ner=\"NUMBER\" pos=\"CD\" word=\"17\" word_idx=\"12\"/><node dep_parent=\"12\" dep_path=\"prep_of\" lemma=\"gene\" ner=\"O\" pos=\"NN\" word=\"gene\" word_idx=\"19\"><node dep_parent=\"20\" dep_path=\"det\" lemma=\"the\" ner=\"O\" pos=\"DT\" word=\"the\" word_idx=\"14\"/><node dep_parent=\"20\" dep_path=\"nn\" lemma=\"myophosphorylase\" ner=\"O\" pos=\"NN\" word=\"myophosphorylase\" word_idx=\"15\"/><node dep_parent=\"20\" dep_path=\"nn\" lemma=\"pygm\" ner=\"O\" pos=\"NN\" word=\"PYGM\" word_idx=\"17\"/></node></node><node dep_parent=\"10\" dep_path=\"prep_as\" lemma=\"cause\" ner=\"O\" pos=\"NN\" word=\"cause\" word_idx=\"22\"><node dep_parent=\"23\" dep_path=\"det\" lemma=\"a\" ner=\"O\" pos=\"DT\" word=\"a\" word_idx=\"21\"/><node dep_parent=\"23\" dep_path=\"prep_of\" lemma=\"disease\" ner=\"O\" pos=\"NN\" word=\"disease\" word_idx=\"25\"><node dep_parent=\"26\" dep_path=\"nn\" lemma=\"McArdle\" ner=\"PERSON\" pos=\"NNP\" word=\"McArdle\" word_idx=\"24\"/><node dep_parent=\"26\" dep_path=\"vmod\" lemma=\"know\" ner=\"O\" pos=\"VBN\" word=\"known\" word_idx=\"28\"><node dep_parent=\"29\" dep_path=\"advmod\" lemma=\"also\" ner=\"O\" pos=\"RB\" word=\"also\" word_idx=\"27\"/><node dep_parent=\"29\" dep_path=\"prep_as\" lemma=\"glycogenosis\" ner=\"O\" pos=\"NN\" word=\"glycogenosis\" word_idx=\"32\"><node dep_parent=\"33\" dep_path=\"nn\" lemma=\"type\" ner=\"O\" pos=\"NN\" word=\"type\" word_idx=\"30\"/><node dep_parent=\"33\" dep_path=\"num\" lemma=\"5\" ner=\"NUMBER\" pos=\"CD\" word=\"5\" word_idx=\"31\"/></node></node></node></node></node></node></node></node>\n",
    "\"\"\"\n",
    "xt2 = XMLTree(et.fromstring(ex2_raw))"
   ]
  },
  {
   "cell_type": "code",
   "execution_count": null,
   "metadata": {
    "collapsed": false
   },
   "outputs": [],
   "source": [
    "xt1.render_tree()\n",
    "xt2.render_tree()"
   ]
  },
  {
   "cell_type": "markdown",
   "metadata": {},
   "source": [
    "### Testing XML speeds\n",
    "\n",
    "How does it compare between:\n",
    "* parse to XML via this python code, store as string, then parse from string at runtime\n",
    "* just parse to XML at runtime via this python code?"
   ]
  },
  {
   "cell_type": "code",
   "execution_count": null,
   "metadata": {
    "collapsed": false
   },
   "outputs": [],
   "source": [
    "# Map sentence to xmltree\n",
    "%time xts = map(corenlp_to_xmltree, rows)"
   ]
  },
  {
   "cell_type": "code",
   "execution_count": null,
   "metadata": {
    "collapsed": false
   },
   "outputs": [],
   "source": [
    "# Pre-process to xml string\n",
    "xmls = [xt.to_str() for xt in map(corenlp_to_xmltree, rows)]\n",
    "\n",
    "# Parse @ runtime using lxml\n",
    "%time roots = map(et.fromstring, xmls)"
   ]
  },
  {
   "cell_type": "markdown",
   "metadata": {},
   "source": [
    "### Table example"
   ]
  },
  {
   "cell_type": "code",
   "execution_count": null,
   "metadata": {
    "collapsed": false
   },
   "outputs": [],
   "source": [
    "# Some wishful thinking...\n",
    "table_xml = \"\"\"\n",
    "<div class=\"table-wrapper\">\n",
    "    <h3>Causal genomic relationships</h3>\n",
    "    <table>\n",
    "        <tr><th>Gene</th><th>Variant</th><th>Phenotype</th></tr>\n",
    "        <tr><td>ABC</td><td><i>AG34</i></td><td>Headaches during defecation</td></tr>\n",
    "        <tr><td>BDF</td><td><i>CT2</i></td><td>Defecation during headaches</td></tr>\n",
    "        <tr><td>XYG</td><td><i>AT456</i></td><td>Defecasomnia</td></tr>\n",
    "    </table>\n",
    "</div>\n",
    "\"\"\"\n",
    "from IPython.core.display import display_html, HTML\n",
    "display_html(HTML(table_xml))"
   ]
  }
 ],
 "metadata": {
  "kernelspec": {
   "display_name": "Python 2",
   "language": "python",
   "name": "python2"
  },
  "language_info": {
   "codemirror_mode": {
    "name": "ipython",
    "version": 2
   },
   "file_extension": ".py",
   "mimetype": "text/x-python",
   "name": "python",
   "nbconvert_exporter": "python",
   "pygments_lexer": "ipython2",
   "version": "2.7.6"
  }
 },
 "nbformat": 4,
 "nbformat_minor": 0
}
