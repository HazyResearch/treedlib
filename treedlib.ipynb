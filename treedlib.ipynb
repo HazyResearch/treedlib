{
 "cells": [
  {
   "cell_type": "markdown",
   "metadata": {},
   "source": [
    "# TreeDLib\n",
    "\n",
    "Given a set of **dictionaries** $D_1,...,D_n$, we wish to generate a set of XPath / regex expressions that yield features..."
   ]
  },
  {
   "cell_type": "code",
   "execution_count": 37,
   "metadata": {
    "collapsed": false
   },
   "outputs": [
    {
     "name": "stdout",
     "output_type": "stream",
     "text": [
      "The autoreload extension is already loaded. To reload it, use:\n",
      "  %reload_ext autoreload\n"
     ]
    }
   ],
   "source": [
    "%load_ext autoreload\n",
    "%autoreload 2\n",
    "import sys\n",
    "sys.path.append('src')"
   ]
  },
  {
   "cell_type": "markdown",
   "metadata": {},
   "source": [
    "## Dependency paths\n",
    "\n",
    "I want to build some simple dep path / tree viewer code..."
   ]
  },
  {
   "cell_type": "code",
   "execution_count": 59,
   "metadata": {
    "collapsed": false
   },
   "outputs": [],
   "source": [
    "from util import load_sentences\n",
    "sents = load_sentences('test/test1.parsed.tsv')"
   ]
  },
  {
   "cell_type": "code",
   "execution_count": 60,
   "metadata": {
    "collapsed": false
   },
   "outputs": [
    {
     "name": "stdout",
     "output_type": "stream",
     "text": [
      "SentenceInput(doc_id=1, sent_id=1, text='Autosomal dominant polycystic kidney disease is the most common human monogenic disorder and is caused by mutations in the PKD1 or PKD2 genes.', words=['Autosomal', 'dominant', 'polycystic', 'kidney', 'disease', 'is', 'the', 'most', 'common', 'human', 'monogenic', 'disorder', 'and', 'is', 'caused', 'by', 'mutations', 'in', 'the', 'PKD1', 'or', 'PKD2', 'genes', '.'], lemmas=['autosomal', 'dominant', 'polycystic', 'kidney', 'disease', 'be', 'the', 'most', 'common', 'human', 'monogenic', 'disorder', 'and', 'be', 'cause', 'by', 'mutation', 'in', 'the', 'pkd1', 'or', 'pkd2', 'gene', '.'], poses=['JJ', 'JJ', 'JJ', 'NN', 'NN', 'VBZ', 'DT', 'RBS', 'JJ', 'JJ', 'JJ', 'NN', 'CC', 'VBZ', 'VBN', 'IN', 'NNS', 'IN', 'DT', 'NN', 'CC', 'NN', 'NNS', '.'], ners=['O', 'O', 'O', 'O', 'O', 'O', 'O', 'O', 'O', 'O', 'O', 'O', 'O', 'O', 'O', 'O', 'O', 'O', 'O', 'O', 'O', 'O', 'O', 'O'], word_idxs=[0, 10, 19, 30, 37, 45, 48, 52, 57, 64, 70, 80, 89, 93, 96, 103, 106, 116, 119, 123, 128, 131, 136, 141], dep_labels=['amod', 'amod', 'amod', 'nn', 'nsubj', 'cop', 'det', 'advmod', 'amod', 'amod', 'amod', None, None, 'auxpass', 'conj_and', None, 'agent', None, 'dep', 'prep_in', None, 'conj_or', 'dep', None], dep_parents=[5, 5, 5, 5, 12, 12, 12, 9, 12, 12, 12, 0, 0, 15, 12, 0, 15, 0, 20, 17, 0, 20, 20, 0])\n"
     ]
    }
   ],
   "source": [
    "print sents[1]"
   ]
  },
  {
   "cell_type": "markdown",
   "metadata": {},
   "source": [
    "Note that some of the dep paths have **multiple root nodes**; however I am guessing that only _one_ is the real root node, and the rest are 'duds', i.e. _without children_.\n",
    "\n",
    "I'll use this hypothesis to bypass this for now, but should look in documentation of [CoreNLP dep parser options](http://stanfordnlp.github.io/CoreNLP/depparse.html) for how to properly deal with this..."
   ]
  },
  {
   "cell_type": "code",
   "execution_count": 221,
   "metadata": {
    "collapsed": false
   },
   "outputs": [],
   "source": [
    "from dep_path import DepTree\n",
    "dts = map(DepTree, sents)"
   ]
  },
  {
   "cell_type": "code",
   "execution_count": 222,
   "metadata": {
    "collapsed": false
   },
   "outputs": [
    {
     "data": {
      "text/html": [
       "<style>\n",
       ".node {\n",
       "      cursor: pointer;\n",
       "}\n",
       "\n",
       ".node circle {\n",
       "      fill: #fff;\n",
       "          stroke: steelblue;\n",
       "              stroke-width: 3px;\n",
       "}\n",
       "\n",
       ".node text {\n",
       "      font: 12px sans-serif;\n",
       "}\n",
       "\n",
       ".edge {\n",
       "      fill: none;\n",
       "          stroke: #ccc;\n",
       "              stroke-width: 2px;\n",
       "}\n",
       "</style>\n",
       "<div id=\"tree-chart\"></div>\n"
      ]
     },
     "metadata": {},
     "output_type": "display_data"
    },
    {
     "data": {
      "application/javascript": [
       "$.getScript(\"http://d3js.org/d3.v3.min.js\", function () {\n",
       "var root = {\"attrib\": {\"word\": \"disorder\", \"dep_parent\": 0, \"pos\": \"NN\", \"lemma\": \"disorder\", \"word_idx\": 80, \"ner\": \"O\"}, \"id\": 12, \"children\": [{\"attrib\": {\"word\": \"disease\", \"dep_parent\": 12, \"dep_label\": \"nsubj\", \"pos\": \"NN\", \"lemma\": \"disease\", \"word_idx\": 37, \"ner\": \"O\"}, \"id\": 5, \"children\": [{\"attrib\": {\"word\": \"Autosomal\", \"dep_parent\": 5, \"dep_label\": \"amod\", \"pos\": \"JJ\", \"lemma\": \"autosomal\", \"word_idx\": 0, \"ner\": \"O\"}, \"id\": 1, \"children\": []}, {\"attrib\": {\"word\": \"dominant\", \"dep_parent\": 5, \"dep_label\": \"amod\", \"pos\": \"JJ\", \"lemma\": \"dominant\", \"word_idx\": 10, \"ner\": \"O\"}, \"id\": 2, \"children\": []}, {\"attrib\": {\"word\": \"polycystic\", \"dep_parent\": 5, \"dep_label\": \"amod\", \"pos\": \"JJ\", \"lemma\": \"polycystic\", \"word_idx\": 19, \"ner\": \"O\"}, \"id\": 3, \"children\": []}, {\"attrib\": {\"word\": \"kidney\", \"dep_parent\": 5, \"dep_label\": \"nn\", \"pos\": \"NN\", \"lemma\": \"kidney\", \"word_idx\": 30, \"ner\": \"O\"}, \"id\": 4, \"children\": []}]}, {\"attrib\": {\"word\": \"is\", \"dep_parent\": 12, \"dep_label\": \"cop\", \"pos\": \"VBZ\", \"lemma\": \"be\", \"word_idx\": 45, \"ner\": \"O\"}, \"id\": 6, \"children\": []}, {\"attrib\": {\"word\": \"the\", \"dep_parent\": 12, \"dep_label\": \"det\", \"pos\": \"DT\", \"lemma\": \"the\", \"word_idx\": 48, \"ner\": \"O\"}, \"id\": 7, \"children\": []}, {\"attrib\": {\"word\": \"common\", \"dep_parent\": 12, \"dep_label\": \"amod\", \"pos\": \"JJ\", \"lemma\": \"common\", \"word_idx\": 57, \"ner\": \"O\"}, \"id\": 9, \"children\": [{\"attrib\": {\"word\": \"most\", \"dep_parent\": 9, \"dep_label\": \"advmod\", \"pos\": \"RBS\", \"lemma\": \"most\", \"word_idx\": 52, \"ner\": \"O\"}, \"id\": 8, \"children\": []}]}, {\"attrib\": {\"word\": \"human\", \"dep_parent\": 12, \"dep_label\": \"amod\", \"pos\": \"JJ\", \"lemma\": \"human\", \"word_idx\": 64, \"ner\": \"O\"}, \"id\": 10, \"children\": []}, {\"attrib\": {\"word\": \"monogenic\", \"dep_parent\": 12, \"dep_label\": \"amod\", \"pos\": \"JJ\", \"lemma\": \"monogenic\", \"word_idx\": 70, \"ner\": \"O\"}, \"id\": 11, \"children\": []}, {\"attrib\": {\"word\": \"caused\", \"dep_parent\": 12, \"dep_label\": \"conj_and\", \"pos\": \"VBN\", \"lemma\": \"cause\", \"word_idx\": 96, \"ner\": \"O\"}, \"id\": 15, \"children\": [{\"attrib\": {\"word\": \"is\", \"dep_parent\": 15, \"dep_label\": \"auxpass\", \"pos\": \"VBZ\", \"lemma\": \"be\", \"word_idx\": 93, \"ner\": \"O\"}, \"id\": 14, \"children\": []}, {\"attrib\": {\"word\": \"mutations\", \"dep_parent\": 15, \"dep_label\": \"agent\", \"pos\": \"NNS\", \"lemma\": \"mutation\", \"word_idx\": 106, \"ner\": \"O\"}, \"id\": 17, \"children\": [{\"attrib\": {\"word\": \"PKD1\", \"dep_parent\": 17, \"dep_label\": \"prep_in\", \"pos\": \"NN\", \"lemma\": \"pkd1\", \"word_idx\": 123, \"ner\": \"O\"}, \"id\": 20, \"children\": [{\"attrib\": {\"word\": \"the\", \"dep_parent\": 20, \"dep_label\": \"dep\", \"pos\": \"DT\", \"lemma\": \"the\", \"word_idx\": 119, \"ner\": \"O\"}, \"id\": 19, \"children\": []}, {\"attrib\": {\"word\": \"PKD2\", \"dep_parent\": 20, \"dep_label\": \"conj_or\", \"pos\": \"NN\", \"lemma\": \"pkd2\", \"word_idx\": 131, \"ner\": \"O\"}, \"id\": 22, \"children\": []}, {\"attrib\": {\"word\": \"genes\", \"dep_parent\": 20, \"dep_label\": \"dep\", \"pos\": \"NNS\", \"lemma\": \"gene\", \"word_idx\": 136, \"ner\": \"O\"}, \"id\": 23, \"children\": []}]}]}]}]}\n",
       "// See http://bl.ocks.org/d3noob/8375092\n",
       "\n",
       "// Tree variable is prepended to this file in python...\n",
       "// root = ...\n",
       "\n",
       "// Constants\n",
       "var margin = {top: 20, right: 20, bottom: 20, left: 20},\n",
       "width = 800 - margin.left - margin.right,\n",
       "height = 250 - margin.top - margin.bottom,\n",
       "R = 5;\n",
       "\n",
       "// Create the d3 tree object\n",
       "var tree = d3.layout.tree()\n",
       "  .size([width, height]);\n",
       "\n",
       "// Create the svg canvas\n",
       "var svg = d3.select(\"#tree-chart\")\n",
       "  .append(\"svg\")\n",
       "  .attr(\"width\", width + margin.left + margin.right)\n",
       "  .attr(\"height\", height + margin.top + margin.bottom)\n",
       "  .append(\"g\")\n",
       "  .attr(\"transform\", \"translate(\" + margin.left + \",\" + margin.top + \")\");\n",
       "\n",
       "function renderTree() {\n",
       "  var nodes = tree.nodes(root),\n",
       "  edges = tree.links(nodes);\n",
       "\n",
       "  // Place the nodes\n",
       "  var nodeGroups = svg.selectAll(\"g.node\")\n",
       "    .data(nodes)\n",
       "    .enter().append(\"g\")\n",
       "    .attr(\"class\", \"node\")\n",
       "    .attr(\"transform\", function(d) { return \"translate(\" + d.x + \",\" + d.y + \")\"; });\n",
       "       \n",
       "  // Append circles\n",
       "  nodeGroups.append(\"circle\")\n",
       "    .attr(\"r\", R);\n",
       "     \n",
       "  // Append the actual word\n",
       "  nodeGroups.append(\"text\")\n",
       "    .text(function(d) { return d.attrib.word; })\n",
       "    .attr(\"text-anchor\", function(d) { \n",
       "      return d.children && d.children.length > 0 ? \"start\" : \"middle\"; })\n",
       "    .attr(\"dx\", function(d) { \n",
       "      return d.children && d.children.length > 0 ? R + 3 : 0; })\n",
       "    .attr(\"dy\", function(d) { \n",
       "      return d.children && d.children.length > 0 ? 0 : 3*R + 3; });\n",
       "\n",
       "  // Place the edges\n",
       "  var edgePaths = svg.selectAll(\"path\")\n",
       "    .data(edges)\n",
       "    .enter().append(\"path\")\n",
       "    .attr(\"class\", \"edge\")\n",
       "    .attr(\"d\", d3.svg.diagonal());\n",
       "}\n",
       "\n",
       "renderTree();\n",
       "});\n"
      ]
     },
     "metadata": {},
     "output_type": "display_data"
    }
   ],
   "source": [
    "dt = dts[1]\n",
    "dt.render_tree()"
   ]
  },
  {
   "cell_type": "code",
   "execution_count": 240,
   "metadata": {
    "collapsed": false
   },
   "outputs": [
    {
     "name": "stdout",
     "output_type": "stream",
     "text": [
      "['disease', 'disorder', 'caused', 'mutations']\n"
     ]
    }
   ],
   "source": [
    "p1 = root.xpath(\".//node[@cid='P1']/ancestor::node/@word\")\n",
    "p2 = root.xpath(\".//node[@cid='G1']/ancestor::node/@word\")\n",
    "common = set(p1).intersection(p2)\n",
    "b1 = []\n",
    "b2 = []\n",
    "for n in reversed(p1):\n",
    "    b1.append(n)\n",
    "    if n in common:\n",
    "        break\n",
    "for n in reversed(p2):\n",
    "    if n in common:\n",
    "        break\n",
    "    b2.append(n)\n",
    "print b1 + b2[::-1]\n"
   ]
  },
  {
   "cell_type": "markdown",
   "metadata": {},
   "source": [
    "# Getting features with TreeDLib\n",
    "\n",
    "Let's start assuming we have an xml tree as input, of the form generated by `DepTree.to_xml_str()`\n",
    "\n",
    "Let's first mark the two genes in the above example, **PKD1** and **PKD2**, as candidate mentions _1_ and _2_ respectively:"
   ]
  },
  {
   "cell_type": "code",
   "execution_count": 227,
   "metadata": {
    "collapsed": false
   },
   "outputs": [],
   "source": [
    "import lxml.etree as et\n",
    "root = dt.to_xml()\n",
    "root.findall(\".//node[@word='Autosomal']\")[0].set('cid', 'P1')\n",
    "root.findall(\".//node[@word='dominant']\")[0].set('cid', 'P1')\n",
    "root.findall(\".//node[@word='polycystic']\")[0].set('cid', 'P1')\n",
    "root.findall(\".//node[@word='kidney']\")[0].set('cid', 'P1')\n",
    "root.findall(\".//node[@word='disease']\")[0].set('cid', 'P1')\n",
    "root.findall(\".//node[@word='PKD1']\")[0].set('cid', 'G1')\n",
    "root.findall(\".//node[@word='PKD2']\")[0].set('cid', 'G2')"
   ]
  },
  {
   "cell_type": "code",
   "execution_count": 195,
   "metadata": {
    "collapsed": false
   },
   "outputs": [
    {
     "data": {
      "text/plain": [
       "3"
      ]
     },
     "execution_count": 195,
     "metadata": {},
     "output_type": "execute_result"
    }
   ],
   "source": [
    "len(root.findall(\".//node[@cid='G2']../node\"))"
   ]
  },
  {
   "cell_type": "code",
   "execution_count": 220,
   "metadata": {
    "collapsed": false
   },
   "outputs": [
    {
     "name": "stdout",
     "output_type": "stream",
     "text": [
      "3\n",
      "['autosomal', 'dominant', 'polycystic']\n"
     ]
    }
   ],
   "source": [
    "res = root.xpath(\".//node[@word='kidney']/preceding-sibling::node/@lemma\")\n",
    "print len(res)\n",
    "print res"
   ]
  },
  {
   "cell_type": "markdown",
   "metadata": {},
   "source": [
    "Now let's try executing a simple feature"
   ]
  },
  {
   "cell_type": "code",
   "execution_count": 266,
   "metadata": {
    "collapsed": false
   },
   "outputs": [
    {
     "name": "stdout",
     "output_type": "stream",
     "text": [
      "LEMMA-MENTION[disease]\n",
      "LEMMA-MENTION[autosomal]\n",
      "LEMMA-MENTION[dominant]\n",
      "LEMMA-MENTION[polycystic]\n",
      "LEMMA-MENTION[kidney]\n",
      "LEMMA-MENTION[disease_autosomal]\n",
      "LEMMA-MENTION[autosomal_dominant]\n",
      "LEMMA-MENTION[dominant_polycystic]\n",
      "LEMMA-MENTION[polycystic_kidney]\n",
      "LEMMA-MENTION[disease_autosomal_dominant]\n",
      "LEMMA-MENTION[autosomal_dominant_polycystic]\n",
      "LEMMA-MENTION[dominant_polycystic_kidney]\n",
      "LEMMA-MENTION[disease_autosomal_dominant_polycystic]\n",
      "LEMMA-MENTION[autosomal_dominant_polycystic_kidney]\n",
      "LEMMA-MENTION[disease_autosomal_dominant_polycystic_kidney]\n"
     ]
    }
   ],
   "source": [
    "from get_features import Get, Mention, Left, Right, Between\n",
    "for f in Get(Mention('P1'), 'lemma').apply(root):\n",
    "    print f"
   ]
  },
  {
   "cell_type": "code",
   "execution_count": 267,
   "metadata": {
    "collapsed": false
   },
   "outputs": [
    {
     "name": "stdout",
     "output_type": "stream",
     "text": [
      "LEMMA-BETWEEN-MENTION-MENTION[disease_disorder_cause_mutation_pkd1]\n"
     ]
    }
   ],
   "source": [
    "for f in Get(Between(Mention('P1'), Mention('G2')), 'lemma').apply(root):\n",
    "    print f"
   ]
  },
  {
   "cell_type": "markdown",
   "metadata": {},
   "source": [
    "# Notes"
   ]
  },
  {
   "cell_type": "markdown",
   "metadata": {},
   "source": [
    "## TreeDLib features\n",
    "\n",
    "Some interesting ones:\n",
    "* Anything involving **counting / aggregation**\n",
    "* In similar vein, **_path length_**\n",
    "\n",
    "Some good basic features _not_ involving external dictionaries\n",
    "* Siblings & subsets of sibling set / path to\n",
    "* Parents & subsets of the parent set / path to\n",
    "    * Candidate direct parent\n",
    "    * Cadidate sentence ROOT\n",
    "* **Path between** (relationships)\n",
    "\n",
    "As for features _involving a dictionary_, do we ever not just want the path from the candidate to the e.g. keyword...?\n",
    "* Path from one cadndidate entity to a KW\n",
    "* Indicator of whether KW is on path between two entities\n",
    "* Indicator of whether KW is in (sentence, paragraph, doc)"
   ]
  },
  {
   "cell_type": "markdown",
   "metadata": {},
   "source": [
    "## Integrating dictionaries\n",
    "\n",
    "Let's start with a simple example from DDLIB, path from candidate mention to keyword"
   ]
  },
  {
   "cell_type": "code",
   "execution_count": null,
   "metadata": {
    "collapsed": true
   },
   "outputs": [],
   "source": []
  }
 ],
 "metadata": {
  "kernelspec": {
   "display_name": "Python 2",
   "language": "python",
   "name": "python2"
  },
  "language_info": {
   "codemirror_mode": {
    "name": "ipython",
    "version": 2
   },
   "file_extension": ".py",
   "mimetype": "text/x-python",
   "name": "python",
   "nbconvert_exporter": "python",
   "pygments_lexer": "ipython2",
   "version": "2.7.10"
  }
 },
 "nbformat": 4,
 "nbformat_minor": 0
}
