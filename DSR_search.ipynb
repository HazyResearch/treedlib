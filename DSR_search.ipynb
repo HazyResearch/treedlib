{
 "cells": [
  {
   "cell_type": "code",
   "execution_count": 1,
   "metadata": {
    "collapsed": true
   },
   "outputs": [],
   "source": [
    "%load_ext autoreload\n",
    "%autoreload 2"
   ]
  },
  {
   "cell_type": "code",
   "execution_count": 10,
   "metadata": {
    "collapsed": false
   },
   "outputs": [
    {
     "data": {
      "text/html": [
       "<style>\n",
       ".node {\n",
       "      cursor: pointer;\n",
       "}\n",
       "\n",
       ".node circle {\n",
       "      fill: #fff;\n",
       "          stroke: steelblue;\n",
       "              stroke-width: 3px;\n",
       "}\n",
       "\n",
       ".node text {\n",
       "      font: 12px sans-serif;\n",
       "}\n",
       "\n",
       ".edge {\n",
       "      fill: none;\n",
       "          stroke: #ccc;\n",
       "              stroke-width: 2px;\n",
       "}\n",
       "</style>\n",
       "<div id=\"tree-chart\"></div>\n"
      ]
     },
     "metadata": {},
     "output_type": "display_data"
    },
    {
     "data": {
      "application/javascript": [
       "$.getScript(\"http://d3js.org/d3.v3.min.js\", function () {\n",
       "var root = {\"attrib\": {\"word\": \"disorder\", \"dep_parent\": 0, \"pos\": \"NN\", \"lemma\": \"disorder\", \"word_idx\": 80, \"ner\": \"O\"}, \"id\": 12, \"children\": [{\"attrib\": {\"word\": \"disease\", \"dep_parent\": 12, \"dep_label\": \"nsubj\", \"pos\": \"NN\", \"lemma\": \"disease\", \"word_idx\": 37, \"ner\": \"O\"}, \"id\": 5, \"children\": [{\"attrib\": {\"word\": \"Autosomal\", \"dep_parent\": 5, \"dep_label\": \"amod\", \"pos\": \"JJ\", \"lemma\": \"autosomal\", \"word_idx\": 0, \"ner\": \"O\"}, \"id\": 1, \"children\": []}, {\"attrib\": {\"word\": \"dominant\", \"dep_parent\": 5, \"dep_label\": \"amod\", \"pos\": \"JJ\", \"lemma\": \"dominant\", \"word_idx\": 10, \"ner\": \"O\"}, \"id\": 2, \"children\": []}, {\"attrib\": {\"word\": \"polycystic\", \"dep_parent\": 5, \"dep_label\": \"amod\", \"pos\": \"JJ\", \"lemma\": \"polycystic\", \"word_idx\": 19, \"ner\": \"O\"}, \"id\": 3, \"children\": []}, {\"attrib\": {\"word\": \"kidney\", \"dep_parent\": 5, \"dep_label\": \"nn\", \"pos\": \"NN\", \"lemma\": \"kidney\", \"word_idx\": 30, \"ner\": \"O\"}, \"id\": 4, \"children\": []}]}, {\"attrib\": {\"word\": \"is\", \"dep_parent\": 12, \"dep_label\": \"cop\", \"pos\": \"VBZ\", \"lemma\": \"be\", \"word_idx\": 45, \"ner\": \"O\"}, \"id\": 6, \"children\": []}, {\"attrib\": {\"word\": \"the\", \"dep_parent\": 12, \"dep_label\": \"det\", \"pos\": \"DT\", \"lemma\": \"the\", \"word_idx\": 48, \"ner\": \"O\"}, \"id\": 7, \"children\": []}, {\"attrib\": {\"word\": \"common\", \"dep_parent\": 12, \"dep_label\": \"amod\", \"pos\": \"JJ\", \"lemma\": \"common\", \"word_idx\": 57, \"ner\": \"O\"}, \"id\": 9, \"children\": [{\"attrib\": {\"word\": \"most\", \"dep_parent\": 9, \"dep_label\": \"advmod\", \"pos\": \"RBS\", \"lemma\": \"most\", \"word_idx\": 52, \"ner\": \"O\"}, \"id\": 8, \"children\": []}]}, {\"attrib\": {\"word\": \"human\", \"dep_parent\": 12, \"dep_label\": \"amod\", \"pos\": \"JJ\", \"lemma\": \"human\", \"word_idx\": 64, \"ner\": \"O\"}, \"id\": 10, \"children\": []}, {\"attrib\": {\"word\": \"monogenic\", \"dep_parent\": 12, \"dep_label\": \"amod\", \"pos\": \"JJ\", \"lemma\": \"monogenic\", \"word_idx\": 70, \"ner\": \"O\"}, \"id\": 11, \"children\": []}, {\"attrib\": {\"word\": \"caused\", \"dep_parent\": 12, \"dep_label\": \"conj_and\", \"pos\": \"VBN\", \"lemma\": \"cause\", \"word_idx\": 96, \"ner\": \"O\"}, \"id\": 15, \"children\": [{\"attrib\": {\"word\": \"is\", \"dep_parent\": 15, \"dep_label\": \"auxpass\", \"pos\": \"VBZ\", \"lemma\": \"be\", \"word_idx\": 93, \"ner\": \"O\"}, \"id\": 14, \"children\": []}, {\"attrib\": {\"word\": \"mutations\", \"dep_parent\": 15, \"dep_label\": \"agent\", \"pos\": \"NNS\", \"lemma\": \"mutation\", \"word_idx\": 106, \"ner\": \"O\"}, \"id\": 17, \"children\": [{\"attrib\": {\"word\": \"PKD1\", \"dep_parent\": 17, \"dep_label\": \"prep_in\", \"pos\": \"NN\", \"lemma\": \"pkd1\", \"word_idx\": 123, \"ner\": \"O\"}, \"id\": 20, \"children\": [{\"attrib\": {\"word\": \"the\", \"dep_parent\": 20, \"dep_label\": \"dep\", \"pos\": \"DT\", \"lemma\": \"the\", \"word_idx\": 119, \"ner\": \"O\"}, \"id\": 19, \"children\": []}, {\"attrib\": {\"word\": \"PKD2\", \"dep_parent\": 20, \"dep_label\": \"conj_or\", \"pos\": \"NN\", \"lemma\": \"pkd2\", \"word_idx\": 131, \"ner\": \"O\"}, \"id\": 22, \"children\": []}, {\"attrib\": {\"word\": \"genes\", \"dep_parent\": 20, \"dep_label\": \"dep\", \"pos\": \"NNS\", \"lemma\": \"gene\", \"word_idx\": 136, \"ner\": \"O\"}, \"id\": 23, \"children\": []}]}]}]}]}\n",
       "// See http://bl.ocks.org/d3noob/8375092\n",
       "\n",
       "// Tree variable is prepended to this file in python...\n",
       "// root = ...\n",
       "\n",
       "// Constants\n",
       "var margin = {top: 20, right: 20, bottom: 20, left: 20},\n",
       "width = 800 - margin.left - margin.right,\n",
       "height = 250 - margin.top - margin.bottom,\n",
       "R = 5;\n",
       "\n",
       "// Create the d3 tree object\n",
       "var tree = d3.layout.tree()\n",
       "  .size([width, height]);\n",
       "\n",
       "// Create the svg canvas\n",
       "var svg = d3.select(\"#tree-chart\")\n",
       "  .append(\"svg\")\n",
       "  .attr(\"width\", width + margin.left + margin.right)\n",
       "  .attr(\"height\", height + margin.top + margin.bottom)\n",
       "  .append(\"g\")\n",
       "  .attr(\"transform\", \"translate(\" + margin.left + \",\" + margin.top + \")\");\n",
       "\n",
       "function renderTree() {\n",
       "  var nodes = tree.nodes(root),\n",
       "  edges = tree.links(nodes);\n",
       "\n",
       "  // Place the nodes\n",
       "  var nodeGroups = svg.selectAll(\"g.node\")\n",
       "    .data(nodes)\n",
       "    .enter().append(\"g\")\n",
       "    .attr(\"class\", \"node\")\n",
       "    .attr(\"transform\", function(d) { return \"translate(\" + d.x + \",\" + d.y + \")\"; });\n",
       "       \n",
       "  // Append circles\n",
       "  nodeGroups.append(\"circle\")\n",
       "    .attr(\"r\", R);\n",
       "     \n",
       "  // Append the actual word\n",
       "  nodeGroups.append(\"text\")\n",
       "    .text(function(d) { return d.attrib.word; })\n",
       "    .attr(\"text-anchor\", function(d) { \n",
       "      return d.children && d.children.length > 0 ? \"start\" : \"middle\"; })\n",
       "    .attr(\"dx\", function(d) { \n",
       "      return d.children && d.children.length > 0 ? R + 3 : 0; })\n",
       "    .attr(\"dy\", function(d) { \n",
       "      return d.children && d.children.length > 0 ? 0 : 3*R + 3; });\n",
       "\n",
       "  // Place the edges\n",
       "  var edgePaths = svg.selectAll(\"path\")\n",
       "    .data(edges)\n",
       "    .enter().append(\"path\")\n",
       "    .attr(\"class\", \"edge\")\n",
       "    .attr(\"d\", d3.svg.diagonal());\n",
       "}\n",
       "\n",
       "renderTree();\n",
       "});\n"
      ]
     },
     "metadata": {},
     "output_type": "display_data"
    }
   ],
   "source": [
    "import json\n",
    "import lxml.etree as et\n",
    "from util import load_sentences, tag_candidate\n",
    "from tree_structs import DepTree\n",
    "dts = map(DepTree, load_sentences('test/test1.parsed.tsv'))\n",
    "dt = dts[1]\n",
    "tag_candidate(dt.root, ['Autosomal', 'dominant', 'polycystic', 'kidney', 'disease'], 'P1')\n",
    "tag_candidate(dt.root, ['PKD1'], 'G1')\n",
    "tag_candidate(dt.root, ['PKD2'], 'G2')\n",
    "dt.render_tree()\n",
    "root = dt.root"
   ]
  },
  {
   "cell_type": "code",
   "execution_count": 22,
   "metadata": {
    "collapsed": false
   },
   "outputs": [
    {
     "name": "stderr",
     "output_type": "stream",
     "text": [
      "[autoreload of tree_structs failed: Traceback (most recent call last):\n",
      "  File \"/Library/Python/2.7/site-packages/IPython/extensions/autoreload.py\", line 247, in check\n",
      "    superreload(m, reload, self.old_objects)\n",
      "NameError: name 'Tree' is not defined\n",
      "]\n"
     ]
    }
   ],
   "source": [
    "from tree_structs import XMLTree"
   ]
  },
  {
   "cell_type": "code",
   "execution_count": 11,
   "metadata": {
    "collapsed": false
   },
   "outputs": [],
   "source": [
    "root2 = root.xpath(\"//*[@cid='P1'][1]\")[0]"
   ]
  },
  {
   "cell_type": "code",
   "execution_count": 20,
   "metadata": {
    "collapsed": true
   },
   "outputs": [],
   "source": [
    "def to_js(root, nid=0):\n",
    "    js = {\n",
    "        'id': nid,\n",
    "        'attrib': dict(root.attrib),\n",
    "        'children': []}\n",
    "    for i,c in enumerate(root):\n",
    "        js['children'].append(to_js(c, nid=nid+i+1))\n",
    "    return js"
   ]
  },
  {
   "cell_type": "code",
   "execution_count": 21,
   "metadata": {
    "collapsed": false
   },
   "outputs": [
    {
     "data": {
      "text/plain": [
       "{'attrib': {'cid': 'P1',\n",
       "  'dep_label': 'nsubj',\n",
       "  'dep_parent': '12',\n",
       "  'id': '5',\n",
       "  'lemma': 'disease',\n",
       "  'ner': 'O',\n",
       "  'pos': 'NN',\n",
       "  'word': 'disease',\n",
       "  'word_idx': '37'},\n",
       " 'children': [{'attrib': {'cid': 'P1',\n",
       "    'dep_label': 'amod',\n",
       "    'dep_parent': '5',\n",
       "    'id': '1',\n",
       "    'lemma': 'autosomal',\n",
       "    'ner': 'O',\n",
       "    'pos': 'JJ',\n",
       "    'word': 'Autosomal',\n",
       "    'word_idx': '0'},\n",
       "   'children': [],\n",
       "   'id': 1},\n",
       "  {'attrib': {'cid': 'P1',\n",
       "    'dep_label': 'amod',\n",
       "    'dep_parent': '5',\n",
       "    'id': '2',\n",
       "    'lemma': 'dominant',\n",
       "    'ner': 'O',\n",
       "    'pos': 'JJ',\n",
       "    'word': 'dominant',\n",
       "    'word_idx': '10'},\n",
       "   'children': [],\n",
       "   'id': 2},\n",
       "  {'attrib': {'cid': 'P1',\n",
       "    'dep_label': 'amod',\n",
       "    'dep_parent': '5',\n",
       "    'id': '3',\n",
       "    'lemma': 'polycystic',\n",
       "    'ner': 'O',\n",
       "    'pos': 'JJ',\n",
       "    'word': 'polycystic',\n",
       "    'word_idx': '19'},\n",
       "   'children': [],\n",
       "   'id': 3},\n",
       "  {'attrib': {'cid': 'P1',\n",
       "    'dep_label': 'nn',\n",
       "    'dep_parent': '5',\n",
       "    'id': '4',\n",
       "    'lemma': 'kidney',\n",
       "    'ner': 'O',\n",
       "    'pos': 'NN',\n",
       "    'word': 'kidney',\n",
       "    'word_idx': '30'},\n",
       "   'children': [],\n",
       "   'id': 4}],\n",
       " 'id': 0}"
      ]
     },
     "execution_count": 21,
     "metadata": {},
     "output_type": "execute_result"
    }
   ],
   "source": [
    "to_js(root2)"
   ]
  },
  {
   "cell_type": "code",
   "execution_count": null,
   "metadata": {
    "collapsed": true
   },
   "outputs": [],
   "source": []
  }
 ],
 "metadata": {
  "kernelspec": {
   "display_name": "Python 2",
   "language": "python",
   "name": "python2"
  },
  "language_info": {
   "codemirror_mode": {
    "name": "ipython",
    "version": 2
   },
   "file_extension": ".py",
   "mimetype": "text/x-python",
   "name": "python",
   "nbconvert_exporter": "python",
   "pygments_lexer": "ipython2",
   "version": "2.7.10"
  }
 },
 "nbformat": 4,
 "nbformat_minor": 0
}
