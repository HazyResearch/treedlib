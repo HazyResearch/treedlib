{
 "cells": [
  {
   "cell_type": "code",
   "execution_count": 23,
   "metadata": {
    "collapsed": false
   },
   "outputs": [
    {
     "name": "stdout",
     "output_type": "stream",
     "text": [
      "The autoreload extension is already loaded. To reload it, use:\n",
      "  %reload_ext autoreload\n"
     ]
    }
   ],
   "source": [
    "%load_ext autoreload\n",
    "%autoreload 2"
   ]
  },
  {
   "cell_type": "code",
   "execution_count": 41,
   "metadata": {
    "collapsed": false
   },
   "outputs": [
    {
     "data": {
      "text/html": [
       "<style>\n",
       ".node {\n",
       "      cursor: pointer;\n",
       "}\n",
       "\n",
       ".node circle {\n",
       "      fill: #fff;\n",
       "          stroke: steelblue;\n",
       "              stroke-width: 3px;\n",
       "}\n",
       "\n",
       ".node text {\n",
       "      font: 12px sans-serif;\n",
       "}\n",
       "\n",
       ".edge {\n",
       "      fill: none;\n",
       "          stroke: #ccc;\n",
       "              stroke-width: 2px;\n",
       "}\n",
       "</style>\n",
       "\n",
       "<!--Provide the canvas id via python string formatting here--!>\n",
       "<div id=\"tree-chart-5872139965326478045\"></div>\n"
      ]
     },
     "metadata": {},
     "output_type": "display_data"
    },
    {
     "data": {
      "application/javascript": [
       "$.getScript(\"http://d3js.org/d3.v3.min.js\", function () {\n",
       "// See http://bl.ocks.org/d3noob/8375092\n",
       "// Two vars need to be provided via python string formatting: the tree, and the canvas id\n",
       "\n",
       "// JSON tree\n",
       "var root = {\"attrib\": {\"word\": \"disorder\", \"dep_parent\": \"0\", \"pos\": \"NN\", \"lemma\": \"disorder\", \"word_idx\": \"80\", \"ner\": \"O\"}, \"children\": [{\"attrib\": {\"word\": \"disease\", \"dep_parent\": \"12\", \"dep_label\": \"nsubj\", \"pos\": \"NN\", \"lemma\": \"disease\", \"word_idx\": \"37\", \"ner\": \"O\"}, \"children\": [{\"attrib\": {\"word\": \"Autosomal\", \"dep_parent\": \"5\", \"dep_label\": \"amod\", \"pos\": \"JJ\", \"lemma\": \"autosomal\", \"word_idx\": \"0\", \"ner\": \"O\"}, \"children\": []}, {\"attrib\": {\"word\": \"dominant\", \"dep_parent\": \"5\", \"dep_label\": \"amod\", \"pos\": \"JJ\", \"lemma\": \"dominant\", \"word_idx\": \"10\", \"ner\": \"O\"}, \"children\": []}, {\"attrib\": {\"word\": \"polycystic\", \"dep_parent\": \"5\", \"dep_label\": \"amod\", \"pos\": \"JJ\", \"lemma\": \"polycystic\", \"word_idx\": \"19\", \"ner\": \"O\"}, \"children\": []}, {\"attrib\": {\"word\": \"kidney\", \"dep_parent\": \"5\", \"dep_label\": \"nn\", \"pos\": \"NN\", \"lemma\": \"kidney\", \"word_idx\": \"30\", \"ner\": \"O\"}, \"children\": []}]}, {\"attrib\": {\"word\": \"is\", \"dep_parent\": \"12\", \"dep_label\": \"cop\", \"pos\": \"VBZ\", \"lemma\": \"be\", \"word_idx\": \"45\", \"ner\": \"O\"}, \"children\": []}, {\"attrib\": {\"word\": \"the\", \"dep_parent\": \"12\", \"dep_label\": \"det\", \"pos\": \"DT\", \"lemma\": \"the\", \"word_idx\": \"48\", \"ner\": \"O\"}, \"children\": []}, {\"attrib\": {\"word\": \"common\", \"dep_parent\": \"12\", \"dep_label\": \"amod\", \"pos\": \"JJ\", \"lemma\": \"common\", \"word_idx\": \"57\", \"ner\": \"O\"}, \"children\": [{\"attrib\": {\"word\": \"most\", \"dep_parent\": \"9\", \"dep_label\": \"advmod\", \"pos\": \"RBS\", \"lemma\": \"most\", \"word_idx\": \"52\", \"ner\": \"O\"}, \"children\": []}]}, {\"attrib\": {\"word\": \"human\", \"dep_parent\": \"12\", \"dep_label\": \"amod\", \"pos\": \"JJ\", \"lemma\": \"human\", \"word_idx\": \"64\", \"ner\": \"O\"}, \"children\": []}, {\"attrib\": {\"word\": \"monogenic\", \"dep_parent\": \"12\", \"dep_label\": \"amod\", \"pos\": \"JJ\", \"lemma\": \"monogenic\", \"word_idx\": \"70\", \"ner\": \"O\"}, \"children\": []}, {\"attrib\": {\"word\": \"caused\", \"dep_parent\": \"12\", \"dep_label\": \"conj_and\", \"pos\": \"VBN\", \"lemma\": \"cause\", \"word_idx\": \"96\", \"ner\": \"O\"}, \"children\": [{\"attrib\": {\"word\": \"is\", \"dep_parent\": \"15\", \"dep_label\": \"auxpass\", \"pos\": \"VBZ\", \"lemma\": \"be\", \"word_idx\": \"93\", \"ner\": \"O\"}, \"children\": []}, {\"attrib\": {\"word\": \"mutations\", \"dep_parent\": \"15\", \"dep_label\": \"agent\", \"pos\": \"NNS\", \"lemma\": \"mutation\", \"word_idx\": \"106\", \"ner\": \"O\"}, \"children\": [{\"attrib\": {\"word\": \"PKD1\", \"dep_parent\": \"17\", \"dep_label\": \"prep_in\", \"pos\": \"NN\", \"lemma\": \"pkd1\", \"word_idx\": \"123\", \"ner\": \"O\"}, \"children\": [{\"attrib\": {\"word\": \"the\", \"dep_parent\": \"20\", \"dep_label\": \"dep\", \"pos\": \"DT\", \"lemma\": \"the\", \"word_idx\": \"119\", \"ner\": \"O\"}, \"children\": []}, {\"attrib\": {\"word\": \"PKD2\", \"dep_parent\": \"20\", \"dep_label\": \"conj_or\", \"pos\": \"NN\", \"lemma\": \"pkd2\", \"word_idx\": \"131\", \"ner\": \"O\"}, \"children\": []}, {\"attrib\": {\"word\": \"genes\", \"dep_parent\": \"20\", \"dep_label\": \"dep\", \"pos\": \"NNS\", \"lemma\": \"gene\", \"word_idx\": \"136\", \"ner\": \"O\"}, \"children\": []}]}]}]}]};\n",
       "\n",
       "// Constants\n",
       "var margin = {top: 20, right: 20, bottom: 20, left: 20},\n",
       "width = 800 - margin.left - margin.right,\n",
       "height = 250 - margin.top - margin.bottom,\n",
       "R = 5;\n",
       "\n",
       "// Create the d3 tree object\n",
       "var tree = d3.layout.tree()\n",
       "  .size([width, height]);\n",
       "\n",
       "// Create the svg canvas\n",
       "var svg = d3.select(\"#tree-chart-5872139965326478045\")\n",
       "  .append(\"svg\")\n",
       "  .attr(\"width\", width + margin.left + margin.right)\n",
       "  .attr(\"height\", height + margin.top + margin.bottom)\n",
       "  .append(\"g\")\n",
       "  .attr(\"transform\", \"translate(\" + margin.left + \",\" + margin.top + \")\");\n",
       "\n",
       "function renderTree() {\n",
       "  var nodes = tree.nodes(root),\n",
       "  edges = tree.links(nodes);\n",
       "\n",
       "  // Place the nodes\n",
       "  var nodeGroups = svg.selectAll(\"g.node\")\n",
       "    .data(nodes)\n",
       "    .enter().append(\"g\")\n",
       "    .attr(\"class\", \"node\")\n",
       "    .attr(\"transform\", function(d) { return \"translate(\" + d.x + \",\" + d.y + \")\"; });\n",
       "       \n",
       "  // Append circles\n",
       "  nodeGroups.append(\"circle\")\n",
       "    .attr(\"r\", R);\n",
       "     \n",
       "  // Append the actual word\n",
       "  nodeGroups.append(\"text\")\n",
       "    .text(function(d) { return d.attrib.word; })\n",
       "    .attr(\"text-anchor\", function(d) { \n",
       "      return d.children && d.children.length > 0 ? \"start\" : \"middle\"; })\n",
       "    .attr(\"dx\", function(d) { \n",
       "      return d.children && d.children.length > 0 ? R + 3 : 0; })\n",
       "    .attr(\"dy\", function(d) { \n",
       "      return d.children && d.children.length > 0 ? 0 : 3*R + 3; });\n",
       "\n",
       "  // Place the edges\n",
       "  var edgePaths = svg.selectAll(\"path\")\n",
       "    .data(edges)\n",
       "    .enter().append(\"path\")\n",
       "    .attr(\"class\", \"edge\")\n",
       "    .attr(\"d\", d3.svg.diagonal());\n",
       "}\n",
       "\n",
       "renderTree();\n",
       "});\n"
      ]
     },
     "metadata": {},
     "output_type": "display_data"
    }
   ],
   "source": [
    "import lxml.etree as et\n",
    "from util import load_sentences, tag_candidate\n",
    "from tree_structs import sentence_to_xmltree, XMLTree\n",
    "dts = map(sentence_to_xmltree, load_sentences('test/test1.parsed.tsv'))\n",
    "dt = dts[1]\n",
    "tag_candidate(dt.root, ['Autosomal', 'dominant', 'polycystic', 'kidney', 'disease'], 'P1')\n",
    "tag_candidate(dt.root, ['PKD1'], 'G1')\n",
    "tag_candidate(dt.root, ['PKD2'], 'G2')\n",
    "dt.to_str()\n",
    "dt.render_tree()\n",
    "root = dt.root"
   ]
  },
  {
   "cell_type": "markdown",
   "metadata": {},
   "source": [
    "### Step 1: Reconfiguring the tree for flattening\n",
    "\n",
    "We think if we reconfigure the tree so that one of the two candidates is the root, things will be much easier...\n",
    "\n",
    "**TODO: write this algorithm!!**"
   ]
  },
  {
   "cell_type": "code",
   "execution_count": null,
   "metadata": {
    "collapsed": true
   },
   "outputs": [],
   "source": [
    "def reconfig_tree_cid(new_root):\n",
    "    \"\"\"\n",
    "    Given a node, remove all parents and add as children\n",
    "    so that this node becomes the new root\n",
    "    \"\"\"\n",
    "    # Check to see if the new root has any parents...\n",
    "    parent = new_root"
   ]
  },
  {
   "cell_type": "code",
   "execution_count": 42,
   "metadata": {
    "collapsed": false
   },
   "outputs": [],
   "source": [
    "new_root = root.xpath(\"//*[@cid='P1'][1]\")[0]\n",
    "new_root_parent = new_root.xpath(\"..\")[0]\n",
    "new_root_parent.remove(new_root)\n",
    "new_root.append(new_root_parent)"
   ]
  },
  {
   "cell_type": "code",
   "execution_count": 43,
   "metadata": {
    "collapsed": false
   },
   "outputs": [
    {
     "data": {
      "text/html": [
       "<style>\n",
       ".node {\n",
       "      cursor: pointer;\n",
       "}\n",
       "\n",
       ".node circle {\n",
       "      fill: #fff;\n",
       "          stroke: steelblue;\n",
       "              stroke-width: 3px;\n",
       "}\n",
       "\n",
       ".node text {\n",
       "      font: 12px sans-serif;\n",
       "}\n",
       "\n",
       ".edge {\n",
       "      fill: none;\n",
       "          stroke: #ccc;\n",
       "              stroke-width: 2px;\n",
       "}\n",
       "</style>\n",
       "\n",
       "<!--Provide the canvas id via python string formatting here--!>\n",
       "<div id=\"tree-chart-3126294163800206279\"></div>\n"
      ]
     },
     "metadata": {},
     "output_type": "display_data"
    },
    {
     "data": {
      "application/javascript": [
       "$.getScript(\"http://d3js.org/d3.v3.min.js\", function () {\n",
       "// See http://bl.ocks.org/d3noob/8375092\n",
       "// Two vars need to be provided via python string formatting: the tree, and the canvas id\n",
       "\n",
       "// JSON tree\n",
       "var root = {\"attrib\": {\"word\": \"disease\", \"dep_parent\": \"12\", \"dep_label\": \"nsubj\", \"cid\": \"P1\", \"pos\": \"NN\", \"lemma\": \"disease\", \"word_idx\": \"37\", \"ner\": \"O\"}, \"children\": [{\"attrib\": {\"word\": \"Autosomal\", \"dep_parent\": \"5\", \"dep_label\": \"amod\", \"cid\": \"P1\", \"pos\": \"JJ\", \"lemma\": \"autosomal\", \"word_idx\": \"0\", \"ner\": \"O\"}, \"children\": []}, {\"attrib\": {\"word\": \"dominant\", \"dep_parent\": \"5\", \"dep_label\": \"amod\", \"cid\": \"P1\", \"pos\": \"JJ\", \"lemma\": \"dominant\", \"word_idx\": \"10\", \"ner\": \"O\"}, \"children\": []}, {\"attrib\": {\"word\": \"polycystic\", \"dep_parent\": \"5\", \"dep_label\": \"amod\", \"cid\": \"P1\", \"pos\": \"JJ\", \"lemma\": \"polycystic\", \"word_idx\": \"19\", \"ner\": \"O\"}, \"children\": []}, {\"attrib\": {\"word\": \"kidney\", \"dep_parent\": \"5\", \"dep_label\": \"nn\", \"cid\": \"P1\", \"pos\": \"NN\", \"lemma\": \"kidney\", \"word_idx\": \"30\", \"ner\": \"O\"}, \"children\": []}, {\"attrib\": {\"word\": \"disorder\", \"dep_parent\": \"0\", \"pos\": \"NN\", \"lemma\": \"disorder\", \"word_idx\": \"80\", \"ner\": \"O\"}, \"children\": [{\"attrib\": {\"word\": \"is\", \"dep_parent\": \"12\", \"dep_label\": \"cop\", \"pos\": \"VBZ\", \"lemma\": \"be\", \"word_idx\": \"45\", \"ner\": \"O\"}, \"children\": []}, {\"attrib\": {\"word\": \"the\", \"dep_parent\": \"12\", \"dep_label\": \"det\", \"pos\": \"DT\", \"lemma\": \"the\", \"word_idx\": \"48\", \"ner\": \"O\"}, \"children\": []}, {\"attrib\": {\"word\": \"common\", \"dep_parent\": \"12\", \"dep_label\": \"amod\", \"pos\": \"JJ\", \"lemma\": \"common\", \"word_idx\": \"57\", \"ner\": \"O\"}, \"children\": [{\"attrib\": {\"word\": \"most\", \"dep_parent\": \"9\", \"dep_label\": \"advmod\", \"pos\": \"RBS\", \"lemma\": \"most\", \"word_idx\": \"52\", \"ner\": \"O\"}, \"children\": []}]}, {\"attrib\": {\"word\": \"human\", \"dep_parent\": \"12\", \"dep_label\": \"amod\", \"pos\": \"JJ\", \"lemma\": \"human\", \"word_idx\": \"64\", \"ner\": \"O\"}, \"children\": []}, {\"attrib\": {\"word\": \"monogenic\", \"dep_parent\": \"12\", \"dep_label\": \"amod\", \"pos\": \"JJ\", \"lemma\": \"monogenic\", \"word_idx\": \"70\", \"ner\": \"O\"}, \"children\": []}, {\"attrib\": {\"word\": \"caused\", \"dep_parent\": \"12\", \"dep_label\": \"conj_and\", \"pos\": \"VBN\", \"lemma\": \"cause\", \"word_idx\": \"96\", \"ner\": \"O\"}, \"children\": [{\"attrib\": {\"word\": \"is\", \"dep_parent\": \"15\", \"dep_label\": \"auxpass\", \"pos\": \"VBZ\", \"lemma\": \"be\", \"word_idx\": \"93\", \"ner\": \"O\"}, \"children\": []}, {\"attrib\": {\"word\": \"mutations\", \"dep_parent\": \"15\", \"dep_label\": \"agent\", \"pos\": \"NNS\", \"lemma\": \"mutation\", \"word_idx\": \"106\", \"ner\": \"O\"}, \"children\": [{\"attrib\": {\"word\": \"PKD1\", \"dep_parent\": \"17\", \"dep_label\": \"prep_in\", \"cid\": \"G1\", \"pos\": \"NN\", \"lemma\": \"pkd1\", \"word_idx\": \"123\", \"ner\": \"O\"}, \"children\": [{\"attrib\": {\"word\": \"the\", \"dep_parent\": \"20\", \"dep_label\": \"dep\", \"pos\": \"DT\", \"lemma\": \"the\", \"word_idx\": \"119\", \"ner\": \"O\"}, \"children\": []}, {\"attrib\": {\"word\": \"PKD2\", \"dep_parent\": \"20\", \"dep_label\": \"conj_or\", \"cid\": \"G2\", \"pos\": \"NN\", \"lemma\": \"pkd2\", \"word_idx\": \"131\", \"ner\": \"O\"}, \"children\": []}, {\"attrib\": {\"word\": \"genes\", \"dep_parent\": \"20\", \"dep_label\": \"dep\", \"pos\": \"NNS\", \"lemma\": \"gene\", \"word_idx\": \"136\", \"ner\": \"O\"}, \"children\": []}]}]}]}]}]};\n",
       "\n",
       "// Constants\n",
       "var margin = {top: 20, right: 20, bottom: 20, left: 20},\n",
       "width = 800 - margin.left - margin.right,\n",
       "height = 250 - margin.top - margin.bottom,\n",
       "R = 5;\n",
       "\n",
       "// Create the d3 tree object\n",
       "var tree = d3.layout.tree()\n",
       "  .size([width, height]);\n",
       "\n",
       "// Create the svg canvas\n",
       "var svg = d3.select(\"#tree-chart-3126294163800206279\")\n",
       "  .append(\"svg\")\n",
       "  .attr(\"width\", width + margin.left + margin.right)\n",
       "  .attr(\"height\", height + margin.top + margin.bottom)\n",
       "  .append(\"g\")\n",
       "  .attr(\"transform\", \"translate(\" + margin.left + \",\" + margin.top + \")\");\n",
       "\n",
       "function renderTree() {\n",
       "  var nodes = tree.nodes(root),\n",
       "  edges = tree.links(nodes);\n",
       "\n",
       "  // Place the nodes\n",
       "  var nodeGroups = svg.selectAll(\"g.node\")\n",
       "    .data(nodes)\n",
       "    .enter().append(\"g\")\n",
       "    .attr(\"class\", \"node\")\n",
       "    .attr(\"transform\", function(d) { return \"translate(\" + d.x + \",\" + d.y + \")\"; });\n",
       "       \n",
       "  // Append circles\n",
       "  nodeGroups.append(\"circle\")\n",
       "    .attr(\"r\", R);\n",
       "     \n",
       "  // Append the actual word\n",
       "  nodeGroups.append(\"text\")\n",
       "    .text(function(d) { return d.attrib.word; })\n",
       "    .attr(\"text-anchor\", function(d) { \n",
       "      return d.children && d.children.length > 0 ? \"start\" : \"middle\"; })\n",
       "    .attr(\"dx\", function(d) { \n",
       "      return d.children && d.children.length > 0 ? R + 3 : 0; })\n",
       "    .attr(\"dy\", function(d) { \n",
       "      return d.children && d.children.length > 0 ? 0 : 3*R + 3; });\n",
       "\n",
       "  // Place the edges\n",
       "  var edgePaths = svg.selectAll(\"path\")\n",
       "    .data(edges)\n",
       "    .enter().append(\"path\")\n",
       "    .attr(\"class\", \"edge\")\n",
       "    .attr(\"d\", d3.svg.diagonal());\n",
       "}\n",
       "\n",
       "renderTree();\n",
       "});\n"
      ]
     },
     "metadata": {},
     "output_type": "display_data"
    }
   ],
   "source": [
    "XMLTree(new_root).render_tree()"
   ]
  },
  {
   "cell_type": "markdown",
   "metadata": {
    "collapsed": true
   },
   "source": [
    "### 2. Flatten tree"
   ]
  },
  {
   "cell_type": "code",
   "execution_count": 44,
   "metadata": {
    "collapsed": true
   },
   "outputs": [],
   "source": [
    "def flat_tree(root):\n",
    "    if root.get('dep_label') is not None:\n",
    "        s = '[%s]> %s' % (root.get('dep_label'), root.get('word'))\n",
    "    else:\n",
    "        s = root.get('word')\n",
    "    if len(root) > 0:\n",
    "        s += ' ( %s )' % ', '.join(flat_tree(c) for c in root)\n",
    "    return s"
   ]
  },
  {
   "cell_type": "code",
   "execution_count": null,
   "metadata": {
    "collapsed": true
   },
   "outputs": [],
   "source": []
  }
 ],
 "metadata": {
  "kernelspec": {
   "display_name": "Python 2",
   "language": "python",
   "name": "python2"
  },
  "language_info": {
   "codemirror_mode": {
    "name": "ipython",
    "version": 2
   },
   "file_extension": ".py",
   "mimetype": "text/x-python",
   "name": "python",
   "nbconvert_exporter": "python",
   "pygments_lexer": "ipython2",
   "version": "2.7.10"
  }
 },
 "nbformat": 4,
 "nbformat_minor": 0
}
